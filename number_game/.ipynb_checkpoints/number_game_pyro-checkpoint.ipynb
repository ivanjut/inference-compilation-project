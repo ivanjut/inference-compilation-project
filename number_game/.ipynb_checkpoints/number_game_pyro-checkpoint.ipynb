{
 "cells": [
  {
   "cell_type": "code",
   "execution_count": 1,
   "metadata": {},
   "outputs": [],
   "source": [
    "import torch\n",
    "import torch.nn as nn\n",
    "import torch.functional as F\n",
    "\n",
    "import pyro\n",
    "import pyro.distributions as dist\n",
    "import pyro.infer\n",
    "import pyro.optim"
   ]
  },
  {
   "cell_type": "markdown",
   "metadata": {},
   "source": [
    "# Concept"
   ]
  },
  {
   "cell_type": "code",
   "execution_count": 2,
   "metadata": {},
   "outputs": [],
   "source": [
    "class Concept:\n",
    "    \n",
    "    def __init__(self, mult, params):\n",
    "        \"\"\"\n",
    "        :param mult: boolean flag that is True if concept is multiple, False if concept is range\n",
    "        :param params: list of params - [mult] if multiple concept, [start, end] if range concept\n",
    "        \"\"\"\n",
    "        self.mult = mult\n",
    "        self.params = params\n",
    "        self._numbers = self._populate_numbers()\n",
    "        self._probs = np.zeros(101)\n",
    "        self._probs[self._numbers] = 1\n",
    "    \n",
    "    \n",
    "    def _populate_numbers(self):\n",
    "        \"\"\"\n",
    "        Fill in the number set for the concept\n",
    "        \"\"\"\n",
    "        if self.mult:\n",
    "            if (self.params[0] < 0) or (self.params[0] > 100):\n",
    "                raise Exception('Invalid multiple for concept.')\n",
    "            \n",
    "            if not isinstance(self.params[0], int):\n",
    "                raise Exception('Multiple must be an integer.')\n",
    "                \n",
    "            numbers = np.arange(self.params[0], 101, self.params[0])\n",
    "            return numbers\n",
    "        else:\n",
    "            start, end = self.params[0], self.params[1]\n",
    "            \n",
    "            if (start < 0) or (end > 100) or (start > end):\n",
    "                raise Exception('Invalid interval for concept.')\n",
    "            \n",
    "            if not (isinstance(start, int) and isinstance(end, int)):\n",
    "                raise Exception('Start and end must be integers.')\n",
    "                \n",
    "            numbers = np.arange(start, end+1)\n",
    "            return numbers\n",
    "        \n",
    "        \n",
    "    def sample(self, num_samples):\n",
    "        \"\"\"\n",
    "        Sample num_samples observations from the concept\n",
    "        \"\"\"\n",
    "        samples = []\n",
    "\n",
    "        for i in range(num_samples):\n",
    "            sample = random.choice(self.numbers)\n",
    "            samples.append(sample)\n",
    "\n",
    "        return samples\n",
    "    \n",
    "    \n",
    "    def __repr__(self):\n",
    "        if self.mult:\n",
    "            return 'Multiples of {}: {}'.format(self.params[0], self.numbers)\n",
    "        else:\n",
    "            return 'Range [{}, {}]: {}'.format(self.params[0], self.params[1], self.numbers)\n",
    "    \n",
    "    @property\n",
    "    def numbers(self):\n",
    "        return self._numbers\n",
    "\n",
    "    @property\n",
    "    def probs(self):\n",
    "        return self._probs\n",
    "    \n",
    "    def __len__(self):\n",
    "        return self._numbers.shape[0]"
   ]
  },
  {
   "cell_type": "markdown",
   "metadata": {},
   "source": [
    "# Generative model"
   ]
  },
  {
   "cell_type": "code",
   "execution_count": null,
   "metadata": {},
   "outputs": [],
   "source": []
  }
 ],
 "metadata": {
  "kernelspec": {
   "display_name": "Python 3",
   "language": "python",
   "name": "python3"
  },
  "language_info": {
   "codemirror_mode": {
    "name": "ipython",
    "version": 3
   },
   "file_extension": ".py",
   "mimetype": "text/x-python",
   "name": "python",
   "nbconvert_exporter": "python",
   "pygments_lexer": "ipython3",
   "version": "3.7.4"
  }
 },
 "nbformat": 4,
 "nbformat_minor": 2
}
