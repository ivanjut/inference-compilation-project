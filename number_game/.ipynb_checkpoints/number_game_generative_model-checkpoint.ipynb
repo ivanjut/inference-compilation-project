{
 "cells": [
  {
   "cell_type": "code",
   "execution_count": 1,
   "metadata": {},
   "outputs": [
    {
     "data": {
      "text/plain": [
       "<Figure size 432x288 with 0 Axes>"
      ]
     },
     "metadata": {},
     "output_type": "display_data"
    }
   ],
   "source": [
    "import pyprob\n",
    "from pyprob import Model\n",
    "from pyprob.distributions import Normal, Uniform\n",
    "\n",
    "import torch\n",
    "import numpy as np\n",
    "import math\n",
    "import matplotlib.pyplot as plt\n",
    "%matplotlib inline\n",
    "fig = plt.figure();"
   ]
  },
  {
   "cell_type": "code",
   "execution_count": 9,
   "metadata": {},
   "outputs": [],
   "source": [
    "class NumberGame(Model):\n",
    "    def __init__(self):\n",
    "        super().__init__(name='Number game') # give the model a name\n",
    "#         self.prior_mean = 1\n",
    "#         self.prior_std = math.sqrt(5)\n",
    "#         self.likelihood_std = math.sqrt(2)\n",
    "        \n",
    "    def generate_multiple_concept(multiple):\n",
    "        \"\"\"\n",
    "        Generates a set of all multiples of multiple from [1,... , 100]\n",
    "        \"\"\"\n",
    "        numbers = np.arange(multiple, 101, multiple)\n",
    "        return set(numbers)\n",
    "    \n",
    "    def generate_range_concept(start, end):\n",
    "        \"\"\"\n",
    "        Generates a set of numbers from [start, ..., end] inclusive\n",
    "        \"\"\"\n",
    "        \n",
    "        if (start < 0) or (end > 100) or (start > end):\n",
    "            raise Exception('Invalid Interval')\n",
    "        \n",
    "        numbers = np.arange(start, end+1)\n",
    "        return set(numbers)\n",
    "        \n",
    "#     def marsaglia(self, mean, stddev):\n",
    "#         uniform = Uniform(-1, 1)\n",
    "#         s = 1\n",
    "#         while float(s) >= 1:\n",
    "#             x = pyprob.sample(uniform)\n",
    "#             y = pyprob.sample(uniform)\n",
    "#             s = x*x + y*y\n",
    "#         return mean + stddev * (x * torch.sqrt(-2 * torch.log(s) / s))\n",
    "\n",
    "    def forward(self): # Needed to specify how the generative model is run forward\n",
    "        # sample the (latent) mean variable to be inferred:\n",
    "        mu = self.marsaglia(self.prior_mean, self.prior_std)\n",
    "\n",
    "        # define the likelihood\n",
    "        likelihood = Normal(mu, self.likelihood_std)\n",
    "\n",
    "        # Lets add two observed variables\n",
    "        # -> the 'name' argument is used later to assignment values:\n",
    "        pyprob.observe(likelihood, name='obs0') # NOTE: observe -> denotes observable variables\n",
    "        pyprob.observe(likelihood, name='obs1')\n",
    "\n",
    "        # return the latent quantity of interest\n",
    "        return mu\n",
    "    \n",
    "model = NumberGame()"
   ]
  },
  {
   "cell_type": "code",
   "execution_count": 12,
   "metadata": {},
   "outputs": [
    {
     "data": {
      "text/plain": [
       "{3, 4, 5, 6, 7, 8, 9}"
      ]
     },
     "execution_count": 12,
     "metadata": {},
     "output_type": "execute_result"
    }
   ],
   "source": [
    "numbers = np.arange(3, 10)\n",
    "set(numbers)"
   ]
  },
  {
   "cell_type": "code",
   "execution_count": null,
   "metadata": {},
   "outputs": [],
   "source": []
  }
 ],
 "metadata": {
  "kernelspec": {
   "display_name": "Python 3",
   "language": "python",
   "name": "python3"
  },
  "language_info": {
   "codemirror_mode": {
    "name": "ipython",
    "version": 3
   },
   "file_extension": ".py",
   "mimetype": "text/x-python",
   "name": "python",
   "nbconvert_exporter": "python",
   "pygments_lexer": "ipython3",
   "version": "3.7.4"
  }
 },
 "nbformat": 4,
 "nbformat_minor": 2
}
