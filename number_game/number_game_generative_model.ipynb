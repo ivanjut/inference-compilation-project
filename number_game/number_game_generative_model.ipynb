{
 "cells": [
  {
   "cell_type": "code",
   "execution_count": 1,
   "metadata": {
    "hideCode": false,
    "hidePrompt": false
   },
   "outputs": [],
   "source": [
    "import  matplotlib\n",
    "%matplotlib inline\n",
    "import matplotlib.pyplot as plt;\n",
    "import seaborn as sns; sns.set()\n",
    "\n",
    "import pyprob\n",
    "from pyprob import Model\n",
    "from pyprob.distributions import Normal, Uniform, Categorical, Beta\n",
    "\n",
    "import torch\n",
    "import numpy as np\n",
    "import pandas as pd\n",
    "import math\n",
    "import random"
   ]
  },
  {
   "cell_type": "markdown",
   "metadata": {
    "hideCode": false,
    "hidePrompt": false
   },
   "source": [
    "# Concept"
   ]
  },
  {
   "cell_type": "code",
   "execution_count": 3,
   "metadata": {
    "hideCode": false,
    "hidePrompt": false
   },
   "outputs": [],
   "source": [
    "class Concept:\n",
    "    \n",
    "    def __init__(self, mult, params, max_num):\n",
    "        \"\"\"\n",
    "        :param mult: boolean flag that is True if concept is multiple, False if concept is range\n",
    "        :param params: list of params - [mult] if multiple concept, [start, end] if range concept\n",
    "        \"\"\"\n",
    "        self.mult = mult\n",
    "        self.params = params\n",
    "        self.max_num = max_num\n",
    "        self._numbers = self._populate_numbers()\n",
    "        self._probs = np.zeros(max_num + 1)\n",
    "        self._probs[self._numbers] = 1\n",
    "    \n",
    "    \n",
    "    def _populate_numbers(self):\n",
    "        \"\"\"\n",
    "        Fill in the number set for the concept\n",
    "        \"\"\"\n",
    "        if self.mult:\n",
    "            if (self.params[0] < 0) or (self.params[0] > self.max_num):\n",
    "                raise Exception('Invalid multiple for concept.')\n",
    "            \n",
    "            if not isinstance(self.params[0], int):\n",
    "                raise Exception('Multiple must be an integer.')\n",
    "                \n",
    "            numbers = np.arange(self.params[0], self.max_num + 1, self.params[0])\n",
    "            return numbers\n",
    "        else:\n",
    "            start, end = self.params[0], self.params[1]\n",
    "            \n",
    "            if (start < 0) or (end > self.max_num) or (start > end):\n",
    "                raise Exception('Invalid interval for concept.')\n",
    "            \n",
    "            if not (isinstance(start, int) and isinstance(end, int)):\n",
    "                raise Exception('Start and end must be integers.')\n",
    "                \n",
    "            numbers = np.arange(start, end+1)\n",
    "            return numbers\n",
    "        \n",
    "        \n",
    "    def sample(self, num_samples):\n",
    "        \"\"\"\n",
    "        Sample num_samples observations from the concept\n",
    "        \"\"\"\n",
    "        samples = []\n",
    "\n",
    "        for i in range(num_samples):\n",
    "            sample = random.choice(self.numbers)\n",
    "            samples.append(sample)\n",
    "\n",
    "        return samples\n",
    "    \n",
    "    \n",
    "    def __repr__(self):\n",
    "        if self.mult:\n",
    "            return 'Multiples of {}'.format(self.params[0], self.numbers)\n",
    "        else:\n",
    "            return 'Range [{}, {}]'.format(self.params[0], self.params[1], self.numbers)\n",
    "    \n",
    "    @property\n",
    "    def numbers(self):\n",
    "        return self._numbers\n",
    "\n",
    "    @property\n",
    "    def probs(self):\n",
    "        return self._probs\n",
    "    \n",
    "    def __len__(self):\n",
    "        return self._numbers.shape[0]"
   ]
  },
  {
   "cell_type": "markdown",
   "metadata": {
    "hideCode": false,
    "hidePrompt": false
   },
   "source": [
    "# Generative model"
   ]
  },
  {
   "cell_type": "code",
   "execution_count": 146,
   "metadata": {
    "hideCode": false,
    "hidePrompt": false
   },
   "outputs": [],
   "source": [
    "class NumberGame(Model):\n",
    "    \n",
    "    def __init__(self, max_num, mult_range_start, mult_range_end, interval_range_length, mult_weight):\n",
    "        super().__init__(name='Number game')\n",
    "        self.max_num = max_num\n",
    "        self.mult_range_start = mult_range_start\n",
    "        self.mult_range_end = mult_range_end\n",
    "        self.interval_range_length = interval_range_length\n",
    "        self.mult_weight = mult_weight\n",
    "        self.concepts, self.concept_probs = self.generate_all_concepts()\n",
    "        \n",
    "    \n",
    "    def _generate_multiple_concept(self, multiple):\n",
    "        \"\"\"\n",
    "        Generates a set of all multiples of multiple from [1,... , max_num]\n",
    "        :param multiple: integer from [1, max_num]\n",
    "        \"\"\"\n",
    "        mult_concept = Concept(True, [multiple], self.max_num)\n",
    "        return mult_concept\n",
    "    \n",
    "    \n",
    "    def _generate_range_concept(self, start, end):\n",
    "        \"\"\"\n",
    "        Generates a set of numbers from [start, ..., end] inclusive\n",
    "        \"\"\"\n",
    "        range_concept = Concept(False, [start, end], self.max_num)\n",
    "        return range_concept\n",
    "    \n",
    "    \n",
    "    def generate_all_concepts(self):\n",
    "        \"\"\"\n",
    "        Generate a set of all concepts as specified by parameters\n",
    "        \"\"\"\n",
    "        concepts = []\n",
    "        \n",
    "        for multiple in range(self.mult_range_start, self.mult_range_end + 1):\n",
    "            mult_concept = self._generate_multiple_concept(multiple)\n",
    "            concepts.append(mult_concept)\n",
    "            \n",
    "        i = 1\n",
    "        while i + self.interval_range_length <= 100:\n",
    "            range_concept = self._generate_range_concept(i, i + self.interval_range_length)\n",
    "            concepts.append(range_concept)\n",
    "            i += 1\n",
    "        \n",
    "        concept_probs = np.ones(len(concepts))\n",
    "        return (concepts, concept_probs)\n",
    "\n",
    "    \n",
    "    def forward(self):\n",
    "        \"\"\"\n",
    "        Generative sampling process\n",
    "        \"\"\"\n",
    "        concepts = self.concepts\n",
    "        concept_probs = self.concept_probs\n",
    "        \n",
    "        is_mult_concept = int(pyprob.sample(Categorical([self.mult_weight,1])).item()) == 0\n",
    "        if is_mult_concept:\n",
    "            concept_probs = np.concatenate((np.ones(self.mult_range_end - self.mult_range_start + 1), np.zeros(self.max_num - self.interval_range_length)))\n",
    "        else:\n",
    "            concept_probs = np.concatenate((np.zeros(self.mult_range_end - self.mult_range_start + 1), np.ones(self.max_num - self.interval_range_length)))\n",
    "            \n",
    "        concept_index = pyprob.sample(Categorical(concept_probs))\n",
    "        concept_index = int(concept_index.item())\n",
    "        concept = concepts[concept_index]\n",
    "        \n",
    "        # define the likelihood\n",
    "        likelihood = Categorical(concept.probs)\n",
    "\n",
    "        # Lets add two observed variables\n",
    "        # -> the 'name' argument is used later to assignment values:\n",
    "        pyprob.observe(likelihood, name='obs1') # NOTE: observe -> denotes observable variables\n",
    "        pyprob.observe(likelihood, name='obs2')\n",
    "        pyprob.observe(likelihood, name='obs3')\n",
    "\n",
    "        # return the latent quantity of interest\n",
    "#         print(concept)\n",
    "        return int(concept_index)\n",
    "    \n",
    "model = NumberGame(max_num=100, mult_range_start=2, mult_range_end=10, interval_range_length=10, mult_weight=3)\n",
    "model_nn = NumberGame(max_num=100, mult_range_start=2, mult_range_end=10, interval_range_length=10, mult_weight=3)"
   ]
  },
  {
   "cell_type": "code",
   "execution_count": 147,
   "metadata": {
    "hideCode": false,
    "hidePrompt": false,
    "scrolled": true
   },
   "outputs": [
    {
     "data": {
      "text/plain": [
       "6"
      ]
     },
     "execution_count": 147,
     "metadata": {},
     "output_type": "execute_result"
    }
   ],
   "source": [
    "model_nn.forward()"
   ]
  },
  {
   "cell_type": "code",
   "execution_count": 160,
   "metadata": {
    "hideCode": false,
    "hidePrompt": false,
    "scrolled": true
   },
   "outputs": [
    {
     "name": "stdout",
     "output_type": "stream",
     "text": [
      "Time spent  | Time remain.| Progress             | Trace       | Traces/sec\n",
      "0d:00:00:06 | 0d:00:00:00 | #################### | 10000/10000 | 1,600.90       \n"
     ]
    },
    {
     "data": {
      "image/png": "[encoded data removed]",
      "text/plain": [
       "<Figure size 720x360 with 1 Axes>"
      ]
     },
     "metadata": {
      "needs_background": "light"
     },
     "output_type": "display_data"
    }
   ],
   "source": [
    "prior = model_nn.prior_results(num_traces=10000)\n",
    "prior.plot_histogram(show=False, alpha=0.75, label='empirical prior', bins=99)\n",
    "plt.title('Empirical prior for concepts')\n",
    "plt.xlabel('Concept indices')\n",
    "plt.savefig('images/empirical_concept_prior.png')"
   ]
  },
  {
   "cell_type": "code",
   "execution_count": 181,
   "metadata": {
    "hideCode": false,
    "hideOutput": true,
    "hidePrompt": false,
    "scrolled": true
   },
   "outputs": [
    {
     "name": "stdout",
     "output_type": "stream",
     "text": [
      "Time spent  | Time remain.| Progress             | Trace   | Traces/sec\n",
      "0d:00:00:00 | 0d:00:00:00 | #################### | 200/200 | 1,377.84       \n"
     ]
    },
    {
     "data": {
      "text/plain": [
       "[(Multiples of 4, 0.5905909263279627),\n",
       " (Range [35, 45], 0.34665600384414563),\n",
       " (Multiples of 2, 0.06275034235616536)]"
      ]
     },
     "execution_count": 181,
     "metadata": {},
     "output_type": "execute_result"
    },
    {
     "data": {
      "image/png": "[encoded data removed]",
      "text/plain": [
       "<Figure size 720x360 with 1 Axes>"
      ]
     },
     "metadata": {
      "needs_background": "light"
     },
     "output_type": "display_data"
    }
   ],
   "source": [
    "posterior = model.posterior_results(\n",
    "                    num_traces=200, # the number of samples estimating the posterior\n",
    "                    inference_engine=pyprob.InferenceEngine.IMPORTANCE_SAMPLING, # specify which inference engine to use\n",
    "                    observe={'obs1': 40, 'obs2': 44, 'obs3': 36}) # assign values to the observed values\n",
    "posterior.plot_histogram(show=False, alpha=0.75, bins=99, label='inferred posterior')\n",
    "plt.title('Importance Sampling Inferred Posterior')\n",
    "plt.savefig('images/importance_sampling_inferred_posterior_200.png')\n",
    "combined = posterior.combine_duplicates()\n",
    "hypothesis = [(model.concepts[combined[i]], np.exp(combined._get_log_weight(i).item())) for i in range(combined._length) if np.exp(combined._get_log_weight(i).item()) > 0.00001]\n",
    "sorted(hypothesis, key=lambda x: x[1], reverse=True)"
   ]
  },
  {
   "cell_type": "markdown",
   "metadata": {
    "hideCode": false,
    "hidePrompt": false
   },
   "source": [
    "# Inference Compilation"
   ]
  },
  {
   "cell_type": "code",
   "execution_count": 167,
   "metadata": {
    "hideCode": false,
    "hidePrompt": false
   },
   "outputs": [
    {
     "name": "stdout",
     "output_type": "stream",
     "text": [
      "Creating new inference network...\n",
      "Observable obs1: reshape not specified, using shape torch.Size([]).\n",
      "Observable obs1: using embedding dim torch.Size([32]).\n",
      "Observable obs1: observe embedding not specified, using the default FEEDFORWARD.\n",
      "Observable obs1: embedding depth not specified, using the default 2.\n",
      "Observable obs2: reshape not specified, using shape torch.Size([]).\n",
      "Observable obs2: using embedding dim torch.Size([32]).\n",
      "Observable obs2: observe embedding not specified, using the default FEEDFORWARD.\n",
      "Observable obs2: embedding depth not specified, using the default 2.\n",
      "Observable obs3: reshape not specified, using shape torch.Size([]).\n",
      "Observable obs3: using embedding dim torch.Size([32]).\n",
      "Observable obs3: observe embedding not specified, using the default FEEDFORWARD.\n",
      "Observable obs3: embedding depth not specified, using the default 2.\n",
      "Observe embedding dimension: 96\n",
      "Train. time | Epoch| Trace     | Init. loss| Min. loss | Curr. loss| T.since min | Learn.rate| Traces/sec\n",
      "New layers, address: 30__forward__?__Categorical(len_probs:2)__1, distribution: Categorical\n",
      "New layers, address: 152__forward__concept_index__Categorical(len_probs..., distribution: Categorical\n",
      "Total addresses: 2, distribution types: 1, parameters: 1,892,400\n",
      "0d:00:00:14 | 1    | 9,920     | +5.27e+00 | +2.61e+00 | \u001b[32m+2.86e+00\u001b[0m | 0d:00:00:00 | +1.00e-03 | 679.3                                 \n",
      "Stop condition reached. num_traces: 10000\n",
      "0d:00:00:14 | 1    | 10,048    | +5.27e+00 | +2.61e+00 | \u001b[31m+2.91e+00\u001b[0m | 0d:00:00:00 | +1.00e-03 | 622.6                                 \n"
     ]
    }
   ],
   "source": [
    "model_nn.learn_inference_network(num_traces=10000,\n",
    "                              observe_embeddings={'obs1' : {'dim' : 32},\n",
    "                                                  'obs2': {'dim' : 32},\n",
    "                                                  'obs3': {'dim' : 32}},\n",
    "                              inference_network=pyprob.InferenceNetwork.LSTM)"
   ]
  },
  {
   "cell_type": "code",
   "execution_count": 409,
   "metadata": {},
   "outputs": [
    {
     "name": "stdout",
     "output_type": "stream",
     "text": [
      "InferenceNetworkLSTM(\n",
      "  (_layers_observe_embedding): ModuleDict(\n",
      "    (obs1): EmbeddingFeedForward(\n",
      "      (_layers): ModuleList(\n",
      "        (0): Linear(in_features=1, out_features=16, bias=True)\n",
      "        (1): Linear(in_features=16, out_features=32, bias=True)\n",
      "      )\n",
      "    )\n",
      "    (obs2): EmbeddingFeedForward(\n",
      "      (_layers): ModuleList(\n",
      "        (0): Linear(in_features=1, out_features=16, bias=True)\n",
      "        (1): Linear(in_features=16, out_features=32, bias=True)\n",
      "      )\n",
      "    )\n",
      "    (obs3): EmbeddingFeedForward(\n",
      "      (_layers): ModuleList(\n",
      "        (0): Linear(in_features=1, out_features=16, bias=True)\n",
      "        (1): Linear(in_features=16, out_features=32, bias=True)\n",
      "      )\n",
      "    )\n",
      "  )\n",
      "  (_layers_proposal): ModuleDict(\n",
      "    (30__forward__?__Categorical(len_probs:2)__1): ProposalCategoricalCategorical(\n",
      "      (_ff): EmbeddingFeedForward(\n",
      "        (_layers): ModuleList(\n",
      "          (0): Linear(in_features=512, out_features=257, bias=True)\n",
      "          (1): Linear(in_features=257, out_features=2, bias=True)\n",
      "        )\n",
      "      )\n",
      "    )\n",
      "    (152__forward__concept_index__Categorical(len_probs:99)__1): ProposalCategoricalCategorical(\n",
      "      (_ff): EmbeddingFeedForward(\n",
      "        (_layers): ModuleList(\n",
      "          (0): Linear(in_features=512, out_features=305, bias=True)\n",
      "          (1): Linear(in_features=305, out_features=99, bias=True)\n",
      "        )\n",
      "      )\n",
      "    )\n",
      "  )\n",
      "  (_layers_sample_embedding): ModuleDict(\n",
      "    (30__forward__?__Categorical(len_probs:2)__1): EmbeddingFeedForward(\n",
      "      (_layers): ModuleList(\n",
      "        (0): Linear(in_features=2, out_features=4, bias=True)\n",
      "      )\n",
      "    )\n",
      "    (152__forward__concept_index__Categorical(len_probs:99)__1): EmbeddingFeedForward(\n",
      "      (_layers): ModuleList(\n",
      "        (0): Linear(in_features=99, out_features=4, bias=True)\n",
      "      )\n",
      "    )\n",
      "  )\n",
      "  (_layers_address_embedding): ParameterDict(\n",
      "      (30__forward__?__Categorical(len_probs:2)__1): Parameter containing: [torch.FloatTensor of size 64]\n",
      "      (152__forward__concept_index__Categorical(len_probs:99)__1): Parameter containing: [torch.FloatTensor of size 64]\n",
      "  )\n",
      "  (_layers_distribution_type_embedding): ParameterDict(  (Categorical): Parameter containing: [torch.FloatTensor of size 8])\n",
      "  (_layers_observe_embedding_final): EmbeddingFeedForward(\n",
      "    (_layers): ModuleList(\n",
      "      (0): Linear(in_features=96, out_features=96, bias=True)\n",
      "      (1): Linear(in_features=96, out_features=96, bias=True)\n",
      "    )\n",
      "  )\n",
      "  (_layers_lstm): LSTM(244, 512)\n",
      ")\n"
     ]
    }
   ],
   "source": [
    "print(model_nn._inference_network)"
   ]
  },
  {
   "cell_type": "code",
   "execution_count": 180,
   "metadata": {
    "hideCode": false,
    "hidePrompt": false
   },
   "outputs": [
    {
     "name": "stdout",
     "output_type": "stream",
     "text": [
      "Time spent  | Time remain.| Progress             | Trace   | Traces/sec\n",
      "0d:00:00:00 | 0d:00:00:00 | #################### | 200/200 | 452.35       \n"
     ]
    },
    {
     "data": {
      "text/plain": [
       "[(Multiples of 4, 0.43898757849321224),\n",
       " (Range [36, 46], 0.1986607684162871),\n",
       " (Range [34, 44], 0.16215812140148533),\n",
       " (Multiples of 2, 0.11256149188676667),\n",
       " (Range [35, 45], 0.08763100611834623)]"
      ]
     },
     "execution_count": 180,
     "metadata": {},
     "output_type": "execute_result"
    },
    {
     "data": {
      "image/png": "[encoded data removed]",
      "text/plain": [
       "<Figure size 720x360 with 1 Axes>"
      ]
     },
     "metadata": {
      "needs_background": "light"
     },
     "output_type": "display_data"
    }
   ],
   "source": [
    "posterior_nn = model_nn.posterior_results(num_traces=200, # the number of samples estimating the posterior\n",
    "                    inference_engine=pyprob.InferenceEngine.IMPORTANCE_SAMPLING_WITH_INFERENCE_NETWORK, # specify which inference engine to use\n",
    "                    observe={'obs1': 40, 'obs2': 44, 'obs3': 36}) # assign values to the observed values\n",
    "posterior_nn.plot_histogram(show=False, bins=99, alpha=0.75, label='inferred posterior')\n",
    "plt.title('Inference Network Importance Sampling Inferred Posterior')\n",
    "plt.savefig('images/nn_inferred_200.png')\n",
    "\n",
    "combined_nn = posterior_nn.combine_duplicates()\n",
    "hypothesis_nn = [(model_nn.concepts[combined_nn[i]], np.exp(combined_nn._get_log_weight(i).item())) for i in range(combined_nn._length) if np.exp(combined_nn._get_log_weight(i).item()) > 0.00001]\n",
    "sorted(hypothesis_nn, key=lambda x: x[1], reverse=True)"
   ]
  },
  {
   "cell_type": "markdown",
   "metadata": {
    "hideCode": false,
    "hidePrompt": false
   },
   "source": [
    "# Compute True Probabilities"
   ]
  },
  {
   "cell_type": "code",
   "execution_count": 149,
   "metadata": {
    "hideCode": false,
    "hidePrompt": false
   },
   "outputs": [],
   "source": [
    "def compute_true_probs(prior_probs, observations, concepts):\n",
    "    posteriors = []\n",
    "    for i, concept in enumerate(concepts):\n",
    "        posterior = prior_probs[i]\n",
    "        for obs in observations:\n",
    "            if obs in concept.numbers:\n",
    "                posterior /= len(concept.numbers)\n",
    "            else:\n",
    "                posterior = 0\n",
    "        posteriors.append(posterior)\n",
    "    \n",
    "    posteriors = np.array(posteriors)/sum(posteriors)\n",
    "    \n",
    "    return posteriors"
   ]
  },
  {
   "cell_type": "code",
   "execution_count": 154,
   "metadata": {},
   "outputs": [],
   "source": [
    "priors = [0.75/9]*9 + [0.25/90]*90"
   ]
  },
  {
   "cell_type": "code",
   "execution_count": 164,
   "metadata": {},
   "outputs": [
    {
     "data": {
      "image/png": "[encoded data removed]",
      "text/plain": [
       "<Figure size 432x288 with 1 Axes>"
      ]
     },
     "metadata": {
      "needs_background": "light"
     },
     "output_type": "display_data"
    }
   ],
   "source": [
    "plt.bar(range(len(priors)), priors, width=1.2)\n",
    "plt.title('Prior distribution for concepts')\n",
    "plt.xlabel('Concept indices')\n",
    "plt.ylabel('P(C)')\n",
    "plt.savefig('images/concept_prior.png')"
   ]
  },
  {
   "cell_type": "code",
   "execution_count": 155,
   "metadata": {
    "hideCode": false,
    "hidePrompt": false,
    "scrolled": false
   },
   "outputs": [],
   "source": [
    "true_post = compute_true_probs(priors, [40, 44, 36], model.concepts)"
   ]
  },
  {
   "cell_type": "code",
   "execution_count": 156,
   "metadata": {},
   "outputs": [
    {
     "data": {
      "text/plain": [
       "array([0.05437314, 0.        , 0.43498509, 0.        , 0.        ,\n",
       "       0.        , 0.        , 0.        , 0.        , 0.        ,\n",
       "       0.        , 0.        , 0.        , 0.        , 0.        ,\n",
       "       0.        , 0.        , 0.        , 0.        , 0.        ,\n",
       "       0.        , 0.        , 0.        , 0.        , 0.        ,\n",
       "       0.        , 0.        , 0.        , 0.        , 0.        ,\n",
       "       0.        , 0.        , 0.        , 0.        , 0.        ,\n",
       "       0.        , 0.        , 0.        , 0.        , 0.        ,\n",
       "       0.        , 0.        , 0.17021392, 0.17021392, 0.17021392,\n",
       "       0.        , 0.        , 0.        , 0.        , 0.        ,\n",
       "       0.        , 0.        , 0.        , 0.        , 0.        ,\n",
       "       0.        , 0.        , 0.        , 0.        , 0.        ,\n",
       "       0.        , 0.        , 0.        , 0.        , 0.        ,\n",
       "       0.        , 0.        , 0.        , 0.        , 0.        ,\n",
       "       0.        , 0.        , 0.        , 0.        , 0.        ,\n",
       "       0.        , 0.        , 0.        , 0.        , 0.        ,\n",
       "       0.        , 0.        , 0.        , 0.        , 0.        ,\n",
       "       0.        , 0.        , 0.        , 0.        , 0.        ,\n",
       "       0.        , 0.        , 0.        , 0.        , 0.        ,\n",
       "       0.        , 0.        , 0.        , 0.        ])"
      ]
     },
     "execution_count": 156,
     "metadata": {},
     "output_type": "execute_result"
    }
   ],
   "source": [
    "true_post"
   ]
  },
  {
   "cell_type": "code",
   "execution_count": 159,
   "metadata": {
    "hideCode": false,
    "hidePrompt": false
   },
   "outputs": [
    {
     "data": {
      "image/png": "[encoded data removed]",
      "text/plain": [
       "<Figure size 432x288 with 1 Axes>"
      ]
     },
     "metadata": {
      "needs_background": "light"
     },
     "output_type": "display_data"
    }
   ],
   "source": [
    "true_post = compute_true_probs(priors, [40, 44, 36], model.concepts)\n",
    "# true_post.plot_histogram(show=False, bins=99, alpha=0.75, label='true posterior')\n",
    "plt.bar(range(len(true_post)), true_post, width=1.5)\n",
    "plt.title('True posterior distribution')\n",
    "plt.xlabel('Concept indices')\n",
    "plt.ylabel('P(C|d)')\n",
    "plt.savefig('images/true_posterior.png')"
   ]
  },
  {
   "cell_type": "markdown",
   "metadata": {
    "hideCode": false,
    "hidePrompt": false
   },
   "source": [
    "# Divergence evaluation"
   ]
  },
  {
   "cell_type": "code",
   "execution_count": 262,
   "metadata": {},
   "outputs": [],
   "source": [
    "from pyprob.distributions import Distribution\n",
    "from torch.distributions.kl import _kl_categorical_categorical as kl"
   ]
  },
  {
   "cell_type": "code",
   "execution_count": 218,
   "metadata": {},
   "outputs": [
    {
     "name": "stdout",
     "output_type": "stream",
     "text": [
      "1.0161319613822015e-17\n"
     ]
    }
   ],
   "source": [
    "combined = posterior.combine_duplicates()\n",
    "print(np.exp(combined._get_log_weight(0).item()))\n",
    "hypothesis = [(model.concepts[combined[i]], np.exp(combined._get_log_weight(i).item())) for i in range(combined._length)]\n",
    "# sorted(hypothesis, key=lambda x: x[0].__repr__())"
   ]
  },
  {
   "cell_type": "code",
   "execution_count": 230,
   "metadata": {},
   "outputs": [],
   "source": [
    "def get_emp_prob(posterior):\n",
    "    combined = posterior.combine_duplicates()\n",
    "    emp_probs = []\n",
    "    for i in range(len(model.concepts)):\n",
    "        found = False\n",
    "        for j in range(combined._length):\n",
    "            if model.concepts[i] == model.concepts[combined[j]]:\n",
    "                emp_probs.append(np.exp(combined._get_log_weight(j).item()))\n",
    "                found = True\n",
    "        if not found:\n",
    "            emp_probs.append(0)\n",
    "    \n",
    "    return emp_probs"
   ]
  },
  {
   "cell_type": "code",
   "execution_count": 396,
   "metadata": {
    "scrolled": true
   },
   "outputs": [],
   "source": [
    "def calc_divergence(p, q):\n",
    "    t = np.exp(p.logits) - np.exp(q.logits)\n",
    "    t[(q.probs == 0).expand_as(t)] = 0\n",
    "    t[(p.probs == 0).expand_as(t)] = 0\n",
    "    return abs(t.sum(-1).numpy())\n"
   ]
  },
  {
   "cell_type": "code",
   "execution_count": 397,
   "metadata": {},
   "outputs": [],
   "source": [
    "is_emp_post = get_emp_prob(posterior)"
   ]
  },
  {
   "cell_type": "code",
   "execution_count": 398,
   "metadata": {},
   "outputs": [],
   "source": [
    "csis_emp_post = get_emp_prob(posterior_nn)"
   ]
  },
  {
   "cell_type": "code",
   "execution_count": 399,
   "metadata": {},
   "outputs": [
    {
     "data": {
      "text/plain": [
       "0.34042513"
      ]
     },
     "execution_count": 399,
     "metadata": {},
     "output_type": "execute_result"
    }
   ],
   "source": [
    "calc_divergence(Categorical(true_post), Categorical(is_emp_post))"
   ]
  },
  {
   "cell_type": "code",
   "execution_count": 400,
   "metadata": {},
   "outputs": [
    {
     "data": {
      "text/plain": [
       "1.0281801e-06"
      ]
     },
     "execution_count": 400,
     "metadata": {},
     "output_type": "execute_result"
    }
   ],
   "source": [
    "calc_divergence(Categorical(true_post), Categorical(csis_emp_post))"
   ]
  },
  {
   "cell_type": "code",
   "execution_count": 401,
   "metadata": {},
   "outputs": [],
   "source": [
    "def plot_divergences_importance_sampling(max_traces):\n",
    "    trace_count = range(100, max_traces, 100)\n",
    "    divergences = []\n",
    "    \n",
    "    for num_traces in range(100, max_traces, 100):\n",
    "        posterior = model.posterior_results(\n",
    "                    num_traces=num_traces, # the number of samples estimating the posterior\n",
    "                    inference_engine=pyprob.InferenceEngine.IMPORTANCE_SAMPLING, # specify which inference engine to use\n",
    "                    observe={'obs1': 40, 'obs2': 44, 'obs3': 36})\n",
    "        emp_probs = get_emp_prob(posterior)\n",
    "        divergence = calc_divergence(Categorical(true_post), Categorical(emp_probs))\n",
    "        divergences.append(divergence)\n",
    "    \n",
    "    plt.plot(trace_count, divergences)\n",
    "    plt.yscale('log')\n",
    "    plt.title('Number of traces vs. divergence (importance sampling)')\n",
    "    plt.ylabel('Divergence')\n",
    "    plt.xlabel('Number of traces')\n",
    "    plt.savefig('images/traces_vs_divergence_{}.png'.format(max_traces))"
   ]
  },
  {
   "cell_type": "code",
   "execution_count": 402,
   "metadata": {},
   "outputs": [],
   "source": [
    "def plot_divergences_csis(max_traces):\n",
    "    trace_count = range(100, max_traces, 100)\n",
    "    divergences = []\n",
    "    \n",
    "    for num_traces in range(100, max_traces, 100):\n",
    "        posterior = model_nn.posterior_results(\n",
    "                    num_traces=num_traces, # the number of samples estimating the posterior\n",
    "                    inference_engine=pyprob.InferenceEngine.IMPORTANCE_SAMPLING_WITH_INFERENCE_NETWORK, # specify which inference engine to use\n",
    "                    observe={'obs1': 40, 'obs2': 44, 'obs3': 36})\n",
    "        emp_probs = get_emp_prob(posterior)\n",
    "        divergence = calc_divergence(Categorical(true_post), Categorical(emp_probs))\n",
    "        divergences.append(divergence)\n",
    "    \n",
    "    plt.plot(trace_count, divergences)\n",
    "    plt.yscale('log')\n",
    "    plt.title('Number of traces vs. divergence (inference network)')\n",
    "    plt.ylabel('Divergence')\n",
    "    plt.xlabel('Number of traces')\n",
    "    plt.savefig('images/traces_vs_divergence_{}.png'.format(max_traces))"
   ]
  },
  {
   "cell_type": "code",
   "execution_count": 426,
   "metadata": {},
   "outputs": [
    {
     "name": "stdout",
     "output_type": "stream",
     "text": [
      "Time spent  | Time remain.| Progress             | Trace   | Traces/sec\n",
      "0d:00:00:00 | 0d:00:00:00 | #################### | 100/100 | 1,179.62       \n",
      "Time spent  | Time remain.| Progress             | Trace   | Traces/sec\n",
      "0d:00:00:00 | 0d:00:00:00 | #################### | 200/200 | 1,624.18       \n",
      "Time spent  | Time remain.| Progress             | Trace   | Traces/sec\n",
      "0d:00:00:00 | 0d:00:00:00 | #################### | 300/300 | 1,680.84       \n",
      "Time spent  | Time remain.| Progress             | Trace   | Traces/sec\n",
      "0d:00:00:00 | 0d:00:00:00 | #################### | 400/400 | 1,619.92       \n",
      "Time spent  | Time remain.| Progress             | Trace   | Traces/sec\n",
      "0d:00:00:00 | 0d:00:00:00 | #################### | 500/500 | 1,587.71       \n",
      "Time spent  | Time remain.| Progress             | Trace   | Traces/sec\n",
      "0d:00:00:00 | 0d:00:00:00 | #################### | 600/600 | 1,684.16       \n",
      "Time spent  | Time remain.| Progress             | Trace   | Traces/sec\n",
      "0d:00:00:00 | 0d:00:00:00 | #################### | 700/700 | 1,468.60       \n",
      "Time spent  | Time remain.| Progress             | Trace   | Traces/sec\n",
      "0d:00:00:00 | 0d:00:00:00 | #################### | 800/800 | 1,544.59       \n",
      "Time spent  | Time remain.| Progress             | Trace   | Traces/sec\n",
      "0d:00:00:00 | 0d:00:00:00 | #################### | 900/900 | 1,547.20       \n"
     ]
    },
    {
     "data": {
      "image/png": "[encoded data removed]",
      "text/plain": [
       "<Figure size 432x288 with 1 Axes>"
      ]
     },
     "metadata": {
      "needs_background": "light"
     },
     "output_type": "display_data"
    }
   ],
   "source": [
    "plot_divergences_importance_sampling(1000)"
   ]
  },
  {
   "cell_type": "code",
   "execution_count": 395,
   "metadata": {},
   "outputs": [
    {
     "name": "stdout",
     "output_type": "stream",
     "text": [
      "Time spent  | Time remain.| Progress             | Trace   | Traces/sec\n",
      "0d:00:00:00 | 0d:00:00:00 | #################### | 100/100 | 423.54       \n",
      "Time spent  | Time remain.| Progress             | Trace   | Traces/sec\n",
      "0d:00:00:00 | 0d:00:00:00 | #################### | 200/200 | 460.05       \n",
      "Time spent  | Time remain.| Progress             | Trace   | Traces/sec\n",
      "0d:00:00:00 | 0d:00:00:00 | #################### | 300/300 | 468.31       \n",
      "Time spent  | Time remain.| Progress             | Trace   | Traces/sec\n",
      "0d:00:00:00 | 0d:00:00:00 | #################### | 400/400 | 460.91       \n",
      "Time spent  | Time remain.| Progress             | Trace   | Traces/sec\n",
      "0d:00:00:01 | 0d:00:00:00 | #################### | 500/500 | 469.26       \n",
      "Time spent  | Time remain.| Progress             | Trace   | Traces/sec\n",
      "0d:00:00:01 | 0d:00:00:00 | #################### | 600/600 | 476.32       \n",
      "Time spent  | Time remain.| Progress             | Trace   | Traces/sec\n",
      "0d:00:00:01 | 0d:00:00:00 | #################### | 700/700 | 479.05       \n",
      "Time spent  | Time remain.| Progress             | Trace   | Traces/sec\n",
      "0d:00:00:01 | 0d:00:00:00 | #################### | 800/800 | 481.55       \n",
      "Time spent  | Time remain.| Progress             | Trace   | Traces/sec\n",
      "0d:00:00:01 | 0d:00:00:00 | #################### | 900/900 | 478.30       \n"
     ]
    },
    {
     "data": {
      "image/png": "[encoded data removed]",
      "text/plain": [
       "<Figure size 432x288 with 1 Axes>"
      ]
     },
     "metadata": {
      "needs_background": "light"
     },
     "output_type": "display_data"
    }
   ],
   "source": [
    "plot_divergences_csis(1000)"
   ]
  },
  {
   "cell_type": "code",
   "execution_count": 424,
   "metadata": {},
   "outputs": [],
   "source": [
    "def plot_divergences(max_traces):\n",
    "    trace_count = range(100, max_traces, 50)\n",
    "    divergences_total = []\n",
    "    divergences_nn_total = []\n",
    "    \n",
    "    for num_traces in range(100, max_traces, 50):\n",
    "        divergences = []\n",
    "        divergences_nn = []\n",
    "        for i in range(10):\n",
    "            posterior = model.posterior_results(\n",
    "                        num_traces=num_traces, # the number of samples estimating the posterior\n",
    "                        inference_engine=pyprob.InferenceEngine.IMPORTANCE_SAMPLING, # specify which inference engine to use\n",
    "                        observe={'obs1': 40, 'obs2': 44, 'obs3': 36})\n",
    "            posterior_nn = model_nn.posterior_results(\n",
    "                        num_traces=num_traces, # the number of samples estimating the posterior\n",
    "                        inference_engine=pyprob.InferenceEngine.IMPORTANCE_SAMPLING_WITH_INFERENCE_NETWORK, # specify which inference engine to use\n",
    "                        observe={'obs1': 40, 'obs2': 44, 'obs3': 36})\n",
    "\n",
    "            emp_probs = get_emp_prob(posterior)\n",
    "            emp_probs_nn = get_emp_prob(posterior_nn)\n",
    "            divergence = calc_divergence(Categorical(true_post), Categorical(emp_probs))\n",
    "            divergence_nn = calc_divergence(Categorical(true_post), Categorical(emp_probs_nn))\n",
    "            divergences.append(divergence)\n",
    "            divergences_nn.append(divergence_nn)\n",
    "        divergences_total.append(np.mean(divergences))\n",
    "        divergences_nn_total.append(np.mean(divergence_nn))\n",
    "\n",
    "    plt.plot(trace_count, divergences_total, label='importance sampling')\n",
    "    plt.plot(trace_count, divergences_nn_total, label='inference compilation')\n",
    "    plt.yscale('log')\n",
    "    plt.title('Number of traces vs. divergence')\n",
    "    plt.ylabel('Divergence')\n",
    "    plt.xlabel('Number of traces')\n",
    "    plt.legend()\n",
    "    plt.savefig('images/traces_vs_divergence_both_{}_averaged.png'.format(max_traces))"
   ]
  },
  {
   "cell_type": "code",
   "execution_count": 425,
   "metadata": {},
   "outputs": [
    {
     "name": "stdout",
     "output_type": "stream",
     "text": [
      "Time spent  | Time remain.| Progress             | Trace   | Traces/sec\n",
      "0d:00:00:00 | 0d:00:00:00 | #################### | 100/100 | 1,155.64       \n",
      "Time spent  | Time remain.| Progress             | Trace   | Traces/sec\n",
      "0d:00:00:00 | 0d:00:00:00 | #################### | 100/100 | 368.20       \n",
      "Time spent  | Time remain.| Progress             | Trace   | Traces/sec\n",
      "0d:00:00:00 | 0d:00:00:00 | #################### | 100/100 | 1,322.42       \n",
      "Time spent  | Time remain.| Progress             | Trace   | Traces/sec\n",
      "0d:00:00:00 | 0d:00:00:00 | #################### | 100/100 | 356.93       \n",
      "Time spent  | Time remain.| Progress             | Trace   | Traces/sec\n",
      "0d:00:00:00 | 0d:00:00:00 | #################### | 100/100 | 1,380.87       \n",
      "Time spent  | Time remain.| Progress             | Trace   | Traces/sec\n",
      "0d:00:00:00 | 0d:00:00:00 | #################### | 100/100 | 437.97       \n",
      "Time spent  | Time remain.| Progress             | Trace   | Traces/sec\n",
      "0d:00:00:00 | 0d:00:00:00 | #################### | 100/100 | 1,447.99       \n",
      "Time spent  | Time remain.| Progress             | Trace   | Traces/sec\n",
      "0d:00:00:00 | 0d:00:00:00 | #################### | 100/100 | 382.68       \n",
      "Time spent  | Time remain.| Progress             | Trace   | Traces/sec\n",
      "0d:00:00:00 | 0d:00:00:00 | #################### | 100/100 | 1,378.19       \n",
      "Time spent  | Time remain.| Progress             | Trace   | Traces/sec\n",
      "0d:00:00:00 | 0d:00:00:00 | #################### | 100/100 | 422.57       \n",
      "Time spent  | Time remain.| Progress             | Trace   | Traces/sec\n",
      "0d:00:00:00 | 0d:00:00:00 | #################### | 100/100 | 1,417.88       \n",
      "Time spent  | Time remain.| Progress             | Trace   | Traces/sec\n",
      "0d:00:00:00 | 0d:00:00:00 | #################### | 100/100 | 473.06       \n",
      "Time spent  | Time remain.| Progress             | Trace   | Traces/sec\n",
      "0d:00:00:00 | 0d:00:00:00 | #################### | 100/100 | 1,411.49       \n",
      "Time spent  | Time remain.| Progress             | Trace   | Traces/sec\n",
      "0d:00:00:00 | 0d:00:00:00 | #################### | 100/100 | 478.38       \n",
      "Time spent  | Time remain.| Progress             | Trace   | Traces/sec\n",
      "0d:00:00:00 | 0d:00:00:00 | #################### | 100/100 | 1,573.74       \n",
      "Time spent  | Time remain.| Progress             | Trace   | Traces/sec\n",
      "0d:00:00:00 | 0d:00:00:00 | #################### | 100/100 | 462.34       \n",
      "Time spent  | Time remain.| Progress             | Trace   | Traces/sec\n",
      "0d:00:00:00 | 0d:00:00:00 | #################### | 100/100 | 1,499.41       \n",
      "Time spent  | Time remain.| Progress             | Trace   | Traces/sec\n",
      "0d:00:00:00 | 0d:00:00:00 | #################### | 100/100 | 475.93       \n",
      "Time spent  | Time remain.| Progress             | Trace   | Traces/sec\n",
      "0d:00:00:00 | 0d:00:00:00 | #################### | 100/100 | 976.27       \n",
      "Time spent  | Time remain.| Progress             | Trace   | Traces/sec\n",
      "0d:00:00:00 | 0d:00:00:00 | #################### | 100/100 | 381.62       \n",
      "Time spent  | Time remain.| Progress             | Trace   | Traces/sec\n",
      "0d:00:00:00 | 0d:00:00:00 | #################### | 150/150 | 1,513.84       \n",
      "Time spent  | Time remain.| Progress             | Trace   | Traces/sec\n",
      "0d:00:00:00 | 0d:00:00:00 | #################### | 150/150 | 474.99       \n",
      "Time spent  | Time remain.| Progress             | Trace   | Traces/sec\n",
      "0d:00:00:00 | 0d:00:00:00 | #################### | 150/150 | 1,546.69       \n",
      "Time spent  | Time remain.| Progress             | Trace   | Traces/sec\n",
      "0d:00:00:00 | 0d:00:00:00 | #################### | 150/150 | 466.22       \n",
      "Time spent  | Time remain.| Progress             | Trace   | Traces/sec\n",
      "0d:00:00:00 | 0d:00:00:00 | #################### | 150/150 | 1,504.47       \n",
      "Time spent  | Time remain.| Progress             | Trace   | Traces/sec\n",
      "0d:00:00:00 | 0d:00:00:00 | #################### | 150/150 | 456.77       \n",
      "Time spent  | Time remain.| Progress             | Trace   | Traces/sec\n",
      "0d:00:00:00 | 0d:00:00:00 | #################### | 150/150 | 1,522.63       \n",
      "Time spent  | Time remain.| Progress             | Trace   | Traces/sec\n",
      "0d:00:00:00 | 0d:00:00:00 | #################### | 150/150 | 460.81       \n",
      "Time spent  | Time remain.| Progress             | Trace   | Traces/sec\n",
      "0d:00:00:00 | 0d:00:00:00 | #################### | 150/150 | 1,554.37       \n",
      "Time spent  | Time remain.| Progress             | Trace   | Traces/sec\n",
      "0d:00:00:00 | 0d:00:00:00 | #################### | 150/150 | 461.73       \n",
      "Time spent  | Time remain.| Progress             | Trace   | Traces/sec\n",
      "0d:00:00:00 | 0d:00:00:00 | #################### | 150/150 | 1,436.21       \n",
      "Time spent  | Time remain.| Progress             | Trace   | Traces/sec\n",
      "0d:00:00:00 | 0d:00:00:00 | #################### | 150/150 | 470.51       \n",
      "Time spent  | Time remain.| Progress             | Trace   | Traces/sec\n",
      "0d:00:00:00 | 0d:00:00:00 | #################### | 150/150 | 1,577.49       \n",
      "Time spent  | Time remain.| Progress             | Trace   | Traces/sec\n",
      "0d:00:00:00 | 0d:00:00:00 | #################### | 150/150 | 482.85       \n",
      "Time spent  | Time remain.| Progress             | Trace   | Traces/sec\n",
      "0d:00:00:00 | 0d:00:00:00 | #################### | 150/150 | 1,474.65       \n",
      "Time spent  | Time remain.| Progress             | Trace   | Traces/sec\n",
      "0d:00:00:00 | 0d:00:00:00 | #################### | 150/150 | 474.00       \n",
      "Time spent  | Time remain.| Progress             | Trace   | Traces/sec\n",
      "0d:00:00:00 | 0d:00:00:00 | #################### | 150/150 | 1,478.26       \n",
      "Time spent  | Time remain.| Progress             | Trace   | Traces/sec\n",
      "0d:00:00:00 | 0d:00:00:00 | #################### | 150/150 | 475.36       \n",
      "Time spent  | Time remain.| Progress             | Trace   | Traces/sec\n",
      "0d:00:00:00 | 0d:00:00:00 | #################### | 150/150 | 1,473.85       \n",
      "Time spent  | Time remain.| Progress             | Trace   | Traces/sec\n",
      "0d:00:00:00 | 0d:00:00:00 | #################### | 150/150 | 481.69       \n",
      "Time spent  | Time remain.| Progress             | Trace   | Traces/sec\n",
      "0d:00:00:00 | 0d:00:00:00 | #################### | 200/200 | 1,457.91       \n",
      "Time spent  | Time remain.| Progress             | Trace   | Traces/sec\n",
      "0d:00:00:00 | 0d:00:00:00 | #################### | 200/200 | 386.30       \n",
      "Time spent  | Time remain.| Progress             | Trace   | Traces/sec\n",
      "0d:00:00:00 | 0d:00:00:00 | #################### | 200/200 | 1,579.13       \n",
      "Time spent  | Time remain.| Progress             | Trace   | Traces/sec\n",
      "0d:00:00:00 | 0d:00:00:00 | #################### | 200/200 | 483.53       \n",
      "Time spent  | Time remain.| Progress             | Trace   | Traces/sec\n",
      "0d:00:00:00 | 0d:00:00:00 | #################### | 200/200 | 1,610.94       \n",
      "Time spent  | Time remain.| Progress             | Trace   | Traces/sec\n",
      "0d:00:00:00 | 0d:00:00:00 | #################### | 200/200 | 468.11       \n",
      "Time spent  | Time remain.| Progress             | Trace   | Traces/sec\n",
      "0d:00:00:00 | 0d:00:00:00 | #################### | 200/200 | 1,516.17       \n",
      "Time spent  | Time remain.| Progress             | Trace   | Traces/sec\n",
      "0d:00:00:00 | 0d:00:00:00 | #################### | 200/200 | 486.49       \n",
      "Time spent  | Time remain.| Progress             | Trace   | Traces/sec\n",
      "0d:00:00:00 | 0d:00:00:00 | #################### | 200/200 | 1,597.34       \n",
      "Time spent  | Time remain.| Progress             | Trace   | Traces/sec\n",
      "0d:00:00:00 | 0d:00:00:00 | #################### | 200/200 | 484.45       \n",
      "Time spent  | Time remain.| Progress             | Trace   | Traces/sec\n",
      "0d:00:00:00 | 0d:00:00:00 | #################### | 200/200 | 1,599.81       \n",
      "Time spent  | Time remain.| Progress             | Trace   | Traces/sec\n",
      "0d:00:00:00 | 0d:00:00:00 | #################### | 200/200 | 479.39       \n",
      "Time spent  | Time remain.| Progress             | Trace   | Traces/sec\n",
      "0d:00:00:00 | 0d:00:00:00 | #################### | 200/200 | 1,540.98       \n",
      "Time spent  | Time remain.| Progress             | Trace   | Traces/sec\n",
      "0d:00:00:00 | 0d:00:00:00 | #################### | 200/200 | 472.89       \n",
      "Time spent  | Time remain.| Progress             | Trace   | Traces/sec\n",
      "0d:00:00:00 | 0d:00:00:00 | #################### | 200/200 | 1,549.94       \n",
      "Time spent  | Time remain.| Progress             | Trace   | Traces/sec\n"
     ]
    },
    {
     "name": "stdout",
     "output_type": "stream",
     "text": [
      "0d:00:00:00 | 0d:00:00:00 | #################### | 200/200 | 467.78       \n",
      "Time spent  | Time remain.| Progress             | Trace   | Traces/sec\n",
      "0d:00:00:00 | 0d:00:00:00 | #################### | 200/200 | 1,593.77       \n",
      "Time spent  | Time remain.| Progress             | Trace   | Traces/sec\n",
      "0d:00:00:00 | 0d:00:00:00 | #################### | 200/200 | 490.01       \n",
      "Time spent  | Time remain.| Progress             | Trace   | Traces/sec\n",
      "0d:00:00:00 | 0d:00:00:00 | #################### | 200/200 | 1,545.58       \n",
      "Time spent  | Time remain.| Progress             | Trace   | Traces/sec\n",
      "0d:00:00:00 | 0d:00:00:00 | #################### | 200/200 | 468.15       \n",
      "Time spent  | Time remain.| Progress             | Trace   | Traces/sec\n",
      "0d:00:00:00 | 0d:00:00:00 | #################### | 250/250 | 1,548.92       \n",
      "Time spent  | Time remain.| Progress             | Trace   | Traces/sec\n",
      "0d:00:00:00 | 0d:00:00:00 | #################### | 250/250 | 484.86       \n",
      "Time spent  | Time remain.| Progress             | Trace   | Traces/sec\n",
      "0d:00:00:00 | 0d:00:00:00 | #################### | 250/250 | 1,530.12       \n",
      "Time spent  | Time remain.| Progress             | Trace   | Traces/sec\n",
      "0d:00:00:00 | 0d:00:00:00 | #################### | 250/250 | 476.85       \n",
      "Time spent  | Time remain.| Progress             | Trace   | Traces/sec\n",
      "0d:00:00:00 | 0d:00:00:00 | #################### | 250/250 | 1,506.88       \n",
      "Time spent  | Time remain.| Progress             | Trace   | Traces/sec\n",
      "0d:00:00:00 | 0d:00:00:00 | #################### | 250/250 | 460.96       \n",
      "Time spent  | Time remain.| Progress             | Trace   | Traces/sec\n",
      "0d:00:00:00 | 0d:00:00:00 | #################### | 250/250 | 1,470.24       \n",
      "Time spent  | Time remain.| Progress             | Trace   | Traces/sec\n",
      "0d:00:00:00 | 0d:00:00:00 | #################### | 250/250 | 416.17       \n",
      "Time spent  | Time remain.| Progress             | Trace   | Traces/sec\n",
      "0d:00:00:00 | 0d:00:00:00 | #################### | 250/250 | 1,555.70       \n",
      "Time spent  | Time remain.| Progress             | Trace   | Traces/sec\n",
      "0d:00:00:00 | 0d:00:00:00 | #################### | 250/250 | 460.82       \n",
      "Time spent  | Time remain.| Progress             | Trace   | Traces/sec\n",
      "0d:00:00:00 | 0d:00:00:00 | #################### | 250/250 | 1,597.70       \n",
      "Time spent  | Time remain.| Progress             | Trace   | Traces/sec\n",
      "0d:00:00:00 | 0d:00:00:00 | #################### | 250/250 | 441.36       \n",
      "Time spent  | Time remain.| Progress             | Trace   | Traces/sec\n",
      "0d:00:00:00 | 0d:00:00:00 | #################### | 250/250 | 1,521.56       \n",
      "Time spent  | Time remain.| Progress             | Trace   | Traces/sec\n",
      "0d:00:00:00 | 0d:00:00:00 | #################### | 250/250 | 475.10       \n",
      "Time spent  | Time remain.| Progress             | Trace   | Traces/sec\n",
      "0d:00:00:00 | 0d:00:00:00 | #################### | 250/250 | 1,418.51       \n",
      "Time spent  | Time remain.| Progress             | Trace   | Traces/sec\n",
      "0d:00:00:00 | 0d:00:00:00 | #################### | 250/250 | 461.58       \n",
      "Time spent  | Time remain.| Progress             | Trace   | Traces/sec\n",
      "0d:00:00:00 | 0d:00:00:00 | #################### | 250/250 | 1,522.48       \n",
      "Time spent  | Time remain.| Progress             | Trace   | Traces/sec\n",
      "0d:00:00:00 | 0d:00:00:00 | #################### | 250/250 | 431.01       \n",
      "Time spent  | Time remain.| Progress             | Trace   | Traces/sec\n",
      "0d:00:00:00 | 0d:00:00:00 | #################### | 250/250 | 1,463.94       \n",
      "Time spent  | Time remain.| Progress             | Trace   | Traces/sec\n",
      "0d:00:00:00 | 0d:00:00:00 | #################### | 250/250 | 467.41       \n",
      "Time spent  | Time remain.| Progress             | Trace   | Traces/sec\n",
      "0d:00:00:00 | 0d:00:00:00 | #################### | 300/300 | 1,635.55       \n",
      "Time spent  | Time remain.| Progress             | Trace   | Traces/sec\n",
      "0d:00:00:00 | 0d:00:00:00 | #################### | 300/300 | 482.92       \n",
      "Time spent  | Time remain.| Progress             | Trace   | Traces/sec\n",
      "0d:00:00:00 | 0d:00:00:00 | #################### | 300/300 | 1,542.49       \n",
      "Time spent  | Time remain.| Progress             | Trace   | Traces/sec\n",
      "0d:00:00:00 | 0d:00:00:00 | #################### | 300/300 | 452.22       \n",
      "Time spent  | Time remain.| Progress             | Trace   | Traces/sec\n",
      "0d:00:00:00 | 0d:00:00:00 | #################### | 300/300 | 1,496.25       \n",
      "Time spent  | Time remain.| Progress             | Trace   | Traces/sec\n",
      "0d:00:00:00 | 0d:00:00:00 | #################### | 300/300 | 451.73       \n",
      "Time spent  | Time remain.| Progress             | Trace   | Traces/sec\n",
      "0d:00:00:00 | 0d:00:00:00 | #################### | 300/300 | 1,587.13       \n",
      "Time spent  | Time remain.| Progress             | Trace   | Traces/sec\n",
      "0d:00:00:00 | 0d:00:00:00 | #################### | 300/300 | 450.59       \n",
      "Time spent  | Time remain.| Progress             | Trace   | Traces/sec\n",
      "0d:00:00:00 | 0d:00:00:00 | #################### | 300/300 | 1,562.68       \n",
      "Time spent  | Time remain.| Progress             | Trace   | Traces/sec\n",
      "0d:00:00:00 | 0d:00:00:00 | #################### | 300/300 | 444.95       \n",
      "Time spent  | Time remain.| Progress             | Trace   | Traces/sec\n",
      "0d:00:00:00 | 0d:00:00:00 | #################### | 300/300 | 1,513.36       \n",
      "Time spent  | Time remain.| Progress             | Trace   | Traces/sec\n",
      "0d:00:00:00 | 0d:00:00:00 | #################### | 300/300 | 474.52       \n",
      "Time spent  | Time remain.| Progress             | Trace   | Traces/sec\n",
      "0d:00:00:00 | 0d:00:00:00 | #################### | 300/300 | 1,639.60       \n",
      "Time spent  | Time remain.| Progress             | Trace   | Traces/sec\n",
      "0d:00:00:00 | 0d:00:00:00 | #################### | 300/300 | 484.51       \n",
      "Time spent  | Time remain.| Progress             | Trace   | Traces/sec\n",
      "0d:00:00:00 | 0d:00:00:00 | #################### | 300/300 | 1,499.39       \n",
      "Time spent  | Time remain.| Progress             | Trace   | Traces/sec\n",
      "0d:00:00:00 | 0d:00:00:00 | #################### | 300/300 | 476.95       \n",
      "Time spent  | Time remain.| Progress             | Trace   | Traces/sec\n",
      "0d:00:00:00 | 0d:00:00:00 | #################### | 300/300 | 1,575.37       \n",
      "Time spent  | Time remain.| Progress             | Trace   | Traces/sec\n",
      "0d:00:00:00 | 0d:00:00:00 | #################### | 300/300 | 490.87       \n",
      "Time spent  | Time remain.| Progress             | Trace   | Traces/sec\n",
      "0d:00:00:00 | 0d:00:00:00 | #################### | 300/300 | 1,578.46       \n",
      "Time spent  | Time remain.| Progress             | Trace   | Traces/sec\n",
      "0d:00:00:00 | 0d:00:00:00 | #################### | 300/300 | 442.42       \n",
      "Time spent  | Time remain.| Progress             | Trace   | Traces/sec\n",
      "0d:00:00:00 | 0d:00:00:00 | #################### | 350/350 | 1,413.75       \n",
      "Time spent  | Time remain.| Progress             | Trace   | Traces/sec\n",
      "0d:00:00:01 | 0d:00:00:00 | #################### | 350/350 | 321.46       \n",
      "Time spent  | Time remain.| Progress             | Trace   | Traces/sec\n",
      "0d:00:00:00 | 0d:00:00:00 | #################### | 350/350 | 1,455.57       \n",
      "Time spent  | Time remain.| Progress             | Trace   | Traces/sec\n",
      "0d:00:00:00 | 0d:00:00:00 | #################### | 350/350 | 434.54       \n",
      "Time spent  | Time remain.| Progress             | Trace   | Traces/sec\n",
      "0d:00:00:00 | 0d:00:00:00 | #################### | 350/350 | 1,565.97       \n",
      "Time spent  | Time remain.| Progress             | Trace   | Traces/sec\n",
      "0d:00:00:00 | 0d:00:00:00 | #################### | 350/350 | 444.61       \n",
      "Time spent  | Time remain.| Progress             | Trace   | Traces/sec\n",
      "0d:00:00:00 | 0d:00:00:00 | #################### | 350/350 | 1,437.65       \n",
      "Time spent  | Time remain.| Progress             | Trace   | Traces/sec\n",
      "0d:00:00:00 | 0d:00:00:00 | #################### | 350/350 | 447.94       \n",
      "Time spent  | Time remain.| Progress             | Trace   | Traces/sec\n",
      "0d:00:00:00 | 0d:00:00:00 | #################### | 350/350 | 1,414.64       \n",
      "Time spent  | Time remain.| Progress             | Trace   | Traces/sec\n",
      "0d:00:00:00 | 0d:00:00:00 | #################### | 350/350 | 377.94       \n",
      "Time spent  | Time remain.| Progress             | Trace   | Traces/sec\n"
     ]
    },
    {
     "name": "stdout",
     "output_type": "stream",
     "text": [
      "0d:00:00:00 | 0d:00:00:00 | #################### | 350/350 | 1,479.20       \n",
      "Time spent  | Time remain.| Progress             | Trace   | Traces/sec\n",
      "0d:00:00:00 | 0d:00:00:00 | #################### | 350/350 | 368.79       \n",
      "Time spent  | Time remain.| Progress             | Trace   | Traces/sec\n",
      "0d:00:00:00 | 0d:00:00:00 | #################### | 350/350 | 1,593.74       \n",
      "Time spent  | Time remain.| Progress             | Trace   | Traces/sec\n",
      "0d:00:00:00 | 0d:00:00:00 | #################### | 350/350 | 423.64       \n",
      "Time spent  | Time remain.| Progress             | Trace   | Traces/sec\n",
      "0d:00:00:00 | 0d:00:00:00 | #################### | 350/350 | 1,308.60       \n",
      "Time spent  | Time remain.| Progress             | Trace   | Traces/sec\n",
      "0d:00:00:00 | 0d:00:00:00 | #################### | 350/350 | 475.03       \n",
      "Time spent  | Time remain.| Progress             | Trace   | Traces/sec\n",
      "0d:00:00:00 | 0d:00:00:00 | #################### | 350/350 | 1,486.24       \n",
      "Time spent  | Time remain.| Progress             | Trace   | Traces/sec\n",
      "0d:00:00:00 | 0d:00:00:00 | #################### | 350/350 | 429.37       \n",
      "Time spent  | Time remain.| Progress             | Trace   | Traces/sec\n",
      "0d:00:00:00 | 0d:00:00:00 | #################### | 350/350 | 1,413.51       \n",
      "Time spent  | Time remain.| Progress             | Trace   | Traces/sec\n",
      "0d:00:00:00 | 0d:00:00:00 | #################### | 350/350 | 386.95       \n",
      "Time spent  | Time remain.| Progress             | Trace   | Traces/sec\n",
      "0d:00:00:00 | 0d:00:00:00 | #################### | 400/400 | 1,476.27       \n",
      "Time spent  | Time remain.| Progress             | Trace   | Traces/sec\n",
      "0d:00:00:00 | 0d:00:00:00 | #################### | 400/400 | 418.62       \n",
      "Time spent  | Time remain.| Progress             | Trace   | Traces/sec\n",
      "0d:00:00:00 | 0d:00:00:00 | #################### | 400/400 | 1,339.12       \n",
      "Time spent  | Time remain.| Progress             | Trace   | Traces/sec\n",
      "0d:00:00:00 | 0d:00:00:00 | #################### | 400/400 | 437.40       \n",
      "Time spent  | Time remain.| Progress             | Trace   | Traces/sec\n",
      "0d:00:00:00 | 0d:00:00:00 | #################### | 400/400 | 1,504.68       \n",
      "Time spent  | Time remain.| Progress             | Trace   | Traces/sec\n",
      "0d:00:00:00 | 0d:00:00:00 | #################### | 400/400 | 459.36       \n",
      "Time spent  | Time remain.| Progress             | Trace   | Traces/sec\n",
      "0d:00:00:00 | 0d:00:00:00 | #################### | 400/400 | 1,354.93       \n",
      "Time spent  | Time remain.| Progress             | Trace   | Traces/sec\n",
      "0d:00:00:01 | 0d:00:00:00 | #################### | 400/400 | 368.56       \n",
      "Time spent  | Time remain.| Progress             | Trace   | Traces/sec\n",
      "0d:00:00:00 | 0d:00:00:00 | #################### | 400/400 | 1,544.16       \n",
      "Time spent  | Time remain.| Progress             | Trace   | Traces/sec\n",
      "0d:00:00:00 | 0d:00:00:00 | #################### | 400/400 | 413.93       \n",
      "Time spent  | Time remain.| Progress             | Trace   | Traces/sec\n",
      "0d:00:00:00 | 0d:00:00:00 | #################### | 400/400 | 1,430.57       \n",
      "Time spent  | Time remain.| Progress             | Trace   | Traces/sec\n",
      "0d:00:00:00 | 0d:00:00:00 | #################### | 400/400 | 403.59       \n",
      "Time spent  | Time remain.| Progress             | Trace   | Traces/sec\n",
      "0d:00:00:00 | 0d:00:00:00 | #################### | 400/400 | 1,505.53       \n",
      "Time spent  | Time remain.| Progress             | Trace   | Traces/sec\n",
      "0d:00:00:00 | 0d:00:00:00 | #################### | 400/400 | 449.72       \n",
      "Time spent  | Time remain.| Progress             | Trace   | Traces/sec\n",
      "0d:00:00:00 | 0d:00:00:00 | #################### | 400/400 | 1,501.63       \n",
      "Time spent  | Time remain.| Progress             | Trace   | Traces/sec\n",
      "0d:00:00:01 | 0d:00:00:00 | #################### | 400/400 | 390.13       \n",
      "Time spent  | Time remain.| Progress             | Trace   | Traces/sec\n",
      "0d:00:00:00 | 0d:00:00:00 | #################### | 400/400 | 1,491.57       \n",
      "Time spent  | Time remain.| Progress             | Trace   | Traces/sec\n",
      "0d:00:00:00 | 0d:00:00:00 | #################### | 400/400 | 426.57       \n",
      "Time spent  | Time remain.| Progress             | Trace   | Traces/sec\n",
      "0d:00:00:00 | 0d:00:00:00 | #################### | 400/400 | 1,529.90       \n",
      "Time spent  | Time remain.| Progress             | Trace   | Traces/sec\n",
      "0d:00:00:00 | 0d:00:00:00 | #################### | 400/400 | 443.50       \n",
      "Time spent  | Time remain.| Progress             | Trace   | Traces/sec\n",
      "0d:00:00:00 | 0d:00:00:00 | #################### | 450/450 | 1,221.69       \n",
      "Time spent  | Time remain.| Progress             | Trace   | Traces/sec\n",
      "0d:00:00:01 | 0d:00:00:00 | #################### | 450/450 | 372.46       \n",
      "Time spent  | Time remain.| Progress             | Trace   | Traces/sec\n",
      "0d:00:00:00 | 0d:00:00:00 | #################### | 450/450 | 1,486.83       \n",
      "Time spent  | Time remain.| Progress             | Trace   | Traces/sec\n",
      "0d:00:00:01 | 0d:00:00:00 | #################### | 450/450 | 393.18       \n",
      "Time spent  | Time remain.| Progress             | Trace   | Traces/sec\n",
      "0d:00:00:00 | 0d:00:00:00 | #################### | 450/450 | 1,513.62       \n",
      "Time spent  | Time remain.| Progress             | Trace   | Traces/sec\n",
      "0d:00:00:00 | 0d:00:00:00 | #################### | 450/450 | 467.08       \n",
      "Time spent  | Time remain.| Progress             | Trace   | Traces/sec\n",
      "0d:00:00:00 | 0d:00:00:00 | #################### | 450/450 | 1,488.44       \n",
      "Time spent  | Time remain.| Progress             | Trace   | Traces/sec\n",
      "0d:00:00:00 | 0d:00:00:00 | #################### | 450/450 | 469.32       \n",
      "Time spent  | Time remain.| Progress             | Trace   | Traces/sec\n",
      "0d:00:00:00 | 0d:00:00:00 | #################### | 450/450 | 1,471.08       \n",
      "Time spent  | Time remain.| Progress             | Trace   | Traces/sec\n",
      "0d:00:00:00 | 0d:00:00:00 | #################### | 450/450 | 481.59       \n",
      "Time spent  | Time remain.| Progress             | Trace   | Traces/sec\n",
      "0d:00:00:00 | 0d:00:00:00 | #################### | 450/450 | 1,582.34       \n",
      "Time spent  | Time remain.| Progress             | Trace   | Traces/sec\n",
      "0d:00:00:00 | 0d:00:00:00 | #################### | 450/450 | 479.01       \n",
      "Time spent  | Time remain.| Progress             | Trace   | Traces/sec\n",
      "0d:00:00:00 | 0d:00:00:00 | #################### | 450/450 | 1,530.31       \n",
      "Time spent  | Time remain.| Progress             | Trace   | Traces/sec\n",
      "0d:00:00:00 | 0d:00:00:00 | #################### | 450/450 | 468.55       \n",
      "Time spent  | Time remain.| Progress             | Trace   | Traces/sec\n",
      "0d:00:00:00 | 0d:00:00:00 | #################### | 450/450 | 1,511.71       \n",
      "Time spent  | Time remain.| Progress             | Trace   | Traces/sec\n",
      "0d:00:00:01 | 0d:00:00:00 | #################### | 450/450 | 388.20       \n",
      "Time spent  | Time remain.| Progress             | Trace   | Traces/sec\n",
      "0d:00:00:00 | 0d:00:00:00 | #################### | 450/450 | 1,431.11       \n",
      "Time spent  | Time remain.| Progress             | Trace   | Traces/sec\n",
      "0d:00:00:01 | 0d:00:00:00 | #################### | 450/450 | 416.59       \n",
      "Time spent  | Time remain.| Progress             | Trace   | Traces/sec\n",
      "0d:00:00:00 | 0d:00:00:00 | #################### | 450/450 | 1,544.16       \n",
      "Time spent  | Time remain.| Progress             | Trace   | Traces/sec\n",
      "0d:00:00:00 | 0d:00:00:00 | #################### | 450/450 | 460.09       \n",
      "Time spent  | Time remain.| Progress             | Trace   | Traces/sec\n",
      "0d:00:00:00 | 0d:00:00:00 | #################### | 500/500 | 1,530.42       \n",
      "Time spent  | Time remain.| Progress             | Trace   | Traces/sec\n",
      "0d:00:00:01 | 0d:00:00:00 | #################### | 500/500 | 469.44       \n",
      "Time spent  | Time remain.| Progress             | Trace   | Traces/sec\n",
      "0d:00:00:00 | 0d:00:00:00 | #################### | 500/500 | 1,552.55       \n",
      "Time spent  | Time remain.| Progress             | Trace   | Traces/sec\n",
      "0d:00:00:01 | 0d:00:00:00 | #################### | 500/500 | 446.33       \n",
      "Time spent  | Time remain.| Progress             | Trace   | Traces/sec\n",
      "0d:00:00:00 | 0d:00:00:00 | #################### | 500/500 | 1,449.27       \n",
      "Time spent  | Time remain.| Progress             | Trace   | Traces/sec\n"
     ]
    },
    {
     "name": "stdout",
     "output_type": "stream",
     "text": [
      "0d:00:00:01 | 0d:00:00:00 | #################### | 500/500 | 456.90       \n",
      "Time spent  | Time remain.| Progress             | Trace   | Traces/sec\n",
      "0d:00:00:00 | 0d:00:00:00 | #################### | 500/500 | 1,532.41       \n",
      "Time spent  | Time remain.| Progress             | Trace   | Traces/sec\n",
      "0d:00:00:01 | 0d:00:00:00 | #################### | 500/500 | 458.14       \n",
      "Time spent  | Time remain.| Progress             | Trace   | Traces/sec\n",
      "0d:00:00:00 | 0d:00:00:00 | #################### | 500/500 | 1,489.77       \n",
      "Time spent  | Time remain.| Progress             | Trace   | Traces/sec\n",
      "0d:00:00:01 | 0d:00:00:00 | #################### | 500/500 | 466.95       \n",
      "Time spent  | Time remain.| Progress             | Trace   | Traces/sec\n",
      "0d:00:00:00 | 0d:00:00:00 | #################### | 500/500 | 1,519.28       \n",
      "Time spent  | Time remain.| Progress             | Trace   | Traces/sec\n",
      "0d:00:00:01 | 0d:00:00:00 | #################### | 500/500 | 454.36       \n",
      "Time spent  | Time remain.| Progress             | Trace   | Traces/sec\n",
      "0d:00:00:00 | 0d:00:00:00 | #################### | 500/500 | 1,479.69       \n",
      "Time spent  | Time remain.| Progress             | Trace   | Traces/sec\n",
      "0d:00:00:01 | 0d:00:00:00 | #################### | 500/500 | 462.94       \n",
      "Time spent  | Time remain.| Progress             | Trace   | Traces/sec\n",
      "0d:00:00:00 | 0d:00:00:00 | #################### | 500/500 | 1,478.59       \n",
      "Time spent  | Time remain.| Progress             | Trace   | Traces/sec\n",
      "0d:00:00:01 | 0d:00:00:00 | #################### | 500/500 | 468.58       \n",
      "Time spent  | Time remain.| Progress             | Trace   | Traces/sec\n",
      "0d:00:00:00 | 0d:00:00:00 | #################### | 500/500 | 1,507.50       \n",
      "Time spent  | Time remain.| Progress             | Trace   | Traces/sec\n",
      "0d:00:00:01 | 0d:00:00:00 | #################### | 500/500 | 467.16       \n",
      "Time spent  | Time remain.| Progress             | Trace   | Traces/sec\n",
      "0d:00:00:00 | 0d:00:00:00 | #################### | 500/500 | 1,507.40       \n",
      "Time spent  | Time remain.| Progress             | Trace   | Traces/sec\n",
      "0d:00:00:01 | 0d:00:00:00 | #################### | 500/500 | 466.46       \n",
      "Time spent  | Time remain.| Progress             | Trace   | Traces/sec\n",
      "0d:00:00:00 | 0d:00:00:00 | #################### | 550/550 | 1,511.64       \n",
      "Time spent  | Time remain.| Progress             | Trace   | Traces/sec\n",
      "0d:00:00:01 | 0d:00:00:00 | #################### | 550/550 | 462.45       \n",
      "Time spent  | Time remain.| Progress             | Trace   | Traces/sec\n",
      "0d:00:00:00 | 0d:00:00:00 | #################### | 550/550 | 1,539.43       \n",
      "Time spent  | Time remain.| Progress             | Trace   | Traces/sec\n",
      "0d:00:00:01 | 0d:00:00:00 | #################### | 550/550 | 468.95       \n",
      "Time spent  | Time remain.| Progress             | Trace   | Traces/sec\n",
      "0d:00:00:00 | 0d:00:00:00 | #################### | 550/550 | 1,527.71       \n",
      "Time spent  | Time remain.| Progress             | Trace   | Traces/sec\n",
      "0d:00:00:01 | 0d:00:00:00 | #################### | 550/550 | 466.67       \n",
      "Time spent  | Time remain.| Progress             | Trace   | Traces/sec\n",
      "0d:00:00:00 | 0d:00:00:00 | #################### | 550/550 | 1,442.88       \n",
      "Time spent  | Time remain.| Progress             | Trace   | Traces/sec\n",
      "0d:00:00:01 | 0d:00:00:00 | #################### | 550/550 | 430.68       \n",
      "Time spent  | Time remain.| Progress             | Trace   | Traces/sec\n",
      "0d:00:00:00 | 0d:00:00:00 | #################### | 550/550 | 1,538.88       \n",
      "Time spent  | Time remain.| Progress             | Trace   | Traces/sec\n",
      "0d:00:00:01 | 0d:00:00:00 | #################### | 550/550 | 447.05       \n",
      "Time spent  | Time remain.| Progress             | Trace   | Traces/sec\n",
      "0d:00:00:00 | 0d:00:00:00 | #################### | 550/550 | 1,379.80       \n",
      "Time spent  | Time remain.| Progress             | Trace   | Traces/sec\n",
      "0d:00:00:01 | 0d:00:00:00 | #################### | 550/550 | 439.25       \n",
      "Time spent  | Time remain.| Progress             | Trace   | Traces/sec\n",
      "0d:00:00:00 | 0d:00:00:00 | #################### | 550/550 | 1,576.65       \n",
      "Time spent  | Time remain.| Progress             | Trace   | Traces/sec\n",
      "0d:00:00:01 | 0d:00:00:00 | #################### | 550/550 | 457.01       \n",
      "Time spent  | Time remain.| Progress             | Trace   | Traces/sec\n",
      "0d:00:00:00 | 0d:00:00:00 | #################### | 550/550 | 1,534.65       \n",
      "Time spent  | Time remain.| Progress             | Trace   | Traces/sec\n",
      "0d:00:00:01 | 0d:00:00:00 | #################### | 550/550 | 425.78       \n",
      "Time spent  | Time remain.| Progress             | Trace   | Traces/sec\n",
      "0d:00:00:00 | 0d:00:00:00 | #################### | 550/550 | 1,479.63       \n",
      "Time spent  | Time remain.| Progress             | Trace   | Traces/sec\n",
      "0d:00:00:01 | 0d:00:00:00 | #################### | 550/550 | 412.36       \n",
      "Time spent  | Time remain.| Progress             | Trace   | Traces/sec\n",
      "0d:00:00:00 | 0d:00:00:00 | #################### | 550/550 | 1,512.80       \n",
      "Time spent  | Time remain.| Progress             | Trace   | Traces/sec\n",
      "0d:00:00:01 | 0d:00:00:00 | #################### | 550/550 | 447.56       \n",
      "Time spent  | Time remain.| Progress             | Trace   | Traces/sec\n",
      "0d:00:00:00 | 0d:00:00:00 | #################### | 600/600 | 1,443.79       \n",
      "Time spent  | Time remain.| Progress             | Trace   | Traces/sec\n",
      "0d:00:00:01 | 0d:00:00:00 | #################### | 600/600 | 411.52       \n",
      "Time spent  | Time remain.| Progress             | Trace   | Traces/sec\n",
      "0d:00:00:00 | 0d:00:00:00 | #################### | 600/600 | 1,509.12       \n",
      "Time spent  | Time remain.| Progress             | Trace   | Traces/sec\n",
      "0d:00:00:01 | 0d:00:00:00 | #################### | 600/600 | 419.13       \n",
      "Time spent  | Time remain.| Progress             | Trace   | Traces/sec\n",
      "0d:00:00:00 | 0d:00:00:00 | #################### | 600/600 | 1,607.70       \n",
      "Time spent  | Time remain.| Progress             | Trace   | Traces/sec\n",
      "0d:00:00:01 | 0d:00:00:00 | #################### | 600/600 | 474.38       \n",
      "Time spent  | Time remain.| Progress             | Trace   | Traces/sec\n",
      "0d:00:00:00 | 0d:00:00:00 | #################### | 600/600 | 1,603.41       \n",
      "Time spent  | Time remain.| Progress             | Trace   | Traces/sec\n",
      "0d:00:00:01 | 0d:00:00:00 | #################### | 600/600 | 442.66       \n",
      "Time spent  | Time remain.| Progress             | Trace   | Traces/sec\n",
      "0d:00:00:00 | 0d:00:00:00 | #################### | 600/600 | 1,558.69       \n",
      "Time spent  | Time remain.| Progress             | Trace   | Traces/sec\n",
      "0d:00:00:01 | 0d:00:00:00 | #################### | 600/600 | 432.90       \n",
      "Time spent  | Time remain.| Progress             | Trace   | Traces/sec\n",
      "0d:00:00:00 | 0d:00:00:00 | #################### | 600/600 | 1,543.51       \n",
      "Time spent  | Time remain.| Progress             | Trace   | Traces/sec\n",
      "0d:00:00:01 | 0d:00:00:00 | #################### | 600/600 | 480.85       \n",
      "Time spent  | Time remain.| Progress             | Trace   | Traces/sec\n",
      "0d:00:00:00 | 0d:00:00:00 | #################### | 600/600 | 1,510.03       \n",
      "Time spent  | Time remain.| Progress             | Trace   | Traces/sec\n",
      "0d:00:00:01 | 0d:00:00:00 | #################### | 600/600 | 460.29       \n",
      "Time spent  | Time remain.| Progress             | Trace   | Traces/sec\n",
      "0d:00:00:00 | 0d:00:00:00 | #################### | 600/600 | 1,422.15       \n",
      "Time spent  | Time remain.| Progress             | Trace   | Traces/sec\n",
      "0d:00:00:01 | 0d:00:00:00 | #################### | 600/600 | 466.32       \n",
      "Time spent  | Time remain.| Progress             | Trace   | Traces/sec\n",
      "0d:00:00:00 | 0d:00:00:00 | #################### | 600/600 | 1,592.75       \n",
      "Time spent  | Time remain.| Progress             | Trace   | Traces/sec\n",
      "0d:00:00:01 | 0d:00:00:00 | #################### | 600/600 | 487.90       \n",
      "Time spent  | Time remain.| Progress             | Trace   | Traces/sec\n",
      "0d:00:00:00 | 0d:00:00:00 | #################### | 600/600 | 1,584.44       \n",
      "Time spent  | Time remain.| Progress             | Trace   | Traces/sec\n",
      "0d:00:00:01 | 0d:00:00:00 | #################### | 600/600 | 482.98       \n",
      "Time spent  | Time remain.| Progress             | Trace   | Traces/sec\n"
     ]
    },
    {
     "name": "stdout",
     "output_type": "stream",
     "text": [
      "0d:00:00:00 | 0d:00:00:00 | #################### | 650/650 | 1,558.54       \n",
      "Time spent  | Time remain.| Progress             | Trace   | Traces/sec\n",
      "0d:00:00:01 | 0d:00:00:00 | #################### | 650/650 | 491.57       \n",
      "Time spent  | Time remain.| Progress             | Trace   | Traces/sec\n",
      "0d:00:00:00 | 0d:00:00:00 | #################### | 650/650 | 1,542.76       \n",
      "Time spent  | Time remain.| Progress             | Trace   | Traces/sec\n",
      "0d:00:00:01 | 0d:00:00:00 | #################### | 650/650 | 483.26       \n",
      "Time spent  | Time remain.| Progress             | Trace   | Traces/sec\n",
      "0d:00:00:00 | 0d:00:00:00 | #################### | 650/650 | 1,537.41       \n",
      "Time spent  | Time remain.| Progress             | Trace   | Traces/sec\n",
      "0d:00:00:01 | 0d:00:00:00 | #################### | 650/650 | 492.05       \n",
      "Time spent  | Time remain.| Progress             | Trace   | Traces/sec\n",
      "0d:00:00:00 | 0d:00:00:00 | #################### | 650/650 | 1,561.36       \n",
      "Time spent  | Time remain.| Progress             | Trace   | Traces/sec\n",
      "0d:00:00:01 | 0d:00:00:00 | #################### | 650/650 | 491.70       \n",
      "Time spent  | Time remain.| Progress             | Trace   | Traces/sec\n",
      "0d:00:00:00 | 0d:00:00:00 | #################### | 650/650 | 1,541.58       \n",
      "Time spent  | Time remain.| Progress             | Trace   | Traces/sec\n",
      "0d:00:00:01 | 0d:00:00:00 | #################### | 650/650 | 428.99       \n",
      "Time spent  | Time remain.| Progress             | Trace   | Traces/sec\n",
      "0d:00:00:00 | 0d:00:00:00 | #################### | 650/650 | 1,306.13       \n",
      "Time spent  | Time remain.| Progress             | Trace   | Traces/sec\n",
      "0d:00:00:01 | 0d:00:00:00 | #################### | 650/650 | 453.60       \n",
      "Time spent  | Time remain.| Progress             | Trace   | Traces/sec\n",
      "0d:00:00:00 | 0d:00:00:00 | #################### | 650/650 | 1,447.97       \n",
      "Time spent  | Time remain.| Progress             | Trace   | Traces/sec\n",
      "0d:00:00:01 | 0d:00:00:00 | #################### | 650/650 | 433.31       \n",
      "Time spent  | Time remain.| Progress             | Trace   | Traces/sec\n",
      "0d:00:00:00 | 0d:00:00:00 | #################### | 650/650 | 1,463.07       \n",
      "Time spent  | Time remain.| Progress             | Trace   | Traces/sec\n",
      "0d:00:00:01 | 0d:00:00:00 | #################### | 650/650 | 430.91       \n",
      "Time spent  | Time remain.| Progress             | Trace   | Traces/sec\n",
      "0d:00:00:00 | 0d:00:00:00 | #################### | 650/650 | 1,477.15       \n",
      "Time spent  | Time remain.| Progress             | Trace   | Traces/sec\n",
      "0d:00:00:01 | 0d:00:00:00 | #################### | 650/650 | 450.41       \n",
      "Time spent  | Time remain.| Progress             | Trace   | Traces/sec\n",
      "0d:00:00:00 | 0d:00:00:00 | #################### | 650/650 | 1,477.60       \n",
      "Time spent  | Time remain.| Progress             | Trace   | Traces/sec\n",
      "0d:00:00:01 | 0d:00:00:00 | #################### | 650/650 | 458.25       \n",
      "Time spent  | Time remain.| Progress             | Trace   | Traces/sec\n",
      "0d:00:00:00 | 0d:00:00:00 | #################### | 700/700 | 1,486.23       \n",
      "Time spent  | Time remain.| Progress             | Trace   | Traces/sec\n",
      "0d:00:00:01 | 0d:00:00:00 | #################### | 700/700 | 474.10       \n",
      "Time spent  | Time remain.| Progress             | Trace   | Traces/sec\n",
      "0d:00:00:00 | 0d:00:00:00 | #################### | 700/700 | 1,550.94       \n",
      "Time spent  | Time remain.| Progress             | Trace   | Traces/sec\n",
      "0d:00:00:01 | 0d:00:00:00 | #################### | 700/700 | 493.57       \n",
      "Time spent  | Time remain.| Progress             | Trace   | Traces/sec\n",
      "0d:00:00:00 | 0d:00:00:00 | #################### | 700/700 | 1,521.96       \n",
      "Time spent  | Time remain.| Progress             | Trace   | Traces/sec\n",
      "0d:00:00:01 | 0d:00:00:00 | #################### | 700/700 | 439.24       \n",
      "Time spent  | Time remain.| Progress             | Trace   | Traces/sec\n",
      "0d:00:00:00 | 0d:00:00:00 | #################### | 700/700 | 1,512.19       \n",
      "Time spent  | Time remain.| Progress             | Trace   | Traces/sec\n",
      "0d:00:00:01 | 0d:00:00:00 | #################### | 700/700 | 381.80       \n",
      "Time spent  | Time remain.| Progress             | Trace   | Traces/sec\n",
      "0d:00:00:00 | 0d:00:00:00 | #################### | 700/700 | 1,576.75       \n",
      "Time spent  | Time remain.| Progress             | Trace   | Traces/sec\n",
      "0d:00:00:01 | 0d:00:00:00 | #################### | 700/700 | 487.78       \n",
      "Time spent  | Time remain.| Progress             | Trace   | Traces/sec\n",
      "0d:00:00:00 | 0d:00:00:00 | #################### | 700/700 | 1,474.02       \n",
      "Time spent  | Time remain.| Progress             | Trace   | Traces/sec\n",
      "0d:00:00:01 | 0d:00:00:00 | #################### | 700/700 | 426.77       \n",
      "Time spent  | Time remain.| Progress             | Trace   | Traces/sec\n",
      "0d:00:00:00 | 0d:00:00:00 | #################### | 700/700 | 1,553.55       \n",
      "Time spent  | Time remain.| Progress             | Trace   | Traces/sec\n",
      "0d:00:00:01 | 0d:00:00:00 | #################### | 700/700 | 490.13       \n",
      "Time spent  | Time remain.| Progress             | Trace   | Traces/sec\n",
      "0d:00:00:00 | 0d:00:00:00 | #################### | 700/700 | 1,567.48       \n",
      "Time spent  | Time remain.| Progress             | Trace   | Traces/sec\n",
      "0d:00:00:01 | 0d:00:00:00 | #################### | 700/700 | 439.23       \n",
      "Time spent  | Time remain.| Progress             | Trace   | Traces/sec\n",
      "0d:00:00:00 | 0d:00:00:00 | #################### | 700/700 | 1,356.38       \n",
      "Time spent  | Time remain.| Progress             | Trace   | Traces/sec\n",
      "0d:00:00:01 | 0d:00:00:00 | #################### | 700/700 | 439.96       \n",
      "Time spent  | Time remain.| Progress             | Trace   | Traces/sec\n",
      "0d:00:00:00 | 0d:00:00:00 | #################### | 700/700 | 1,548.01       \n",
      "Time spent  | Time remain.| Progress             | Trace   | Traces/sec\n",
      "0d:00:00:01 | 0d:00:00:00 | #################### | 700/700 | 477.92       \n",
      "Time spent  | Time remain.| Progress             | Trace   | Traces/sec\n",
      "0d:00:00:00 | 0d:00:00:00 | #################### | 750/750 | 1,536.51       \n",
      "Time spent  | Time remain.| Progress             | Trace   | Traces/sec\n",
      "0d:00:00:01 | 0d:00:00:00 | #################### | 750/750 | 476.49       \n",
      "Time spent  | Time remain.| Progress             | Trace   | Traces/sec\n",
      "0d:00:00:00 | 0d:00:00:00 | #################### | 750/750 | 1,544.56       \n",
      "Time spent  | Time remain.| Progress             | Trace   | Traces/sec\n",
      "0d:00:00:01 | 0d:00:00:00 | #################### | 750/750 | 439.10       \n",
      "Time spent  | Time remain.| Progress             | Trace   | Traces/sec\n",
      "0d:00:00:00 | 0d:00:00:00 | #################### | 750/750 | 1,445.66       \n",
      "Time spent  | Time remain.| Progress             | Trace   | Traces/sec\n",
      "0d:00:00:01 | 0d:00:00:00 | #################### | 750/750 | 471.02       \n",
      "Time spent  | Time remain.| Progress             | Trace   | Traces/sec\n",
      "0d:00:00:00 | 0d:00:00:00 | #################### | 750/750 | 1,565.85       \n",
      "Time spent  | Time remain.| Progress             | Trace   | Traces/sec\n",
      "0d:00:00:01 | 0d:00:00:00 | #################### | 750/750 | 483.24       \n",
      "Time spent  | Time remain.| Progress             | Trace   | Traces/sec\n",
      "0d:00:00:00 | 0d:00:00:00 | #################### | 750/750 | 1,568.20       \n",
      "Time spent  | Time remain.| Progress             | Trace   | Traces/sec\n",
      "0d:00:00:01 | 0d:00:00:00 | #################### | 750/750 | 473.17       \n",
      "Time spent  | Time remain.| Progress             | Trace   | Traces/sec\n",
      "0d:00:00:00 | 0d:00:00:00 | #################### | 750/750 | 1,548.06       \n",
      "Time spent  | Time remain.| Progress             | Trace   | Traces/sec\n",
      "0d:00:00:01 | 0d:00:00:00 | #################### | 750/750 | 474.08       \n",
      "Time spent  | Time remain.| Progress             | Trace   | Traces/sec\n",
      "0d:00:00:00 | 0d:00:00:00 | #################### | 750/750 | 1,537.32       \n",
      "Time spent  | Time remain.| Progress             | Trace   | Traces/sec\n",
      "0d:00:00:01 | 0d:00:00:00 | #################### | 750/750 | 473.53       \n",
      "Time spent  | Time remain.| Progress             | Trace   | Traces/sec\n",
      "0d:00:00:00 | 0d:00:00:00 | #################### | 750/750 | 1,555.25       \n",
      "Time spent  | Time remain.| Progress             | Trace   | Traces/sec\n"
     ]
    },
    {
     "name": "stdout",
     "output_type": "stream",
     "text": [
      "0d:00:00:01 | 0d:00:00:00 | #################### | 750/750 | 487.30       \n",
      "Time spent  | Time remain.| Progress             | Trace   | Traces/sec\n",
      "0d:00:00:00 | 0d:00:00:00 | #################### | 750/750 | 1,571.59       \n",
      "Time spent  | Time remain.| Progress             | Trace   | Traces/sec\n",
      "0d:00:00:01 | 0d:00:00:00 | #################### | 750/750 | 469.64       \n",
      "Time spent  | Time remain.| Progress             | Trace   | Traces/sec\n",
      "0d:00:00:00 | 0d:00:00:00 | #################### | 750/750 | 1,415.17       \n",
      "Time spent  | Time remain.| Progress             | Trace   | Traces/sec\n",
      "0d:00:00:01 | 0d:00:00:00 | #################### | 750/750 | 476.14       \n",
      "Time spent  | Time remain.| Progress             | Trace   | Traces/sec\n",
      "0d:00:00:00 | 0d:00:00:00 | #################### | 800/800 | 1,556.42       \n",
      "Time spent  | Time remain.| Progress             | Trace   | Traces/sec\n",
      "0d:00:00:01 | 0d:00:00:00 | #################### | 800/800 | 466.72       \n",
      "Time spent  | Time remain.| Progress             | Trace   | Traces/sec\n",
      "0d:00:00:00 | 0d:00:00:00 | #################### | 800/800 | 1,571.54       \n",
      "Time spent  | Time remain.| Progress             | Trace   | Traces/sec\n",
      "0d:00:00:01 | 0d:00:00:00 | #################### | 800/800 | 485.35       \n",
      "Time spent  | Time remain.| Progress             | Trace   | Traces/sec\n",
      "0d:00:00:00 | 0d:00:00:00 | #################### | 800/800 | 1,289.38       \n",
      "Time spent  | Time remain.| Progress             | Trace   | Traces/sec\n",
      "0d:00:00:01 | 0d:00:00:00 | #################### | 800/800 | 457.26       \n",
      "Time spent  | Time remain.| Progress             | Trace   | Traces/sec\n",
      "0d:00:00:00 | 0d:00:00:00 | #################### | 800/800 | 1,567.51       \n",
      "Time spent  | Time remain.| Progress             | Trace   | Traces/sec\n",
      "0d:00:00:01 | 0d:00:00:00 | #################### | 800/800 | 482.71       \n",
      "Time spent  | Time remain.| Progress             | Trace   | Traces/sec\n",
      "0d:00:00:00 | 0d:00:00:00 | #################### | 800/800 | 1,583.25       \n",
      "Time spent  | Time remain.| Progress             | Trace   | Traces/sec\n",
      "0d:00:00:01 | 0d:00:00:00 | #################### | 800/800 | 488.84       \n",
      "Time spent  | Time remain.| Progress             | Trace   | Traces/sec\n",
      "0d:00:00:00 | 0d:00:00:00 | #################### | 800/800 | 1,473.52       \n",
      "Time spent  | Time remain.| Progress             | Trace   | Traces/sec\n",
      "0d:00:00:01 | 0d:00:00:00 | #################### | 800/800 | 467.41       \n",
      "Time spent  | Time remain.| Progress             | Trace   | Traces/sec\n",
      "0d:00:00:00 | 0d:00:00:00 | #################### | 800/800 | 1,449.33       \n",
      "Time spent  | Time remain.| Progress             | Trace   | Traces/sec\n",
      "0d:00:00:01 | 0d:00:00:00 | #################### | 800/800 | 475.31       \n",
      "Time spent  | Time remain.| Progress             | Trace   | Traces/sec\n",
      "0d:00:00:00 | 0d:00:00:00 | #################### | 800/800 | 1,561.18       \n",
      "Time spent  | Time remain.| Progress             | Trace   | Traces/sec\n",
      "0d:00:00:01 | 0d:00:00:00 | #################### | 800/800 | 429.58       \n",
      "Time spent  | Time remain.| Progress             | Trace   | Traces/sec\n",
      "0d:00:00:00 | 0d:00:00:00 | #################### | 800/800 | 1,494.08       \n",
      "Time spent  | Time remain.| Progress             | Trace   | Traces/sec\n",
      "0d:00:00:01 | 0d:00:00:00 | #################### | 800/800 | 477.83       \n",
      "Time spent  | Time remain.| Progress             | Trace   | Traces/sec\n",
      "0d:00:00:00 | 0d:00:00:00 | #################### | 800/800 | 1,630.78       \n",
      "Time spent  | Time remain.| Progress             | Trace   | Traces/sec\n",
      "0d:00:00:01 | 0d:00:00:00 | #################### | 800/800 | 474.68       \n",
      "Time spent  | Time remain.| Progress             | Trace   | Traces/sec\n",
      "0d:00:00:00 | 0d:00:00:00 | #################### | 850/850 | 1,532.72       \n",
      "Time spent  | Time remain.| Progress             | Trace   | Traces/sec\n",
      "0d:00:00:01 | 0d:00:00:00 | #################### | 850/850 | 433.94       \n",
      "Time spent  | Time remain.| Progress             | Trace   | Traces/sec\n",
      "0d:00:00:00 | 0d:00:00:00 | #################### | 850/850 | 1,558.45       \n",
      "Time spent  | Time remain.| Progress             | Trace   | Traces/sec\n",
      "0d:00:00:01 | 0d:00:00:00 | #################### | 850/850 | 490.52       \n",
      "Time spent  | Time remain.| Progress             | Trace   | Traces/sec\n",
      "0d:00:00:00 | 0d:00:00:00 | #################### | 850/850 | 1,545.00       \n",
      "Time spent  | Time remain.| Progress             | Trace   | Traces/sec\n",
      "0d:00:00:01 | 0d:00:00:00 | #################### | 850/850 | 426.90       \n",
      "Time spent  | Time remain.| Progress             | Trace   | Traces/sec\n",
      "0d:00:00:00 | 0d:00:00:00 | #################### | 850/850 | 1,538.87       \n",
      "Time spent  | Time remain.| Progress             | Trace   | Traces/sec\n",
      "0d:00:00:02 | 0d:00:00:00 | #################### | 850/850 | 421.72       \n",
      "Time spent  | Time remain.| Progress             | Trace   | Traces/sec\n",
      "0d:00:00:00 | 0d:00:00:00 | #################### | 850/850 | 1,612.63       \n",
      "Time spent  | Time remain.| Progress             | Trace   | Traces/sec\n",
      "0d:00:00:01 | 0d:00:00:00 | #################### | 850/850 | 440.22       \n",
      "Time spent  | Time remain.| Progress             | Trace   | Traces/sec\n",
      "0d:00:00:00 | 0d:00:00:00 | #################### | 850/850 | 1,419.74       \n",
      "Time spent  | Time remain.| Progress             | Trace   | Traces/sec\n",
      "0d:00:00:01 | 0d:00:00:00 | #################### | 850/850 | 436.76       \n",
      "Time spent  | Time remain.| Progress             | Trace   | Traces/sec\n",
      "0d:00:00:00 | 0d:00:00:00 | #################### | 850/850 | 1,593.93       \n",
      "Time spent  | Time remain.| Progress             | Trace   | Traces/sec\n",
      "0d:00:00:01 | 0d:00:00:00 | #################### | 850/850 | 494.82       \n",
      "Time spent  | Time remain.| Progress             | Trace   | Traces/sec\n",
      "0d:00:00:00 | 0d:00:00:00 | #################### | 850/850 | 1,581.62       \n",
      "Time spent  | Time remain.| Progress             | Trace   | Traces/sec\n",
      "0d:00:00:01 | 0d:00:00:00 | #################### | 850/850 | 488.74       \n",
      "Time spent  | Time remain.| Progress             | Trace   | Traces/sec\n",
      "0d:00:00:00 | 0d:00:00:00 | #################### | 850/850 | 1,552.36       \n",
      "Time spent  | Time remain.| Progress             | Trace   | Traces/sec\n",
      "0d:00:00:01 | 0d:00:00:00 | #################### | 850/850 | 492.61       \n",
      "Time spent  | Time remain.| Progress             | Trace   | Traces/sec\n",
      "0d:00:00:00 | 0d:00:00:00 | #################### | 850/850 | 1,576.83       \n",
      "Time spent  | Time remain.| Progress             | Trace   | Traces/sec\n",
      "0d:00:00:01 | 0d:00:00:00 | #################### | 850/850 | 486.66       \n",
      "Time spent  | Time remain.| Progress             | Trace   | Traces/sec\n",
      "0d:00:00:00 | 0d:00:00:00 | #################### | 900/900 | 1,507.38       \n",
      "Time spent  | Time remain.| Progress             | Trace   | Traces/sec\n",
      "0d:00:00:01 | 0d:00:00:00 | #################### | 900/900 | 473.98       \n",
      "Time spent  | Time remain.| Progress             | Trace   | Traces/sec\n",
      "0d:00:00:00 | 0d:00:00:00 | #################### | 900/900 | 1,559.97       \n",
      "Time spent  | Time remain.| Progress             | Trace   | Traces/sec\n",
      "0d:00:00:01 | 0d:00:00:00 | #################### | 900/900 | 496.02       \n",
      "Time spent  | Time remain.| Progress             | Trace   | Traces/sec\n",
      "0d:00:00:00 | 0d:00:00:00 | #################### | 900/900 | 1,594.54       \n",
      "Time spent  | Time remain.| Progress             | Trace   | Traces/sec\n",
      "0d:00:00:01 | 0d:00:00:00 | #################### | 900/900 | 497.15       \n",
      "Time spent  | Time remain.| Progress             | Trace   | Traces/sec\n",
      "0d:00:00:00 | 0d:00:00:00 | #################### | 900/900 | 1,605.60       \n",
      "Time spent  | Time remain.| Progress             | Trace   | Traces/sec\n",
      "0d:00:00:01 | 0d:00:00:00 | #################### | 900/900 | 498.47       \n",
      "Time spent  | Time remain.| Progress             | Trace   | Traces/sec\n",
      "0d:00:00:00 | 0d:00:00:00 | #################### | 900/900 | 1,479.21       \n",
      "Time spent  | Time remain.| Progress             | Trace   | Traces/sec\n",
      "0d:00:00:01 | 0d:00:00:00 | #################### | 900/900 | 492.22       \n",
      "Time spent  | Time remain.| Progress             | Trace   | Traces/sec\n"
     ]
    },
    {
     "name": "stdout",
     "output_type": "stream",
     "text": [
      "0d:00:00:00 | 0d:00:00:00 | #################### | 900/900 | 1,559.48       \n",
      "Time spent  | Time remain.| Progress             | Trace   | Traces/sec\n",
      "0d:00:00:01 | 0d:00:00:00 | #################### | 900/900 | 492.02       \n",
      "Time spent  | Time remain.| Progress             | Trace   | Traces/sec\n",
      "0d:00:00:00 | 0d:00:00:00 | #################### | 900/900 | 1,586.85       \n",
      "Time spent  | Time remain.| Progress             | Trace   | Traces/sec\n",
      "0d:00:00:01 | 0d:00:00:00 | #################### | 900/900 | 501.88       \n",
      "Time spent  | Time remain.| Progress             | Trace   | Traces/sec\n",
      "0d:00:00:00 | 0d:00:00:00 | #################### | 900/900 | 1,582.82       \n",
      "Time spent  | Time remain.| Progress             | Trace   | Traces/sec\n",
      "0d:00:00:01 | 0d:00:00:00 | #################### | 900/900 | 498.27       \n",
      "Time spent  | Time remain.| Progress             | Trace   | Traces/sec\n",
      "0d:00:00:00 | 0d:00:00:00 | #################### | 900/900 | 1,565.60       \n",
      "Time spent  | Time remain.| Progress             | Trace   | Traces/sec\n",
      "0d:00:00:01 | 0d:00:00:00 | #################### | 900/900 | 480.07       \n",
      "Time spent  | Time remain.| Progress             | Trace   | Traces/sec\n",
      "0d:00:00:00 | 0d:00:00:00 | #################### | 900/900 | 1,564.07       \n",
      "Time spent  | Time remain.| Progress             | Trace   | Traces/sec\n",
      "0d:00:00:01 | 0d:00:00:00 | #################### | 900/900 | 481.58       \n",
      "Time spent  | Time remain.| Progress             | Trace   | Traces/sec\n",
      "0d:00:00:00 | 0d:00:00:00 | #################### | 950/950 | 1,507.52       \n",
      "Time spent  | Time remain.| Progress             | Trace   | Traces/sec\n",
      "0d:00:00:02 | 0d:00:00:00 | #################### | 950/950 | 466.11       \n",
      "Time spent  | Time remain.| Progress             | Trace   | Traces/sec\n",
      "0d:00:00:00 | 0d:00:00:00 | #################### | 950/950 | 1,403.09       \n",
      "Time spent  | Time remain.| Progress             | Trace   | Traces/sec\n",
      "0d:00:00:02 | 0d:00:00:00 | #################### | 950/950 | 445.28       \n",
      "Time spent  | Time remain.| Progress             | Trace   | Traces/sec\n",
      "0d:00:00:00 | 0d:00:00:00 | #################### | 950/950 | 1,669.17       \n",
      "Time spent  | Time remain.| Progress             | Trace   | Traces/sec\n",
      "0d:00:00:01 | 0d:00:00:00 | #################### | 950/950 | 494.52       \n",
      "Time spent  | Time remain.| Progress             | Trace   | Traces/sec\n",
      "0d:00:00:00 | 0d:00:00:00 | #################### | 950/950 | 1,541.16       \n",
      "Time spent  | Time remain.| Progress             | Trace   | Traces/sec\n",
      "0d:00:00:02 | 0d:00:00:00 | #################### | 950/950 | 448.41       \n",
      "Time spent  | Time remain.| Progress             | Trace   | Traces/sec\n",
      "0d:00:00:00 | 0d:00:00:00 | #################### | 950/950 | 1,607.65       \n",
      "Time spent  | Time remain.| Progress             | Trace   | Traces/sec\n",
      "0d:00:00:02 | 0d:00:00:00 | #################### | 950/950 | 465.21       \n",
      "Time spent  | Time remain.| Progress             | Trace   | Traces/sec\n",
      "0d:00:00:00 | 0d:00:00:00 | #################### | 950/950 | 1,508.97       \n",
      "Time spent  | Time remain.| Progress             | Trace   | Traces/sec\n",
      "0d:00:00:01 | 0d:00:00:00 | #################### | 950/950 | 494.81       \n",
      "Time spent  | Time remain.| Progress             | Trace   | Traces/sec\n",
      "0d:00:00:00 | 0d:00:00:00 | #################### | 950/950 | 1,567.86       \n",
      "Time spent  | Time remain.| Progress             | Trace   | Traces/sec\n",
      "0d:00:00:01 | 0d:00:00:00 | #################### | 950/950 | 484.29       \n",
      "Time spent  | Time remain.| Progress             | Trace   | Traces/sec\n",
      "0d:00:00:00 | 0d:00:00:00 | #################### | 950/950 | 1,533.77       \n",
      "Time spent  | Time remain.| Progress             | Trace   | Traces/sec\n",
      "0d:00:00:02 | 0d:00:00:00 | #################### | 950/950 | 473.43       \n",
      "Time spent  | Time remain.| Progress             | Trace   | Traces/sec\n",
      "0d:00:00:00 | 0d:00:00:00 | #################### | 950/950 | 1,541.84       \n",
      "Time spent  | Time remain.| Progress             | Trace   | Traces/sec\n",
      "0d:00:00:02 | 0d:00:00:00 | #################### | 950/950 | 422.87       \n",
      "Time spent  | Time remain.| Progress             | Trace   | Traces/sec\n",
      "0d:00:00:00 | 0d:00:00:00 | #################### | 950/950 | 1,523.84       \n",
      "Time spent  | Time remain.| Progress             | Trace   | Traces/sec\n",
      "0d:00:00:02 | 0d:00:00:00 | #################### | 950/950 | 412.34       \n"
     ]
    },
    {
     "data": {
      "image/png": "[encoded data removed]",
      "text/plain": [
       "<Figure size 432x288 with 1 Axes>"
      ]
     },
     "metadata": {
      "needs_background": "light"
     },
     "output_type": "display_data"
    }
   ],
   "source": [
    "plot_divergences(1000)"
   ]
  },
  {
   "cell_type": "code",
   "execution_count": null,
   "metadata": {},
   "outputs": [],
   "source": []
  }
 ],
 "metadata": {
  "celltoolbar": "Raw Cell Format",
  "hide_code_all_hidden": false,
  "kernelspec": {
   "display_name": "Python 3",
   "language": "python",
   "name": "python3"
  },
  "language_info": {
   "codemirror_mode": {
    "name": "ipython",
    "version": 3
   },
   "file_extension": ".py",
   "mimetype": "text/x-python",
   "name": "python",
   "nbconvert_exporter": "python",
   "pygments_lexer": "ipython3",
   "version": "3.7.4"
  }
 },
 "nbformat": 4,
 "nbformat_minor": 2
}
