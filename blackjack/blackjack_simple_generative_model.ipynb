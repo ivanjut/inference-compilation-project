{
 "cells": [
  {
   "cell_type": "code",
   "execution_count": 401,
   "metadata": {},
   "outputs": [],
   "source": [
    "import  matplotlib\n",
    "%matplotlib inline\n",
    "import matplotlib.pyplot as plt;\n",
    "import seaborn as sns; sns.set()\n",
    "\n",
    "import pyprob\n",
    "from pyprob import Model\n",
    "from pyprob.distributions import Normal, Uniform, Categorical, Beta\n",
    "\n",
    "import torch\n",
    "import numpy as np\n",
    "import pandas as pd\n",
    "import math\n",
    "import random"
   ]
  },
  {
   "cell_type": "code",
   "execution_count": 2,
   "metadata": {},
   "outputs": [],
   "source": [
    "faces_to_values = {str(i): i for i in range(2,11)}\n",
    "faces_to_values['A'] = 1\n",
    "for f in ['K', 'Q', 'J']:\n",
    "    faces_to_values[f] = 10"
   ]
  },
  {
   "cell_type": "code",
   "execution_count": 3,
   "metadata": {},
   "outputs": [],
   "source": [
    "class Card:\n",
    "    def __init__(self, face):\n",
    "        \"\"\"\n",
    "        Value: {1, ..., 10, 11, 12, 13} - 11 is J, 12 is Q, 13 is K\n",
    "        \"\"\"\n",
    "        self.face = face\n",
    "        self.value = faces_to_values[face]\n",
    "    \n",
    "    def __repr__(self):\n",
    "        return self.face"
   ]
  },
  {
   "cell_type": "code",
   "execution_count": 6,
   "metadata": {},
   "outputs": [],
   "source": [
    "deck = create_deck(2)"
   ]
  },
  {
   "cell_type": "code",
   "execution_count": 930,
   "metadata": {},
   "outputs": [],
   "source": [
    "# class Blackjack(Model):\n",
    "    \n",
    "#     def __init__(self, num_decks):\n",
    "#         super().__init__(name='Number game')\n",
    "#         self.num_decks = num_decks\n",
    "#         self.deck = self._create_decks()\n",
    "#         self.cards = {}\n",
    "    \n",
    "#     def _create_decks(self):\n",
    "#         deck = []\n",
    "#         for _ in range(self.num_decks):\n",
    "#             for face in faces_to_values.keys():\n",
    "#                 new_card = Card(face)\n",
    "#                 deck.append(new_card)\n",
    "\n",
    "#         return deck\n",
    "    \n",
    "    \n",
    "#     def _deal(self, deck):\n",
    "#         np.random.shuffle(deck)\n",
    "        \n",
    "#         # Dealer\n",
    "#         dealer_card1 = deck.pop()\n",
    "#         dealer_card2 = deck.pop()\n",
    "#         self.cards['dealer'] = [dealer_card1, dealer_card2]\n",
    "        \n",
    "#         # Player\n",
    "#         player_card1 = deck.pop()\n",
    "#         player_card2 = deck.pop()\n",
    "#         self.cards['player'] = [player_card1, player_card2]\n",
    "            \n",
    "    \n",
    "#     def compute_prob_draw_value(self, deck):\n",
    "#         counts = np.zeros(11)\n",
    "#         for card in deck:\n",
    "#             counts[card.value] += 1\n",
    "#         return counts\n",
    "\n",
    "    \n",
    "    \n",
    "#     def forward(self):\n",
    "#         \"\"\"\n",
    "#         Generative sampling process\n",
    "#         \"\"\"\n",
    "#         score = 0  # latent variable to infer\n",
    "        \n",
    "#         deck_copy = self.deck.copy()\n",
    "#         self._deal(deck_copy)\n",
    "        \n",
    "#         hidden_cards = self.cards['dealer']\n",
    "        \n",
    "#         score += hidden_cards[0].value + hidden_cards[1].value\n",
    "        \n",
    "#         for i in range(1,7):\n",
    "#             if score < 16:\n",
    "#                 likelihood = Categorical(self.compute_prob_draw_value(self.deck))\n",
    "#                 new_card = deck_copy.pop()\n",
    "#                 pyprob.observe(likelihood, name='obs{}'.format(i))\n",
    "#                 score += new_card.value\n",
    "#             else:\n",
    "#                 probs = np.zeros(11)\n",
    "#                 probs[0] = 1\n",
    "#                 deterministic = Categorical(probs)\n",
    "#                 pyprob.observe(deterministic, name='obs{}'.format(i))\n",
    "        \n",
    "#         return score\n",
    "    \n",
    "    \n",
    "# model = Blackjack(num_decks=2)\n",
    "# model_nn = Blackjack(num_decks=2)"
   ]
  },
  {
   "cell_type": "code",
   "execution_count": 947,
   "metadata": {},
   "outputs": [],
   "source": [
    "class Deck():\n",
    "    def __init__(self, num_suites):\n",
    "        self.value_dict = {i:0 for i in range(11)}\n",
    "        self.num_suites = num_suites\n",
    "        \n",
    "        for _ in range(num_suites):\n",
    "            for face in faces_to_values.keys():\n",
    "                new_card = Card(face)\n",
    "                self.value_dict[new_card.value] += 1\n",
    "    \n",
    "    def get_value_probs(self):\n",
    "        return list(self.value_dict.values())[::]\n",
    "    \n",
    "    def get_value_probs_dict(self):\n",
    "        total_sum = sum(list(self.value_dict.values()))\n",
    "        return {i:val/float(total_sum) for i,val in self.value_dict.items()}\n",
    "    \n",
    "    def __rep__(self):\n",
    "        return self.value_dict\n",
    "    \n",
    "    def draw_card(self):\n",
    "        value = int(pyprob.sample(Categorical(self.get_value_probs())))\n",
    "        self.value_dict[value] -= 1\n",
    "        return value\n",
    "    \n",
    "    def copy(self):\n",
    "        temp = Deck(self.num_suites)\n",
    "        temp.value_dict = self.value_dict.copy()\n",
    "        return temp\n",
    "\n",
    "\n",
    "class Blackjack(Model):\n",
    "    \n",
    "    def __init__(self, num_suites):\n",
    "        super().__init__(name='Number game')\n",
    "        self.num_suites = num_suites\n",
    "        self.cards = {}\n",
    "    \n",
    "    def _deal(self, deck):\n",
    "        \n",
    "        # Dealer\n",
    "        dealer_card1 = deck.draw_card()\n",
    "        dealer_card2 = deck.draw_card()\n",
    "        self.cards['dealer'] = [dealer_card1, dealer_card2]\n",
    "        \n",
    "        # Player\n",
    "        player_card1 = deck.draw_card()\n",
    "        player_card2 = deck.draw_card()\n",
    "        self.cards['player'] = [player_card1, player_card2]\n",
    "        \n",
    "    def forward_game(self):\n",
    "        \"\"\"\n",
    "        Generative sampling process\n",
    "        \"\"\"                \n",
    "        \n",
    "        deck = Deck(self.num_suites)\n",
    "        self._deal(deck)\n",
    "        \n",
    "        score = sum(self.cards['dealer'])\n",
    "        \n",
    "        for i in range(1,7):\n",
    "            if score < 16:\n",
    "                likelihood = Categorical(deck.get_value_probs())\n",
    "                new_card = deck.draw_card()\n",
    "                self.cards['dealer'].append(new_card)\n",
    "                pyprob.observe(likelihood, name='obs{}'.format(i))\n",
    "                score += new_card\n",
    "            else:\n",
    "                probs = np.zeros(11)\n",
    "                probs[0] = 1\n",
    "                deterministic = Categorical(probs)\n",
    "                pyprob.observe(deterministic, name='obs{}'.format(i))\n",
    "        \n",
    "        return deck, self.cards['player'], self.cards['dealer'], score\n",
    "            \n",
    "    \n",
    "    def forward(self):\n",
    "        \"\"\"\n",
    "        Generative sampling process\n",
    "        \"\"\"                \n",
    "        \n",
    "        deck = Deck(self.num_suites)\n",
    "        self._deal(deck)\n",
    "        \n",
    "        score = sum(self.cards['dealer'])\n",
    "        \n",
    "        for i in range(1,7):\n",
    "            if score < 16:\n",
    "                likelihood = Categorical(deck.get_value_probs())\n",
    "                new_card = deck.draw_card()\n",
    "                pyprob.observe(likelihood, name='obs{}'.format(i))\n",
    "                score += new_card\n",
    "            else:\n",
    "                probs = np.zeros(11)\n",
    "                probs[0] = 1\n",
    "                deterministic = Categorical(probs)\n",
    "                pyprob.observe(deterministic, name='obs{}'.format(i))\n",
    "        \n",
    "        return score\n",
    "    \n",
    "    \n",
    "model = Blackjack(num_suites=4)\n",
    "model_nn = Blackjack(num_suites=4)"
   ]
  },
  {
   "cell_type": "code",
   "execution_count": 948,
   "metadata": {},
   "outputs": [
    {
     "data": {
      "text/plain": [
       "22"
      ]
     },
     "execution_count": 948,
     "metadata": {},
     "output_type": "execute_result"
    }
   ],
   "source": [
    "model.forward()"
   ]
  },
  {
   "cell_type": "markdown",
   "metadata": {},
   "source": [
    "# Prior on Dealer Score"
   ]
  },
  {
   "cell_type": "code",
   "execution_count": 945,
   "metadata": {},
   "outputs": [
    {
     "name": "stdout",
     "output_type": "stream",
     "text": [
      "Time spent  | Time remain.| Progress             | Trace     | Traces/sec\n",
      "0d:00:00:02 | 0d:00:00:00 | #################### | 1000/1000 | 477.90       \n"
     ]
    },
    {
     "name": "stderr",
     "output_type": "stream",
     "text": [
      "/Users/theo/anaconda3/envs/csis/lib/python3.7/site-packages/ipykernel_launcher.py:5: UserWarning: Matplotlib is currently using agg, which is a non-GUI backend, so cannot show the figure.\n",
      "  \"\"\"\n"
     ]
    },
    {
     "data": {
      "image/png": "[encoded data removed]",
      "text/plain": [
       "<Figure size 720x360 with 1 Axes>"
      ]
     },
     "metadata": {},
     "output_type": "display_data"
    }
   ],
   "source": [
    "prior = model.prior_results(num_traces=1000)\n",
    "prior.plot_histogram(show=False, alpha=0.75, label='empirical prior', bins=99)\n",
    "plt.title('Prior for concepts')\n",
    "plt.xlabel('Concept indices')\n",
    "plt.show()"
   ]
  },
  {
   "cell_type": "markdown",
   "metadata": {},
   "source": [
    "# Dealer Score Posterior - Importance Sampling"
   ]
  },
  {
   "cell_type": "code",
   "execution_count": 644,
   "metadata": {},
   "outputs": [],
   "source": [
    "observations = {'obs1':5, 'obs2':10, 'obs3':0, 'obs4':0 , 'obs5':0, 'obs6':0}"
   ]
  },
  {
   "cell_type": "markdown",
   "metadata": {},
   "source": [
    "### Many Samples"
   ]
  },
  {
   "cell_type": "code",
   "execution_count": 949,
   "metadata": {
    "scrolled": false
   },
   "outputs": [
    {
     "name": "stdout",
     "output_type": "stream",
     "text": [
      "Time spent  | Time remain.| Progress             | Trace     | Traces/sec\n",
      "0d:00:00:07 | 0d:00:00:00 | #################### | 4000/4000 | 500.13       \n"
     ]
    },
    {
     "data": {
      "text/plain": [
       "Text(0.5, 1.0, 'Importance Sampling Inferred Posterior')"
      ]
     },
     "execution_count": 949,
     "metadata": {},
     "output_type": "execute_result"
    },
    {
     "data": {
      "image/png": "[encoded data removed]",
      "text/plain": [
       "<Figure size 720x360 with 1 Axes>"
      ]
     },
     "metadata": {},
     "output_type": "display_data"
    }
   ],
   "source": [
    "posterior_many = model.posterior_results(\n",
    "                    num_traces=50000, # the number of samples estimating the posterior\n",
    "                    inference_engine=pyprob.InferenceEngine.IMPORTANCE_SAMPLING, # specify which inference engine to use\n",
    "                    observe=observations) # assign values to the observed values\n",
    "posterior_many.plot_histogram(show=False, alpha=0.75, bins=99, label='inferred posterior')\n",
    "plt.title('Importance Sampling Inferred Posterior')"
   ]
  },
  {
   "cell_type": "markdown",
   "metadata": {},
   "source": [
    "### Few Samples"
   ]
  },
  {
   "cell_type": "code",
   "execution_count": 946,
   "metadata": {
    "scrolled": false
   },
   "outputs": [
    {
     "name": "stdout",
     "output_type": "stream",
     "text": [
      "Time spent  | Time remain.| Progress             | Trace     | Traces/sec\n",
      "0d:00:00:10 | 0d:00:00:00 | #################### | 5000/5000 | 488.33       \n"
     ]
    },
    {
     "data": {
      "text/plain": [
       "Text(0.5, 1.0, 'Importance Sampling Inferred Posterior')"
      ]
     },
     "execution_count": 946,
     "metadata": {},
     "output_type": "execute_result"
    },
    {
     "data": {
      "image/png": "[encoded data removed]",
      "text/plain": [
       "<Figure size 720x360 with 1 Axes>"
      ]
     },
     "metadata": {},
     "output_type": "display_data"
    }
   ],
   "source": [
    "posterior_few = model.posterior_results(\n",
    "                    num_traces=5000, # the number of samples estimating the posterior\n",
    "                    inference_engine=pyprob.InferenceEngine.IMPORTANCE_SAMPLING, # specify which inference engine to use\n",
    "                    observe=observations) \n",
    "posterior_few.plot_histogram(show=False, alpha=0.75, bins=99, label='inferred posterior')\n",
    "plt.title('Importance Sampling Inferred Posterior')\n",
    "# plt.savefig('images/importance_sampling_inferred_posterior_200.png')"
   ]
  },
  {
   "cell_type": "markdown",
   "metadata": {},
   "source": [
    "# Inference Compilation"
   ]
  },
  {
   "cell_type": "code",
   "execution_count": 951,
   "metadata": {
    "scrolled": false
   },
   "outputs": [
    {
     "name": "stdout",
     "output_type": "stream",
     "text": [
      "Continuing to train existing inference network...\n",
      "Total number of parameters: 2,921,664\n",
      "Train. time | Epoch| Trace     | Init. loss| Min. loss | Curr. loss| T.since min | Learn.rate| Traces/sec\n",
      "New layers, address: 16__forward__draw_card__?__Categorical(len_probs:1..., distribution: Categorical | 216.5 \n",
      "Total addresses: 9, distribution types: 1, parameters: 3,058,551\n",
      "0d:00:00:55 | 1    | 11,008    | +1.20e+01 | +8.66e+00 | \u001b[31m+1.01e+01\u001b[0m | 0d:00:00:04 | +1.00e-03 | 215.9                               \n",
      "Stop condition reached. num_traces: 10000\n",
      "0d:00:00:55 | 1    | 11,072    | +1.20e+01 | +8.66e+00 | \u001b[32m+9.97e+00\u001b[0m | 0d:00:00:04 | +1.00e-03 | 197.1                               \n"
     ]
    }
   ],
   "source": [
    "model_nn.learn_inference_network(num_traces=10000,\n",
    "                              observe_embeddings={'obs1': {'dim' : 32},\n",
    "                                                  'obs2': {'dim' : 32},\n",
    "                                                  'obs3': {'dim' : 32},\n",
    "                                                  'obs4': {'dim' : 32},\n",
    "                                                  'obs5': {'dim' : 32},\n",
    "                                                  'obs6': {'dim' : 32}},\n",
    "                              inference_network=pyprob.InferenceNetwork.LSTM)"
   ]
  },
  {
   "cell_type": "code",
   "execution_count": 617,
   "metadata": {
    "collapsed": true
   },
   "outputs": [
    {
     "name": "stdout",
     "output_type": "stream",
     "text": [
      "Time spent  | Time remain.| Progress             | Trace     | Traces/sec\n",
      "Warning: address of current variable unknown by inference network: 16__forward__draw_card__?__Categorical(len_probs:11)__6\n",
      "\u001b[1m\u001b[33mWarning: using prior as proposal for address: 16__forward__draw_card__?__Categorical(len_probs:11)__6\u001b[0m\n"
     ]
    },
    {
     "ename": "RuntimeError",
     "evalue": "invalid multinomial distribution (encountering probability entry < 0)",
     "output_type": "error",
     "traceback": [
      "\u001b[0;31m---------------------------------------------------------------------------\u001b[0m",
      "\u001b[0;31mRuntimeError\u001b[0m                              Traceback (most recent call last)",
      "\u001b[0;32m<ipython-input-617-a40db80f9d57>\u001b[0m in \u001b[0;36m<module>\u001b[0;34m\u001b[0m\n\u001b[1;32m      1\u001b[0m posterior_nn = model_nn.posterior_results(num_traces=1000, # the number of samples estimating the posterior\n\u001b[1;32m      2\u001b[0m                     \u001b[0minference_engine\u001b[0m\u001b[0;34m=\u001b[0m\u001b[0mpyprob\u001b[0m\u001b[0;34m.\u001b[0m\u001b[0mInferenceEngine\u001b[0m\u001b[0;34m.\u001b[0m\u001b[0mIMPORTANCE_SAMPLING_WITH_INFERENCE_NETWORK\u001b[0m\u001b[0;34m,\u001b[0m \u001b[0;31m# specify which inference engine to use\u001b[0m\u001b[0;34m\u001b[0m\u001b[0;34m\u001b[0m\u001b[0m\n\u001b[0;32m----> 3\u001b[0;31m                     observe=observations) # assign values to the observed values\n\u001b[0m\u001b[1;32m      4\u001b[0m \u001b[0mposterior_nn\u001b[0m\u001b[0;34m.\u001b[0m\u001b[0mplot_histogram\u001b[0m\u001b[0;34m(\u001b[0m\u001b[0mshow\u001b[0m\u001b[0;34m=\u001b[0m\u001b[0;32mFalse\u001b[0m\u001b[0;34m,\u001b[0m \u001b[0mbins\u001b[0m\u001b[0;34m=\u001b[0m\u001b[0;36m99\u001b[0m\u001b[0;34m,\u001b[0m \u001b[0malpha\u001b[0m\u001b[0;34m=\u001b[0m\u001b[0;36m0.75\u001b[0m\u001b[0;34m,\u001b[0m \u001b[0mlabel\u001b[0m\u001b[0;34m=\u001b[0m\u001b[0;34m'inferred posterior'\u001b[0m\u001b[0;34m)\u001b[0m\u001b[0;34m\u001b[0m\u001b[0;34m\u001b[0m\u001b[0m\n\u001b[1;32m      5\u001b[0m \u001b[0mplt\u001b[0m\u001b[0;34m.\u001b[0m\u001b[0mtitle\u001b[0m\u001b[0;34m(\u001b[0m\u001b[0;34m'Inference Network Importance Sampling Inferred Posterior'\u001b[0m\u001b[0;34m)\u001b[0m\u001b[0;34m\u001b[0m\u001b[0;34m\u001b[0m\u001b[0m\n",
      "\u001b[0;32m~/anaconda3/envs/csis/lib/python3.7/site-packages/pyprob/model.py\u001b[0m in \u001b[0;36mposterior_results\u001b[0;34m(self, num_traces, inference_engine, initial_trace, map_func, observe, file_name, thinning_steps, *args, **kwargs)\u001b[0m\n\u001b[1;32m    147\u001b[0m \u001b[0;34m\u001b[0m\u001b[0m\n\u001b[1;32m    148\u001b[0m     \u001b[0;32mdef\u001b[0m \u001b[0mposterior_results\u001b[0m\u001b[0;34m(\u001b[0m\u001b[0mself\u001b[0m\u001b[0;34m,\u001b[0m \u001b[0mnum_traces\u001b[0m\u001b[0;34m=\u001b[0m\u001b[0;36m10\u001b[0m\u001b[0;34m,\u001b[0m \u001b[0minference_engine\u001b[0m\u001b[0;34m=\u001b[0m\u001b[0mInferenceEngine\u001b[0m\u001b[0;34m.\u001b[0m\u001b[0mIMPORTANCE_SAMPLING\u001b[0m\u001b[0;34m,\u001b[0m \u001b[0minitial_trace\u001b[0m\u001b[0;34m=\u001b[0m\u001b[0;32mNone\u001b[0m\u001b[0;34m,\u001b[0m \u001b[0mmap_func\u001b[0m\u001b[0;34m=\u001b[0m\u001b[0;32mlambda\u001b[0m \u001b[0mtrace\u001b[0m\u001b[0;34m:\u001b[0m \u001b[0mtrace\u001b[0m\u001b[0;34m.\u001b[0m\u001b[0mresult\u001b[0m\u001b[0;34m,\u001b[0m \u001b[0mobserve\u001b[0m\u001b[0;34m=\u001b[0m\u001b[0;32mNone\u001b[0m\u001b[0;34m,\u001b[0m \u001b[0mfile_name\u001b[0m\u001b[0;34m=\u001b[0m\u001b[0;32mNone\u001b[0m\u001b[0;34m,\u001b[0m \u001b[0mthinning_steps\u001b[0m\u001b[0;34m=\u001b[0m\u001b[0;32mNone\u001b[0m\u001b[0;34m,\u001b[0m \u001b[0;34m*\u001b[0m\u001b[0margs\u001b[0m\u001b[0;34m,\u001b[0m \u001b[0;34m**\u001b[0m\u001b[0mkwargs\u001b[0m\u001b[0;34m)\u001b[0m\u001b[0;34m:\u001b[0m\u001b[0;34m\u001b[0m\u001b[0;34m\u001b[0m\u001b[0m\n\u001b[0;32m--> 149\u001b[0;31m         \u001b[0;32mreturn\u001b[0m \u001b[0mself\u001b[0m\u001b[0;34m.\u001b[0m\u001b[0mposterior\u001b[0m\u001b[0;34m(\u001b[0m\u001b[0mnum_traces\u001b[0m\u001b[0;34m=\u001b[0m\u001b[0mnum_traces\u001b[0m\u001b[0;34m,\u001b[0m \u001b[0minference_engine\u001b[0m\u001b[0;34m=\u001b[0m\u001b[0minference_engine\u001b[0m\u001b[0;34m,\u001b[0m \u001b[0minitial_trace\u001b[0m\u001b[0;34m=\u001b[0m\u001b[0minitial_trace\u001b[0m\u001b[0;34m,\u001b[0m \u001b[0mmap_func\u001b[0m\u001b[0;34m=\u001b[0m\u001b[0mmap_func\u001b[0m\u001b[0;34m,\u001b[0m \u001b[0mobserve\u001b[0m\u001b[0;34m=\u001b[0m\u001b[0mobserve\u001b[0m\u001b[0;34m,\u001b[0m \u001b[0mfile_name\u001b[0m\u001b[0;34m=\u001b[0m\u001b[0mfile_name\u001b[0m\u001b[0;34m,\u001b[0m \u001b[0mthinning_steps\u001b[0m\u001b[0;34m=\u001b[0m\u001b[0mthinning_steps\u001b[0m\u001b[0;34m,\u001b[0m \u001b[0;34m*\u001b[0m\u001b[0margs\u001b[0m\u001b[0;34m,\u001b[0m \u001b[0;34m**\u001b[0m\u001b[0mkwargs\u001b[0m\u001b[0;34m)\u001b[0m\u001b[0;34m\u001b[0m\u001b[0;34m\u001b[0m\u001b[0m\n\u001b[0m\u001b[1;32m    150\u001b[0m \u001b[0;34m\u001b[0m\u001b[0m\n\u001b[1;32m    151\u001b[0m     \u001b[0;32mdef\u001b[0m \u001b[0mreset_inference_network\u001b[0m\u001b[0;34m(\u001b[0m\u001b[0mself\u001b[0m\u001b[0;34m)\u001b[0m\u001b[0;34m:\u001b[0m\u001b[0;34m\u001b[0m\u001b[0;34m\u001b[0m\u001b[0m\n",
      "\u001b[0;32m~/anaconda3/envs/csis/lib/python3.7/site-packages/pyprob/model.py\u001b[0m in \u001b[0;36mposterior\u001b[0;34m(self, num_traces, inference_engine, initial_trace, map_func, observe, file_name, thinning_steps, likelihood_importance, *args, **kwargs)\u001b[0m\n\u001b[1;32m     85\u001b[0m                 \u001b[0;32mraise\u001b[0m \u001b[0mRuntimeError\u001b[0m\u001b[0;34m(\u001b[0m\u001b[0;34m'Cannot run inference engine IMPORTANCE_SAMPLING_WITH_INFERENCE_NETWORK because no inference network for this model is available. Use learn_inference_network or load_inference_network first.'\u001b[0m\u001b[0;34m)\u001b[0m\u001b[0;34m\u001b[0m\u001b[0;34m\u001b[0m\u001b[0m\n\u001b[1;32m     86\u001b[0m             \u001b[0;32mwith\u001b[0m \u001b[0mtorch\u001b[0m\u001b[0;34m.\u001b[0m\u001b[0mno_grad\u001b[0m\u001b[0;34m(\u001b[0m\u001b[0;34m)\u001b[0m\u001b[0;34m:\u001b[0m\u001b[0;34m\u001b[0m\u001b[0;34m\u001b[0m\u001b[0m\n\u001b[0;32m---> 87\u001b[0;31m                 \u001b[0mposterior\u001b[0m \u001b[0;34m=\u001b[0m \u001b[0mself\u001b[0m\u001b[0;34m.\u001b[0m\u001b[0m_traces\u001b[0m\u001b[0;34m(\u001b[0m\u001b[0mnum_traces\u001b[0m\u001b[0;34m=\u001b[0m\u001b[0mnum_traces\u001b[0m\u001b[0;34m,\u001b[0m \u001b[0mtrace_mode\u001b[0m\u001b[0;34m=\u001b[0m\u001b[0mTraceMode\u001b[0m\u001b[0;34m.\u001b[0m\u001b[0mPOSTERIOR\u001b[0m\u001b[0;34m,\u001b[0m \u001b[0minference_engine\u001b[0m\u001b[0;34m=\u001b[0m\u001b[0minference_engine\u001b[0m\u001b[0;34m,\u001b[0m \u001b[0minference_network\u001b[0m\u001b[0;34m=\u001b[0m\u001b[0mself\u001b[0m\u001b[0;34m.\u001b[0m\u001b[0m_inference_network\u001b[0m\u001b[0;34m,\u001b[0m \u001b[0mmap_func\u001b[0m\u001b[0;34m=\u001b[0m\u001b[0mmap_func\u001b[0m\u001b[0;34m,\u001b[0m \u001b[0mobserve\u001b[0m\u001b[0;34m=\u001b[0m\u001b[0mobserve\u001b[0m\u001b[0;34m,\u001b[0m \u001b[0mfile_name\u001b[0m\u001b[0;34m=\u001b[0m\u001b[0mfile_name\u001b[0m\u001b[0;34m,\u001b[0m \u001b[0mlikelihood_importance\u001b[0m\u001b[0;34m=\u001b[0m\u001b[0mlikelihood_importance\u001b[0m\u001b[0;34m,\u001b[0m \u001b[0;34m*\u001b[0m\u001b[0margs\u001b[0m\u001b[0;34m,\u001b[0m \u001b[0;34m**\u001b[0m\u001b[0mkwargs\u001b[0m\u001b[0;34m)\u001b[0m\u001b[0;34m\u001b[0m\u001b[0;34m\u001b[0m\u001b[0m\n\u001b[0m\u001b[1;32m     88\u001b[0m             \u001b[0mposterior\u001b[0m\u001b[0;34m.\u001b[0m\u001b[0mrename\u001b[0m\u001b[0;34m(\u001b[0m\u001b[0;34m'Posterior, IC, traces: {:,}, train. traces: {:,}, ESS: {:,.2f}'\u001b[0m\u001b[0;34m.\u001b[0m\u001b[0mformat\u001b[0m\u001b[0;34m(\u001b[0m\u001b[0mposterior\u001b[0m\u001b[0;34m.\u001b[0m\u001b[0mlength\u001b[0m\u001b[0;34m,\u001b[0m \u001b[0mself\u001b[0m\u001b[0;34m.\u001b[0m\u001b[0m_inference_network\u001b[0m\u001b[0;34m.\u001b[0m\u001b[0m_total_train_traces\u001b[0m\u001b[0;34m,\u001b[0m \u001b[0mposterior\u001b[0m\u001b[0;34m.\u001b[0m\u001b[0meffective_sample_size\u001b[0m\u001b[0;34m)\u001b[0m\u001b[0;34m)\u001b[0m\u001b[0;34m\u001b[0m\u001b[0;34m\u001b[0m\u001b[0m\n\u001b[1;32m     89\u001b[0m             \u001b[0mposterior\u001b[0m\u001b[0;34m.\u001b[0m\u001b[0madd_metadata\u001b[0m\u001b[0;34m(\u001b[0m\u001b[0mop\u001b[0m\u001b[0;34m=\u001b[0m\u001b[0;34m'posterior'\u001b[0m\u001b[0;34m,\u001b[0m \u001b[0mnum_traces\u001b[0m\u001b[0;34m=\u001b[0m\u001b[0mnum_traces\u001b[0m\u001b[0;34m,\u001b[0m \u001b[0minference_engine\u001b[0m\u001b[0;34m=\u001b[0m\u001b[0mstr\u001b[0m\u001b[0;34m(\u001b[0m\u001b[0minference_engine\u001b[0m\u001b[0;34m)\u001b[0m\u001b[0;34m,\u001b[0m \u001b[0meffective_sample_size\u001b[0m\u001b[0;34m=\u001b[0m\u001b[0mposterior\u001b[0m\u001b[0;34m.\u001b[0m\u001b[0meffective_sample_size\u001b[0m\u001b[0;34m,\u001b[0m \u001b[0mlikelihood_importance\u001b[0m\u001b[0;34m=\u001b[0m\u001b[0mlikelihood_importance\u001b[0m\u001b[0;34m,\u001b[0m \u001b[0mtrain_traces\u001b[0m\u001b[0;34m=\u001b[0m\u001b[0mself\u001b[0m\u001b[0;34m.\u001b[0m\u001b[0m_inference_network\u001b[0m\u001b[0;34m.\u001b[0m\u001b[0m_total_train_traces\u001b[0m\u001b[0;34m)\u001b[0m\u001b[0;34m\u001b[0m\u001b[0;34m\u001b[0m\u001b[0m\n",
      "\u001b[0;32m~/anaconda3/envs/csis/lib/python3.7/site-packages/pyprob/model.py\u001b[0m in \u001b[0;36m_traces\u001b[0;34m(self, num_traces, trace_mode, prior_inflation, inference_engine, inference_network, map_func, silent, observe, file_name, likelihood_importance, *args, **kwargs)\u001b[0m\n\u001b[1;32m     53\u001b[0m                     \u001b[0mprint\u001b[0m\u001b[0;34m(\u001b[0m\u001b[0;34m'{} | {} | {} | {}/{} | {:,.2f}       '\u001b[0m\u001b[0;34m.\u001b[0m\u001b[0mformat\u001b[0m\u001b[0;34m(\u001b[0m\u001b[0mutil\u001b[0m\u001b[0;34m.\u001b[0m\u001b[0mdays_hours_mins_secs_str\u001b[0m\u001b[0;34m(\u001b[0m\u001b[0mduration\u001b[0m\u001b[0;34m)\u001b[0m\u001b[0;34m,\u001b[0m \u001b[0mutil\u001b[0m\u001b[0;34m.\u001b[0m\u001b[0mdays_hours_mins_secs_str\u001b[0m\u001b[0;34m(\u001b[0m\u001b[0;34m(\u001b[0m\u001b[0mnum_traces\u001b[0m \u001b[0;34m-\u001b[0m \u001b[0mi\u001b[0m\u001b[0;34m)\u001b[0m \u001b[0;34m/\u001b[0m \u001b[0mtraces_per_second\u001b[0m\u001b[0;34m)\u001b[0m\u001b[0;34m,\u001b[0m \u001b[0mutil\u001b[0m\u001b[0;34m.\u001b[0m\u001b[0mprogress_bar\u001b[0m\u001b[0;34m(\u001b[0m\u001b[0mi\u001b[0m\u001b[0;34m+\u001b[0m\u001b[0;36m1\u001b[0m\u001b[0;34m,\u001b[0m \u001b[0mnum_traces\u001b[0m\u001b[0;34m)\u001b[0m\u001b[0;34m,\u001b[0m \u001b[0mstr\u001b[0m\u001b[0;34m(\u001b[0m\u001b[0mi\u001b[0m\u001b[0;34m+\u001b[0m\u001b[0;36m1\u001b[0m\u001b[0;34m)\u001b[0m\u001b[0;34m.\u001b[0m\u001b[0mrjust\u001b[0m\u001b[0;34m(\u001b[0m\u001b[0mlen_str_num_traces\u001b[0m\u001b[0;34m)\u001b[0m\u001b[0;34m,\u001b[0m \u001b[0mnum_traces\u001b[0m\u001b[0;34m,\u001b[0m \u001b[0mtraces_per_second\u001b[0m\u001b[0;34m)\u001b[0m\u001b[0;34m,\u001b[0m \u001b[0mend\u001b[0m\u001b[0;34m=\u001b[0m\u001b[0;34m'\\r'\u001b[0m\u001b[0;34m)\u001b[0m\u001b[0;34m\u001b[0m\u001b[0;34m\u001b[0m\u001b[0m\n\u001b[1;32m     54\u001b[0m                     \u001b[0msys\u001b[0m\u001b[0;34m.\u001b[0m\u001b[0mstdout\u001b[0m\u001b[0;34m.\u001b[0m\u001b[0mflush\u001b[0m\u001b[0;34m(\u001b[0m\u001b[0;34m)\u001b[0m\u001b[0;34m\u001b[0m\u001b[0;34m\u001b[0m\u001b[0m\n\u001b[0;32m---> 55\u001b[0;31m             \u001b[0mtrace\u001b[0m \u001b[0;34m=\u001b[0m \u001b[0mnext\u001b[0m\u001b[0;34m(\u001b[0m\u001b[0mgenerator\u001b[0m\u001b[0;34m)\u001b[0m\u001b[0;34m\u001b[0m\u001b[0;34m\u001b[0m\u001b[0m\n\u001b[0m\u001b[1;32m     56\u001b[0m             \u001b[0;32mif\u001b[0m \u001b[0mtrace_mode\u001b[0m \u001b[0;34m==\u001b[0m \u001b[0mTraceMode\u001b[0m\u001b[0;34m.\u001b[0m\u001b[0mPRIOR\u001b[0m\u001b[0;34m:\u001b[0m\u001b[0;34m\u001b[0m\u001b[0;34m\u001b[0m\u001b[0m\n\u001b[1;32m     57\u001b[0m                 \u001b[0mlog_weight\u001b[0m \u001b[0;34m=\u001b[0m \u001b[0;36m1.\u001b[0m\u001b[0;34m\u001b[0m\u001b[0;34m\u001b[0m\u001b[0m\n",
      "\u001b[0;32m~/anaconda3/envs/csis/lib/python3.7/site-packages/pyprob/model.py\u001b[0m in \u001b[0;36m_trace_generator\u001b[0;34m(self, trace_mode, prior_inflation, inference_engine, inference_network, observe, metropolis_hastings_trace, likelihood_importance, importance_weighting, *args, **kwargs)\u001b[0m\n\u001b[1;32m     31\u001b[0m         \u001b[0;32mwhile\u001b[0m \u001b[0;32mTrue\u001b[0m\u001b[0;34m:\u001b[0m\u001b[0;34m\u001b[0m\u001b[0;34m\u001b[0m\u001b[0m\n\u001b[1;32m     32\u001b[0m             \u001b[0mstate\u001b[0m\u001b[0;34m.\u001b[0m\u001b[0m_begin_trace\u001b[0m\u001b[0;34m(\u001b[0m\u001b[0;34m)\u001b[0m\u001b[0;34m\u001b[0m\u001b[0;34m\u001b[0m\u001b[0m\n\u001b[0;32m---> 33\u001b[0;31m             \u001b[0mresult\u001b[0m \u001b[0;34m=\u001b[0m \u001b[0mself\u001b[0m\u001b[0;34m.\u001b[0m\u001b[0mforward\u001b[0m\u001b[0;34m(\u001b[0m\u001b[0;34m*\u001b[0m\u001b[0margs\u001b[0m\u001b[0;34m,\u001b[0m \u001b[0;34m**\u001b[0m\u001b[0mkwargs\u001b[0m\u001b[0;34m)\u001b[0m\u001b[0;34m\u001b[0m\u001b[0;34m\u001b[0m\u001b[0m\n\u001b[0m\u001b[1;32m     34\u001b[0m             \u001b[0mtrace\u001b[0m \u001b[0;34m=\u001b[0m \u001b[0mstate\u001b[0m\u001b[0;34m.\u001b[0m\u001b[0m_end_trace\u001b[0m\u001b[0;34m(\u001b[0m\u001b[0mresult\u001b[0m\u001b[0;34m)\u001b[0m\u001b[0;34m\u001b[0m\u001b[0;34m\u001b[0m\u001b[0m\n\u001b[1;32m     35\u001b[0m             \u001b[0;32myield\u001b[0m \u001b[0mtrace\u001b[0m\u001b[0;34m\u001b[0m\u001b[0;34m\u001b[0m\u001b[0m\n",
      "\u001b[0;32m<ipython-input-568-18cd9783b125>\u001b[0m in \u001b[0;36mforward\u001b[0;34m(self)\u001b[0m\n\u001b[1;32m     53\u001b[0m             \u001b[0;32mif\u001b[0m \u001b[0mscore\u001b[0m \u001b[0;34m<\u001b[0m \u001b[0;36m16\u001b[0m\u001b[0;34m:\u001b[0m\u001b[0;34m\u001b[0m\u001b[0;34m\u001b[0m\u001b[0m\n\u001b[1;32m     54\u001b[0m                 \u001b[0mlikelihood\u001b[0m \u001b[0;34m=\u001b[0m \u001b[0mCategorical\u001b[0m\u001b[0;34m(\u001b[0m\u001b[0mdeck\u001b[0m\u001b[0;34m.\u001b[0m\u001b[0mget_value_probs\u001b[0m\u001b[0;34m(\u001b[0m\u001b[0;34m)\u001b[0m\u001b[0;34m)\u001b[0m\u001b[0;34m\u001b[0m\u001b[0;34m\u001b[0m\u001b[0m\n\u001b[0;32m---> 55\u001b[0;31m                 \u001b[0mnew_card\u001b[0m \u001b[0;34m=\u001b[0m \u001b[0mdeck\u001b[0m\u001b[0;34m.\u001b[0m\u001b[0mdraw_card\u001b[0m\u001b[0;34m(\u001b[0m\u001b[0;34m)\u001b[0m\u001b[0;34m\u001b[0m\u001b[0;34m\u001b[0m\u001b[0m\n\u001b[0m\u001b[1;32m     56\u001b[0m                 \u001b[0mpyprob\u001b[0m\u001b[0;34m.\u001b[0m\u001b[0mobserve\u001b[0m\u001b[0;34m(\u001b[0m\u001b[0mlikelihood\u001b[0m\u001b[0;34m,\u001b[0m \u001b[0mname\u001b[0m\u001b[0;34m=\u001b[0m\u001b[0;34m'obs{}'\u001b[0m\u001b[0;34m.\u001b[0m\u001b[0mformat\u001b[0m\u001b[0;34m(\u001b[0m\u001b[0mi\u001b[0m\u001b[0;34m)\u001b[0m\u001b[0;34m)\u001b[0m\u001b[0;34m\u001b[0m\u001b[0;34m\u001b[0m\u001b[0m\n\u001b[1;32m     57\u001b[0m                 \u001b[0mscore\u001b[0m \u001b[0;34m+=\u001b[0m \u001b[0mnew_card\u001b[0m\u001b[0;34m\u001b[0m\u001b[0;34m\u001b[0m\u001b[0m\n",
      "\u001b[0;32m<ipython-input-568-18cd9783b125>\u001b[0m in \u001b[0;36mdraw_card\u001b[0;34m(self)\u001b[0m\n\u001b[1;32m     15\u001b[0m \u001b[0;34m\u001b[0m\u001b[0m\n\u001b[1;32m     16\u001b[0m     \u001b[0;32mdef\u001b[0m \u001b[0mdraw_card\u001b[0m\u001b[0;34m(\u001b[0m\u001b[0mself\u001b[0m\u001b[0;34m)\u001b[0m\u001b[0;34m:\u001b[0m\u001b[0;34m\u001b[0m\u001b[0;34m\u001b[0m\u001b[0m\n\u001b[0;32m---> 17\u001b[0;31m         \u001b[0mvalue\u001b[0m \u001b[0;34m=\u001b[0m \u001b[0mint\u001b[0m\u001b[0;34m(\u001b[0m\u001b[0mpyprob\u001b[0m\u001b[0;34m.\u001b[0m\u001b[0msample\u001b[0m\u001b[0;34m(\u001b[0m\u001b[0mCategorical\u001b[0m\u001b[0;34m(\u001b[0m\u001b[0mself\u001b[0m\u001b[0;34m.\u001b[0m\u001b[0mget_value_probs\u001b[0m\u001b[0;34m(\u001b[0m\u001b[0;34m)\u001b[0m\u001b[0;34m)\u001b[0m\u001b[0;34m)\u001b[0m\u001b[0;34m)\u001b[0m\u001b[0;34m\u001b[0m\u001b[0;34m\u001b[0m\u001b[0m\n\u001b[0m\u001b[1;32m     18\u001b[0m         \u001b[0mself\u001b[0m\u001b[0;34m.\u001b[0m\u001b[0mvalues\u001b[0m\u001b[0;34m[\u001b[0m\u001b[0mvalue\u001b[0m\u001b[0;34m]\u001b[0m \u001b[0;34m-=\u001b[0m \u001b[0;36m1\u001b[0m\u001b[0;34m\u001b[0m\u001b[0;34m\u001b[0m\u001b[0m\n\u001b[1;32m     19\u001b[0m         \u001b[0;32mreturn\u001b[0m \u001b[0mvalue\u001b[0m\u001b[0;34m\u001b[0m\u001b[0;34m\u001b[0m\u001b[0m\n",
      "\u001b[0;32m~/anaconda3/envs/csis/lib/python3.7/site-packages/pyprob/state.py\u001b[0m in \u001b[0;36msample\u001b[0;34m(distribution, control, replace, name, address)\u001b[0m\n\u001b[1;32m    205\u001b[0m                             \u001b[0mproposal_distribution\u001b[0m \u001b[0;34m=\u001b[0m \u001b[0m_current_trace_inference_network\u001b[0m\u001b[0;34m.\u001b[0m\u001b[0m_infer_step\u001b[0m\u001b[0;34m(\u001b[0m\u001b[0mvariable\u001b[0m\u001b[0;34m,\u001b[0m \u001b[0mprev_variable\u001b[0m\u001b[0;34m=\u001b[0m\u001b[0m_current_trace_previous_variable\u001b[0m\u001b[0;34m,\u001b[0m \u001b[0mproposal_min_train_iterations\u001b[0m\u001b[0;34m=\u001b[0m\u001b[0m_current_trace_inference_network_proposal_min_train_iterations\u001b[0m\u001b[0;34m)\u001b[0m\u001b[0;34m\u001b[0m\u001b[0;34m\u001b[0m\u001b[0m\n\u001b[1;32m    206\u001b[0m                             \u001b[0mupdate_previous_variable\u001b[0m \u001b[0;34m=\u001b[0m \u001b[0;32mTrue\u001b[0m\u001b[0;34m\u001b[0m\u001b[0;34m\u001b[0m\u001b[0m\n\u001b[0;32m--> 207\u001b[0;31m                         \u001b[0mvalue\u001b[0m \u001b[0;34m=\u001b[0m \u001b[0mproposal_distribution\u001b[0m\u001b[0;34m.\u001b[0m\u001b[0msample\u001b[0m\u001b[0;34m(\u001b[0m\u001b[0;34m)\u001b[0m\u001b[0;34m\u001b[0m\u001b[0;34m\u001b[0m\u001b[0m\n\u001b[0m\u001b[1;32m    208\u001b[0m                         \u001b[0;32mif\u001b[0m \u001b[0mvalue\u001b[0m\u001b[0;34m.\u001b[0m\u001b[0mdim\u001b[0m\u001b[0;34m(\u001b[0m\u001b[0;34m)\u001b[0m \u001b[0;34m>\u001b[0m \u001b[0;36m0\u001b[0m\u001b[0;34m:\u001b[0m\u001b[0;34m\u001b[0m\u001b[0;34m\u001b[0m\u001b[0m\n\u001b[1;32m    209\u001b[0m                             \u001b[0mvalue\u001b[0m \u001b[0;34m=\u001b[0m \u001b[0mvalue\u001b[0m\u001b[0;34m[\u001b[0m\u001b[0;36m0\u001b[0m\u001b[0;34m]\u001b[0m\u001b[0;34m\u001b[0m\u001b[0;34m\u001b[0m\u001b[0m\n",
      "\u001b[0;32m~/anaconda3/envs/csis/lib/python3.7/site-packages/pyprob/distributions/distribution.py\u001b[0m in \u001b[0;36msample\u001b[0;34m(self)\u001b[0m\n\u001b[1;32m     31\u001b[0m     \u001b[0;32mdef\u001b[0m \u001b[0msample\u001b[0m\u001b[0;34m(\u001b[0m\u001b[0mself\u001b[0m\u001b[0;34m)\u001b[0m\u001b[0;34m:\u001b[0m\u001b[0;34m\u001b[0m\u001b[0;34m\u001b[0m\u001b[0m\n\u001b[1;32m     32\u001b[0m         \u001b[0;32mif\u001b[0m \u001b[0mself\u001b[0m\u001b[0;34m.\u001b[0m\u001b[0m_torch_dist\u001b[0m \u001b[0;32mis\u001b[0m \u001b[0;32mnot\u001b[0m \u001b[0;32mNone\u001b[0m\u001b[0;34m:\u001b[0m\u001b[0;34m\u001b[0m\u001b[0;34m\u001b[0m\u001b[0m\n\u001b[0;32m---> 33\u001b[0;31m             \u001b[0ms\u001b[0m \u001b[0;34m=\u001b[0m \u001b[0mself\u001b[0m\u001b[0;34m.\u001b[0m\u001b[0m_torch_dist\u001b[0m\u001b[0;34m.\u001b[0m\u001b[0msample\u001b[0m\u001b[0;34m(\u001b[0m\u001b[0;34m)\u001b[0m\u001b[0;34m\u001b[0m\u001b[0;34m\u001b[0m\u001b[0m\n\u001b[0m\u001b[1;32m     34\u001b[0m             \u001b[0;32mreturn\u001b[0m \u001b[0ms\u001b[0m\u001b[0;34m\u001b[0m\u001b[0;34m\u001b[0m\u001b[0m\n\u001b[1;32m     35\u001b[0m         \u001b[0;32melse\u001b[0m\u001b[0;34m:\u001b[0m\u001b[0;34m\u001b[0m\u001b[0;34m\u001b[0m\u001b[0m\n",
      "\u001b[0;32m~/anaconda3/envs/csis/lib/python3.7/site-packages/torch/distributions/categorical.py\u001b[0m in \u001b[0;36msample\u001b[0;34m(self, sample_shape)\u001b[0m\n\u001b[1;32m    105\u001b[0m         \u001b[0mprobs\u001b[0m \u001b[0;34m=\u001b[0m \u001b[0mself\u001b[0m\u001b[0;34m.\u001b[0m\u001b[0mprobs\u001b[0m\u001b[0;34m.\u001b[0m\u001b[0mexpand\u001b[0m\u001b[0;34m(\u001b[0m\u001b[0mparam_shape\u001b[0m\u001b[0;34m)\u001b[0m\u001b[0;34m\u001b[0m\u001b[0;34m\u001b[0m\u001b[0m\n\u001b[1;32m    106\u001b[0m         \u001b[0mprobs_2d\u001b[0m \u001b[0;34m=\u001b[0m \u001b[0mprobs\u001b[0m\u001b[0;34m.\u001b[0m\u001b[0mreshape\u001b[0m\u001b[0;34m(\u001b[0m\u001b[0;34m-\u001b[0m\u001b[0;36m1\u001b[0m\u001b[0;34m,\u001b[0m \u001b[0mself\u001b[0m\u001b[0;34m.\u001b[0m\u001b[0m_num_events\u001b[0m\u001b[0;34m)\u001b[0m\u001b[0;34m\u001b[0m\u001b[0;34m\u001b[0m\u001b[0m\n\u001b[0;32m--> 107\u001b[0;31m         \u001b[0msample_2d\u001b[0m \u001b[0;34m=\u001b[0m \u001b[0mtorch\u001b[0m\u001b[0;34m.\u001b[0m\u001b[0mmultinomial\u001b[0m\u001b[0;34m(\u001b[0m\u001b[0mprobs_2d\u001b[0m\u001b[0;34m,\u001b[0m \u001b[0;36m1\u001b[0m\u001b[0;34m,\u001b[0m \u001b[0;32mTrue\u001b[0m\u001b[0;34m)\u001b[0m\u001b[0;34m\u001b[0m\u001b[0;34m\u001b[0m\u001b[0m\n\u001b[0m\u001b[1;32m    108\u001b[0m         \u001b[0;32mreturn\u001b[0m \u001b[0msample_2d\u001b[0m\u001b[0;34m.\u001b[0m\u001b[0mreshape\u001b[0m\u001b[0;34m(\u001b[0m\u001b[0msample_shape\u001b[0m\u001b[0;34m)\u001b[0m\u001b[0;34m\u001b[0m\u001b[0;34m\u001b[0m\u001b[0m\n\u001b[1;32m    109\u001b[0m \u001b[0;34m\u001b[0m\u001b[0m\n",
      "\u001b[0;31mRuntimeError\u001b[0m: invalid multinomial distribution (encountering probability entry < 0)"
     ]
    }
   ],
   "source": [
    "posterior_nn = model_nn.posterior_results(num_traces=1000, # the number of samples estimating the posterior\n",
    "                    inference_engine=pyprob.InferenceEngine.IMPORTANCE_SAMPLING_WITH_INFERENCE_NETWORK, # specify which inference engine to use\n",
    "                    observe=observations) # assign values to the observed values\n",
    "posterior_nn.plot_histogram(show=False, bins=99, alpha=0.75, label='inferred posterior')\n",
    "plt.title('Inference Network Importance Sampling Inferred Posterior')"
   ]
  },
  {
   "cell_type": "code",
   "execution_count": 615,
   "metadata": {
    "scrolled": true
   },
   "outputs": [
    {
     "data": {
      "text/plain": [
       "[(22, 0.11799401758414134),\n",
       " (20, 0.10910054738622853),\n",
       " (17, 0.10540218620806194),\n",
       " (18, 0.10262842575734707),\n",
       " (16, 0.10223220303156243),\n",
       " (19, 0.09809358692543273),\n",
       " (23, 0.09598027415694763),\n",
       " (24, 0.09237005439960745),\n",
       " (25, 0.09148949296478279),\n",
       " (21, 0.08470921158588812)]"
      ]
     },
     "execution_count": 615,
     "metadata": {},
     "output_type": "execute_result"
    }
   ],
   "source": [
    "combined = posterior_2000.combine_duplicates()\n",
    "hypothesis = [(combined[i], np.exp(combined._get_log_weight(i).item())) for i in range(combined._length) if np.exp(combined._get_log_weight(i).item()) > 0.00001]\n",
    "sorted(hypothesis, key=lambda x: x[1], reverse=True)"
   ]
  },
  {
   "cell_type": "markdown",
   "metadata": {},
   "source": [
    "# Simulating Games"
   ]
  },
  {
   "cell_type": "markdown",
   "metadata": {},
   "source": [
    "## My strategy"
   ]
  },
  {
   "cell_type": "code",
   "execution_count": 771,
   "metadata": {},
   "outputs": [],
   "source": [
    "def calc_EV(x, deck, dealerDistribution):\n",
    "    \n",
    "    EV_table = {}\n",
    "    \n",
    "    def calc_EV_helper(x, deck, dealerDistribution):\n",
    "\n",
    "        if x in EV_table:\n",
    "            return EV_table[x]\n",
    "                \n",
    "        if x > 21:\n",
    "            EV_table[x] = ((1 - dealerDistribution.p_bust) * (-1), False)\n",
    "            return EV_table[x]\n",
    "        \n",
    "        elif x <= 21:\n",
    "            \n",
    "            EV_stay_dealer_bust = dealerDistribution.p_bust * (1)\n",
    "            EV_stay_dealer_no_bust = (1 - dealerDistribution.p_bust) * (dealerDistribution.p_less_than(x) * (1) + dealerDistribution.p_greater_than(x) * (-1))\n",
    "            EV_stay = EV_stay_dealer_bust + EV_stay_dealer_no_bust\n",
    "            \n",
    "            EV_hit = 0\n",
    "            for val,prob in deck.get_value_probs_dict().items():\n",
    "                if prob > 0:\n",
    "                    deck_copy = deck.copy()\n",
    "                    deck_copy.value_dict[val] -= 1\n",
    "                    EV_hit += prob * calc_EV_helper(x + val, deck_copy, dealerDistribution)[0]\n",
    "\n",
    "        if EV_hit > EV_stay:\n",
    "            EV_table[x] = (EV_hit, True)\n",
    "        else:\n",
    "            EV_table[x] = (EV_stay, False)\n",
    "        return EV_table[x]\n",
    "    \n",
    "    return calc_EV_helper(x, deck, dealerDistribution)\n",
    "            \n",
    "# deck = Deck(4)\n",
    "# for i in range(1,30):\n",
    "    \n",
    "#     EV, play = calc_EV(i, deck, dist)\n",
    "#     print(i, EV, play)"
   ]
  },
  {
   "cell_type": "markdown",
   "metadata": {},
   "source": [
    "## Infer Dealer Distribution"
   ]
  },
  {
   "cell_type": "code",
   "execution_count": 911,
   "metadata": {},
   "outputs": [],
   "source": [
    "class DealerDistribution:\n",
    "    \n",
    "    def __init__(self, posterior):\n",
    "        self.posterior = posterior\n",
    "        self.probs = {}\n",
    "        self.p_bust = 0\n",
    "        \n",
    "        combined = posterior.combine_duplicates()\n",
    "        posterior_probs = {combined[i]:np.exp(combined._get_log_weight(i).item()) for i in range(combined._length) if np.exp(combined._get_log_weight(i).item()) > 0.00001}\n",
    "        for key, prob in posterior_probs.items():\n",
    "            if key <= 21:\n",
    "                self.probs[key] = prob\n",
    "            else:\n",
    "                self.p_bust += prob\n",
    "\n",
    "    def p_less_than(self, x):\n",
    "        p = 0\n",
    "        for key,prob in self.probs.items():\n",
    "            if key < x:\n",
    "                p += prob\n",
    "        return p\n",
    "    \n",
    "    def p_greater_than(self, x):\n",
    "        p = 0\n",
    "        for key,prob in self.probs.items():\n",
    "            if key > x:\n",
    "                p += prob\n",
    "        return p\n",
    "    \n",
    "    def plot(self):\n",
    "        self.posterior.plot_histogram(show=False, alpha=0.75, bins=99, label='inferred posterior')\n",
    "        plt.title('Importance Sampling Inferred Posterior')\n",
    "        return\n",
    "\n",
    "# dist = DealerDistribution(hypothesis)\n",
    "# print(dist.p_bust)\n",
    "# dist.probs"
   ]
  },
  {
   "cell_type": "code",
   "execution_count": 912,
   "metadata": {},
   "outputs": [],
   "source": [
    "def infer_dealer_score(dealer_cards, num_traces, use_nn=False):\n",
    "\n",
    "    observations = {}\n",
    "    for i in range(2,7):\n",
    "        if i < len(dealer_cards):\n",
    "            observations['obs{}'.format(i-1)] = dealer_cards[i]\n",
    "        else:\n",
    "            observations['obs{}'.format(i)] = 0\n",
    "    print(observations)\n",
    "\n",
    "    if use_nn:\n",
    "        pass\n",
    "    else:\n",
    "        posterior = model.posterior_results(\n",
    "                            num_traces=num_traces, # the number of samples estimating the posterior\n",
    "                            inference_engine=pyprob.InferenceEngine.IMPORTANCE_SAMPLING, # specify which inference engine to use\n",
    "                            observe=observations) \n",
    "        \n",
    "    dealer_posterior = DealerDistribution(posterior)\n",
    "    return dealer_posterior"
   ]
  },
  {
   "cell_type": "markdown",
   "metadata": {},
   "source": [
    "## Simulate n Games"
   ]
  },
  {
   "cell_type": "code",
   "execution_count": 913,
   "metadata": {},
   "outputs": [],
   "source": [
    "def play(deck, player_cards, dealer_cards, dealer_dist):\n",
    "    score = sum(player_cards)\n",
    "    EV, should_hit = calc_EV(score, deck, dealer_dist)\n",
    "    while should_hit:\n",
    "        new_card = deck.draw_card()\n",
    "        print(new_card)\n",
    "        score += new_card\n",
    "        EV, should_hit = calc_EV(score, deck, dealer_dist)\n",
    "        \n",
    "    print(\"Final Score: {}\".format(score))\n",
    "    return score"
   ]
  },
  {
   "cell_type": "code",
   "execution_count": 927,
   "metadata": {},
   "outputs": [
    {
     "name": "stdout",
     "output_type": "stream",
     "text": [
      "[3, 4] [10, 1, 10]\n",
      "{'obs1': 10, 'obs3': 0, 'obs4': 0, 'obs5': 0, 'obs6': 0}\n",
      "Time spent  | Time remain.| Progress             | Trace     | Traces/sec\n",
      "0d:00:00:09 | 0d:00:00:00 | #################### | 5000/5000 | 511.83       \n",
      "7\n",
      "Final Score: 14\n",
      "[4, 6] [10, 2, 10]\n",
      "{'obs1': 10, 'obs3': 0, 'obs4': 0, 'obs5': 0, 'obs6': 0}\n",
      "Time spent  | Time remain.| Progress             | Trace     | Traces/sec\n",
      "0d:00:00:10 | 0d:00:00:00 | #################### | 5000/5000 | 494.12       \n",
      "1\n",
      "4\n",
      "Final Score: 15\n",
      "[1, 6] [10, 4, 10]\n",
      "{'obs1': 10, 'obs3': 0, 'obs4': 0, 'obs5': 0, 'obs6': 0}\n",
      "Time spent  | Time remain.| Progress             | Trace     | Traces/sec\n",
      "0d:00:00:09 | 0d:00:00:00 | #################### | 5000/5000 | 510.82       \n",
      "6\n",
      "10\n",
      "Final Score: 23\n",
      "[9, 5] [6, 10]\n",
      "{'obs2': 0, 'obs3': 0, 'obs4': 0, 'obs5': 0, 'obs6': 0}\n",
      "Time spent  | Time remain.| Progress             | Trace     | Traces/sec\n",
      "0d:00:00:09 | 0d:00:00:00 | #################### | 5000/5000 | 507.58       \n",
      "10\n",
      "Final Score: 24\n",
      "[8, 4] [5, 1, 10]\n",
      "{'obs1': 10, 'obs3': 0, 'obs4': 0, 'obs5': 0, 'obs6': 0}\n",
      "Time spent  | Time remain.| Progress             | Trace     | Traces/sec\n",
      "0d:00:00:09 | 0d:00:00:00 | #################### | 5000/5000 | 505.07       \n",
      "10\n",
      "Final Score: 22\n",
      "[5, 1] [6, 7, 3]\n",
      "{'obs1': 3, 'obs3': 0, 'obs4': 0, 'obs5': 0, 'obs6': 0}\n",
      "Time spent  | Time remain.| Progress             | Trace     | Traces/sec\n",
      "0d:00:00:09 | 0d:00:00:00 | #################### | 5000/5000 | 506.88       \n",
      "2\n",
      "10\n",
      "Final Score: 18\n",
      "[9, 10] [4, 3, 10]\n",
      "{'obs1': 10, 'obs3': 0, 'obs4': 0, 'obs5': 0, 'obs6': 0}\n",
      "Time spent  | Time remain.| Progress             | Trace     | Traces/sec\n",
      "0d:00:00:09 | 0d:00:00:00 | #################### | 5000/5000 | 505.60       \n",
      "Final Score: 19\n",
      "[10, 10] [5, 2, 10]\n",
      "{'obs1': 10, 'obs3': 0, 'obs4': 0, 'obs5': 0, 'obs6': 0}\n",
      "Time spent  | Time remain.| Progress             | Trace     | Traces/sec\n",
      "0d:00:00:09 | 0d:00:00:00 | #################### | 5000/5000 | 508.30       \n",
      "Final Score: 20\n",
      "[10, 10] [10, 6]\n",
      "{'obs2': 0, 'obs3': 0, 'obs4': 0, 'obs5': 0, 'obs6': 0}\n",
      "Time spent  | Time remain.| Progress             | Trace     | Traces/sec\n",
      "0d:00:00:09 | 0d:00:00:00 | #################### | 5000/5000 | 506.13       \n",
      "Final Score: 20\n",
      "[10, 6] [1, 7, 10]\n",
      "{'obs1': 10, 'obs3': 0, 'obs4': 0, 'obs5': 0, 'obs6': 0}\n",
      "Time spent  | Time remain.| Progress             | Trace     | Traces/sec\n",
      "0d:00:00:09 | 0d:00:00:00 | #################### | 5000/5000 | 505.85       \n",
      "Final Score: 16\n",
      "[5, 10] [3, 2, 9, 6]\n",
      "{'obs1': 9, 'obs2': 6, 'obs4': 0, 'obs5': 0, 'obs6': 0}\n",
      "Time spent  | Time remain.| Progress             | Trace     | Traces/sec\n",
      "0d:00:00:10 | 0d:00:00:00 | #################### | 5000/5000 | 497.59       \n",
      "Final Score: 15\n",
      "[6, 3] [10, 7]\n",
      "{'obs2': 0, 'obs3': 0, 'obs4': 0, 'obs5': 0, 'obs6': 0}\n",
      "Time spent  | Time remain.| Progress             | Trace     | Traces/sec\n",
      "0d:00:00:09 | 0d:00:00:00 | #################### | 5000/5000 | 505.39       \n",
      "10\n",
      "Final Score: 19\n",
      "[4, 10] [10, 2, 6]\n",
      "{'obs1': 6, 'obs3': 0, 'obs4': 0, 'obs5': 0, 'obs6': 0}\n",
      "Time spent  | Time remain.| Progress             | Trace     | Traces/sec\n",
      "0d:00:00:11 | 0d:00:00:00 | #################### | 5000/5000 | 435.92       \n",
      "1\n",
      "Final Score: 15\n",
      "[9, 10] [2, 8, 6]\n",
      "{'obs1': 6, 'obs3': 0, 'obs4': 0, 'obs5': 0, 'obs6': 0}\n",
      "Time spent  | Time remain.| Progress             | Trace     | Traces/sec\n",
      "0d:00:00:16 | 0d:00:00:00 | #################### | 5000/5000 | 309.53       \n",
      "Final Score: 19\n",
      "[10, 2] [4, 10, 3]\n",
      "{'obs1': 3, 'obs3': 0, 'obs4': 0, 'obs5': 0, 'obs6': 0}\n",
      "Time spent  | Time remain.| Progress             | Trace     | Traces/sec\n",
      "0d:00:00:12 | 0d:00:00:00 | #################### | 5000/5000 | 399.15       \n",
      "4\n",
      "Final Score: 16\n",
      "[2, 7] [2, 10, 1, 10]\n",
      "{'obs1': 1, 'obs2': 10, 'obs4': 0, 'obs5': 0, 'obs6': 0}\n",
      "Time spent  | Time remain.| Progress             | Trace     | Traces/sec\n",
      "0d:00:00:11 | 0d:00:00:00 | #################### | 5000/5000 | 444.46       \n",
      "4\n",
      "Final Score: 13\n",
      "[6, 2] [4, 10, 2]\n",
      "{'obs1': 2, 'obs3': 0, 'obs4': 0, 'obs5': 0, 'obs6': 0}\n",
      "Time spent  | Time remain.| Progress             | Trace     | Traces/sec\n",
      "0d:00:00:11 | 0d:00:00:00 | #################### | 5000/5000 | 429.08       \n",
      "10\n",
      "Final Score: 18\n",
      "[4, 10] [1, 10, 2, 4]\n",
      "{'obs1': 2, 'obs2': 4, 'obs4': 0, 'obs5': 0, 'obs6': 0}\n",
      "Time spent  | Time remain.| Progress             | Trace     | Traces/sec\n",
      "0d:00:00:10 | 0d:00:00:00 | #################### | 5000/5000 | 467.14       \n",
      "Final Score: 14\n",
      "[2, 4] [1, 10, 2, 10]\n",
      "{'obs1': 2, 'obs2': 10, 'obs4': 0, 'obs5': 0, 'obs6': 0}\n",
      "Time spent  | Time remain.| Progress             | Trace     | Traces/sec\n",
      "0d:00:00:11 | 0d:00:00:00 | #################### | 5000/5000 | 451.13       \n",
      "1\n",
      "8\n",
      "Final Score: 15\n",
      "[3, 8] [6, 5, 10]\n",
      "{'obs1': 10, 'obs3': 0, 'obs4': 0, 'obs5': 0, 'obs6': 0}\n",
      "Time spent  | Time remain.| Progress             | Trace     | Traces/sec\n",
      "0d:00:00:10 | 0d:00:00:00 | #################### | 5000/5000 | 471.17       \n",
      "8\n",
      "Final Score: 19\n",
      "[8, 1] [10, 3, 3]\n",
      "{'obs1': 3, 'obs3': 0, 'obs4': 0, 'obs5': 0, 'obs6': 0}\n",
      "Time spent  | Time remain.| Progress             | Trace     | Traces/sec\n",
      "0d:00:00:11 | 0d:00:00:00 | #################### | 5000/5000 | 452.52       \n",
      "7\n",
      "Final Score: 16\n",
      "[7, 5] [10, 9]\n",
      "{'obs2': 0, 'obs3': 0, 'obs4': 0, 'obs5': 0, 'obs6': 0}\n",
      "Time spent  | Time remain.| Progress             | Trace     | Traces/sec\n",
      "0d:00:00:11 | 0d:00:00:00 | #################### | 5000/5000 | 437.75       \n",
      "1\n",
      "4\n",
      "Final Score: 17\n",
      "[10, 9] [6, 7, 2, 3]\n",
      "{'obs1': 2, 'obs2': 3, 'obs4': 0, 'obs5': 0, 'obs6': 0}\n",
      "Time spent  | Time remain.| Progress             | Trace     | Traces/sec\n",
      "0d:00:00:10 | 0d:00:00:00 | #################### | 5000/5000 | 455.10       \n",
      "Final Score: 19\n",
      "[9, 7] [1, 4, 2, 8, 6]\n",
      "{'obs1': 2, 'obs2': 8, 'obs3': 6, 'obs5': 0, 'obs6': 0}\n",
      "Time spent  | Time remain.| Progress             | Trace     | Traces/sec\n",
      "0d:00:00:11 | 0d:00:00:00 | #################### | 5000/5000 | 432.18       \n",
      "Final Score: 16\n",
      "[2, 1] [4, 6, 10]\n",
      "{'obs1': 10, 'obs3': 0, 'obs4': 0, 'obs5': 0, 'obs6': 0}\n",
      "Time spent  | Time remain.| Progress             | Trace     | Traces/sec\n",
      "0d:00:00:11 | 0d:00:00:00 | #################### | 5000/5000 | 425.83       \n",
      "10\n",
      "7\n",
      "Final Score: 20\n",
      "[9, 10] [3, 10, 2, 6]\n",
      "{'obs1': 2, 'obs2': 6, 'obs4': 0, 'obs5': 0, 'obs6': 0}\n",
      "Time spent  | Time remain.| Progress             | Trace     | Traces/sec\n",
      "0d:00:00:11 | 0d:00:00:00 | #################### | 5000/5000 | 445.41       \n",
      "Final Score: 19\n",
      "[9, 10] [10, 10]\n",
      "{'obs2': 0, 'obs3': 0, 'obs4': 0, 'obs5': 0, 'obs6': 0}\n",
      "Time spent  | Time remain.| Progress             | Trace     | Traces/sec\n",
      "0d:00:00:10 | 0d:00:00:00 | #################### | 5000/5000 | 480.35       \n",
      "Final Score: 19\n",
      "[9, 4] [10, 8]\n",
      "{'obs2': 0, 'obs3': 0, 'obs4': 0, 'obs5': 0, 'obs6': 0}\n",
      "Time spent  | Time remain.| Progress             | Trace     | Traces/sec\n",
      "0d:00:00:10 | 0d:00:00:00 | #################### | 5000/5000 | 460.09       \n",
      "3\n",
      "10\n",
      "Final Score: 26\n",
      "[4, 2] [10, 2, 9]\n",
      "{'obs1': 9, 'obs3': 0, 'obs4': 0, 'obs5': 0, 'obs6': 0}\n",
      "Time spent  | Time remain.| Progress             | Trace     | Traces/sec\n",
      "0d:00:00:10 | 0d:00:00:00 | #################### | 5000/5000 | 459.82       \n",
      "6\n",
      "6\n",
      "Final Score: 18\n",
      "[5, 8] [9, 7]\n",
      "{'obs2': 0, 'obs3': 0, 'obs4': 0, 'obs5': 0, 'obs6': 0}\n",
      "Time spent  | Time remain.| Progress             | Trace     | Traces/sec\n",
      "0d:00:00:10 | 0d:00:00:00 | #################### | 5000/5000 | 484.20       \n",
      "10\n",
      "Final Score: 23\n",
      "[10, 10] [10, 10]\n",
      "{'obs2': 0, 'obs3': 0, 'obs4': 0, 'obs5': 0, 'obs6': 0}\n",
      "Time spent  | Time remain.| Progress             | Trace     | Traces/sec\n",
      "0d:00:00:10 | 0d:00:00:00 | #################### | 5000/5000 | 489.73       \n",
      "Final Score: 20\n",
      "[2, 10] [9, 5, 9]\n",
      "{'obs1': 9, 'obs3': 0, 'obs4': 0, 'obs5': 0, 'obs6': 0}\n",
      "Time spent  | Time remain.| Progress             | Trace     | Traces/sec\n",
      "0d:00:00:11 | 0d:00:00:00 | #################### | 5000/5000 | 422.65       \n",
      "7\n",
      "Final Score: 19\n",
      "[3, 9] [2, 6, 5, 1, 5]\n",
      "{'obs1': 5, 'obs2': 1, 'obs3': 5, 'obs5': 0, 'obs6': 0}\n",
      "Time spent  | Time remain.| Progress             | Trace     | Traces/sec\n",
      "0d:00:00:10 | 0d:00:00:00 | #################### | 5000/5000 | 480.45       \n",
      "Final Score: 12\n",
      "[10, 9] [10, 7]\n",
      "{'obs2': 0, 'obs3': 0, 'obs4': 0, 'obs5': 0, 'obs6': 0}\n",
      "Time spent  | Time remain.| Progress             | Trace     | Traces/sec\n"
     ]
    },
    {
     "name": "stdout",
     "output_type": "stream",
     "text": [
      "0d:00:00:10 | 0d:00:00:00 | #################### | 5000/5000 | 479.14       \n",
      "Final Score: 19\n",
      "[5, 4] [10, 2, 3, 8]\n",
      "{'obs1': 3, 'obs2': 8, 'obs4': 0, 'obs5': 0, 'obs6': 0}\n",
      "Time spent  | Time remain.| Progress             | Trace     | Traces/sec\n",
      "0d:00:00:10 | 0d:00:00:00 | #################### | 5000/5000 | 476.41       \n",
      "6\n",
      "Final Score: 15\n",
      "[9, 10] [10, 5, 10]\n",
      "{'obs1': 10, 'obs3': 0, 'obs4': 0, 'obs5': 0, 'obs6': 0}\n",
      "Time spent  | Time remain.| Progress             | Trace     | Traces/sec\n",
      "0d:00:00:10 | 0d:00:00:00 | #################### | 5000/5000 | 483.47       \n",
      "Final Score: 19\n",
      "[5, 10] [10, 6]\n",
      "{'obs2': 0, 'obs3': 0, 'obs4': 0, 'obs5': 0, 'obs6': 0}\n",
      "Time spent  | Time remain.| Progress             | Trace     | Traces/sec\n",
      "0d:00:00:10 | 0d:00:00:00 | #################### | 5000/5000 | 468.84       \n",
      "3\n",
      "Final Score: 18\n",
      "[10, 3] [1, 7, 8]\n",
      "{'obs1': 8, 'obs3': 0, 'obs4': 0, 'obs5': 0, 'obs6': 0}\n",
      "Time spent  | Time remain.| Progress             | Trace     | Traces/sec\n",
      "0d:00:00:10 | 0d:00:00:00 | #################### | 5000/5000 | 468.05       \n",
      "Final Score: 13\n",
      "[6, 5] [10, 3, 9]\n",
      "{'obs1': 9, 'obs3': 0, 'obs4': 0, 'obs5': 0, 'obs6': 0}\n",
      "Time spent  | Time remain.| Progress             | Trace     | Traces/sec\n",
      "0d:00:00:10 | 0d:00:00:00 | #################### | 5000/5000 | 469.07       \n",
      "10\n",
      "Final Score: 21\n",
      "[2, 8] [1, 10, 6]\n",
      "{'obs1': 6, 'obs3': 0, 'obs4': 0, 'obs5': 0, 'obs6': 0}\n",
      "Time spent  | Time remain.| Progress             | Trace     | Traces/sec\n",
      "0d:00:00:10 | 0d:00:00:00 | #################### | 5000/5000 | 461.85       \n",
      "7\n",
      "Final Score: 17\n",
      "[10, 4] [10, 2, 10]\n",
      "{'obs1': 10, 'obs3': 0, 'obs4': 0, 'obs5': 0, 'obs6': 0}\n",
      "Time spent  | Time remain.| Progress             | Trace     | Traces/sec\n",
      "0d:00:00:10 | 0d:00:00:00 | #################### | 5000/5000 | 480.97       \n",
      "6\n",
      "Final Score: 20\n",
      "[3, 3] [2, 5, 6, 10]\n",
      "{'obs1': 6, 'obs2': 10, 'obs4': 0, 'obs5': 0, 'obs6': 0}\n",
      "Time spent  | Time remain.| Progress             | Trace     | Traces/sec\n",
      "0d:00:00:10 | 0d:00:00:00 | #################### | 5000/5000 | 491.80       \n",
      "10\n",
      "Final Score: 16\n",
      "[10, 6] [1, 8, 2, 3, 2]\n",
      "{'obs1': 2, 'obs2': 3, 'obs3': 2, 'obs5': 0, 'obs6': 0}\n",
      "Time spent  | Time remain.| Progress             | Trace     | Traces/sec\n",
      "0d:00:00:10 | 0d:00:00:00 | #################### | 5000/5000 | 490.34       \n",
      "Final Score: 16\n",
      "[7, 2] [10, 9]\n",
      "{'obs2': 0, 'obs3': 0, 'obs4': 0, 'obs5': 0, 'obs6': 0}\n",
      "Time spent  | Time remain.| Progress             | Trace     | Traces/sec\n",
      "0d:00:00:10 | 0d:00:00:00 | #################### | 5000/5000 | 464.03       \n",
      "4\n",
      "9\n",
      "Final Score: 22\n",
      "[9, 6] [10, 5, 10]\n",
      "{'obs1': 10, 'obs3': 0, 'obs4': 0, 'obs5': 0, 'obs6': 0}\n",
      "Time spent  | Time remain.| Progress             | Trace     | Traces/sec\n",
      "0d:00:00:10 | 0d:00:00:00 | #################### | 5000/5000 | 468.47       \n",
      "Final Score: 15\n",
      "[8, 10] [10, 8]\n",
      "{'obs2': 0, 'obs3': 0, 'obs4': 0, 'obs5': 0, 'obs6': 0}\n",
      "Time spent  | Time remain.| Progress             | Trace     | Traces/sec\n",
      "0d:00:00:10 | 0d:00:00:00 | #################### | 5000/5000 | 498.08       \n",
      "Final Score: 18\n",
      "[5, 6] [7, 2, 8]\n",
      "{'obs1': 8, 'obs3': 0, 'obs4': 0, 'obs5': 0, 'obs6': 0}\n",
      "Time spent  | Time remain.| Progress             | Trace     | Traces/sec\n",
      "0d:00:00:09 | 0d:00:00:00 | #################### | 5000/5000 | 501.97       \n",
      "10\n",
      "Final Score: 21\n",
      "[3, 7] [10, 9]\n",
      "{'obs2': 0, 'obs3': 0, 'obs4': 0, 'obs5': 0, 'obs6': 0}\n",
      "Time spent  | Time remain.| Progress             | Trace     | Traces/sec\n",
      "0d:00:00:09 | 0d:00:00:00 | #################### | 5000/5000 | 511.37       \n",
      "10\n",
      "Final Score: 20\n",
      "[5, 10] [6, 10]\n",
      "{'obs2': 0, 'obs3': 0, 'obs4': 0, 'obs5': 0, 'obs6': 0}\n",
      "Time spent  | Time remain.| Progress             | Trace     | Traces/sec\n",
      "0d:00:00:11 | 0d:00:00:00 | #################### | 5000/5000 | 434.78       \n",
      "3\n",
      "Final Score: 18\n",
      "[6, 6] [1, 5, 4, 10]\n",
      "{'obs1': 4, 'obs2': 10, 'obs4': 0, 'obs5': 0, 'obs6': 0}\n",
      "Time spent  | Time remain.| Progress             | Trace     | Traces/sec\n",
      "0d:00:00:11 | 0d:00:00:00 | #################### | 5000/5000 | 446.21       \n",
      "Final Score: 12\n",
      "\n",
      "\n",
      "Final Wealth after 50 games: 3\n"
     ]
    }
   ],
   "source": [
    "wealth = 0\n",
    "n = 50\n",
    "\n",
    "for i in range(n):\n",
    "\n",
    "    deck, player_cards, dealer_cards, score = model.forward_game()\n",
    "    print(player_cards, dealer_cards)\n",
    "    inferred_dealer_dist = infer_dealer_score(dealer_cards, 5000)\n",
    "\n",
    "    player_score = play(deck, player_cards, dealer_cards, inferred_dealer_dist)\n",
    "    dealer_score = sum(dealer_cards)\n",
    "    wealth += payout(player_score, dealer_score)\n",
    "\n",
    "print('\\n')\n",
    "print('Final Wealth after {} games: {}'.format(n, wealth))"
   ]
  },
  {
   "cell_type": "code",
   "execution_count": 915,
   "metadata": {},
   "outputs": [
    {
     "data": {
      "image/png": "[encoded data removed]",
      "text/plain": [
       "<Figure size 720x360 with 1 Axes>"
      ]
     },
     "metadata": {},
     "output_type": "display_data"
    }
   ],
   "source": [
    "inferred_dealer_dist.plot()"
   ]
  },
  {
   "cell_type": "code",
   "execution_count": null,
   "metadata": {},
   "outputs": [],
   "source": []
  }
 ],
 "metadata": {
  "kernelspec": {
   "display_name": "Python 3",
   "language": "python",
   "name": "python3"
  },
  "language_info": {
   "codemirror_mode": {
    "name": "ipython",
    "version": 3
   },
   "file_extension": ".py",
   "mimetype": "text/x-python",
   "name": "python",
   "nbconvert_exporter": "python",
   "pygments_lexer": "ipython3",
   "version": "3.7.5"
  }
 },
 "nbformat": 4,
 "nbformat_minor": 2
}
