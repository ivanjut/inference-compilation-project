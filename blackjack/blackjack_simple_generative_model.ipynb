{
 "cells": [
  {
   "cell_type": "code",
   "execution_count": 1,
   "metadata": {},
   "outputs": [],
   "source": [
    "import pyprob\n",
    "from pyprob import Model\n",
    "from pyprob.distributions import Normal, Uniform, Categorical, Beta\n",
    "\n",
    "import torch\n",
    "import numpy as np\n",
    "import pandas as pd\n",
    "import math\n",
    "import random\n",
    "import matplotlib.pyplot as plt;\n",
    "import seaborn as sns; sns.set()\n",
    "%matplotlib inline"
   ]
  },
  {
   "cell_type": "code",
   "execution_count": 2,
   "metadata": {},
   "outputs": [],
   "source": [
    "faces_to_values = {str(i): i for i in range(2,11)}\n",
    "faces_to_values['A'] = 1\n",
    "for f in ['K', 'Q', 'J']:\n",
    "    faces_to_values[f] = 10"
   ]
  },
  {
   "cell_type": "code",
   "execution_count": 3,
   "metadata": {},
   "outputs": [],
   "source": [
    "class Card:\n",
    "    def __init__(self, face):\n",
    "        \"\"\"\n",
    "        Value: {1, ..., 10, 11, 12, 13} - 11 is J, 12 is Q, 13 is K\n",
    "        \"\"\"\n",
    "        self.face = face\n",
    "        self.value = faces_to_values[face]\n",
    "    \n",
    "    def __repr__(self):\n",
    "        return self.face"
   ]
  },
  {
   "cell_type": "code",
   "execution_count": 4,
   "metadata": {},
   "outputs": [
    {
     "data": {
      "text/plain": [
       "10"
      ]
     },
     "execution_count": 4,
     "metadata": {},
     "output_type": "execute_result"
    }
   ],
   "source": [
    "Card('K').value"
   ]
  },
  {
   "cell_type": "code",
   "execution_count": 5,
   "metadata": {},
   "outputs": [],
   "source": [
    "def create_deck(num_decks):\n",
    "    deck = []\n",
    "    for _ in range(num_decks):\n",
    "        for face in faces_to_values.keys():\n",
    "            new_card = Card(face)\n",
    "            deck.append(new_card)\n",
    "    \n",
    "    return deck"
   ]
  },
  {
   "cell_type": "code",
   "execution_count": 6,
   "metadata": {},
   "outputs": [],
   "source": [
    "deck = create_deck(2)"
   ]
  },
  {
   "cell_type": "code",
   "execution_count": 7,
   "metadata": {},
   "outputs": [
    {
     "data": {
      "text/plain": [
       "26"
      ]
     },
     "execution_count": 7,
     "metadata": {},
     "output_type": "execute_result"
    }
   ],
   "source": [
    "len(deck)"
   ]
  },
  {
   "cell_type": "code",
   "execution_count": 8,
   "metadata": {},
   "outputs": [],
   "source": [
    "class Blackjack(Model):\n",
    "    \n",
    "    def __init__(self, num_decks):\n",
    "        super().__init__(name='Number game')\n",
    "        self.num_decks = num_decks\n",
    "        self.deck = self._create_decks()\n",
    "        self.cards = {}\n",
    "    \n",
    "    def _create_decks(self):\n",
    "        deck = []\n",
    "        for _ in range(self.num_decks):\n",
    "            for face in faces_to_values.keys():\n",
    "                new_card = Card(face)\n",
    "                deck.append(new_card)\n",
    "\n",
    "        return deck\n",
    "    \n",
    "    \n",
    "    def _deal(self, deck):\n",
    "        np.random.shuffle(deck)\n",
    "        \n",
    "        # Dealer\n",
    "        dealer_card1 = deck.pop()\n",
    "        dealer_card2 = deck.pop()\n",
    "        self.cards['dealer'] = [dealer_card1, dealer_card2]\n",
    "        \n",
    "        # Player\n",
    "        player_card1 = deck.pop()\n",
    "        player_card2 = deck.pop()\n",
    "        self.cards['player'] = [player_card1, player_card2]\n",
    "            \n",
    "    \n",
    "    def compute_prob_draw_value(self, deck):\n",
    "        counts = np.zeros(11)\n",
    "        for card in deck:\n",
    "            counts[card.value] += 1\n",
    "        return counts\n",
    "            \n",
    "    \n",
    "    def forward(self):\n",
    "        \"\"\"\n",
    "        Generative sampling process\n",
    "        \"\"\"\n",
    "        score = 0  # latent variable to infer\n",
    "        \n",
    "        deck_copy = self.deck.copy()\n",
    "        self._deal(deck_copy)\n",
    "        \n",
    "        hidden_cards = self.cards['dealer']\n",
    "        \n",
    "        score += hidden_cards[0].value + hidden_cards[1].value\n",
    "        \n",
    "        i = 0\n",
    "        while score < 16:\n",
    "            likelihood = Categorical(self.compute_prob_draw_value(self.deck))\n",
    "            new_card = deck_copy.pop()\n",
    "            pyprob.observe(likelihood, name='obs{}'.format(i))\n",
    "            score += new_card.value\n",
    "            i += 1\n",
    "        \n",
    "        return score\n",
    "    \n",
    "    \n",
    "model = Blackjack(num_decks=2)\n",
    "# model_nn = NumberGame(max_num=100, mult_range_start=2, mult_range_end=10, interval_range_length=10, mult_weight=20)"
   ]
  },
  {
   "cell_type": "code",
   "execution_count": 9,
   "metadata": {},
   "outputs": [
    {
     "name": "stdout",
     "output_type": "stream",
     "text": [
      "Time spent  | Time remain.| Progress             | Trace     | Traces/sec\n",
      "0d:00:00:00 | 0d:00:00:00 | #################### | 1000/1000 | 4,583.10       \n"
     ]
    }
   ],
   "source": [
    "prior = model.prior_results(num_traces=1000)"
   ]
  },
  {
   "cell_type": "code",
   "execution_count": 86,
   "metadata": {},
   "outputs": [
    {
     "data": {
      "text/plain": [
       "Text(0.5, 0, 'Concept indices')"
      ]
     },
     "execution_count": 86,
     "metadata": {},
     "output_type": "execute_result"
    }
   ],
   "source": [
    "prior.plot_histogram(show=False, alpha=0.75, label='empirical prior', bins=99)\n",
    "plt.title('Prior for concepts')\n",
    "plt.xlabel('Concept indices')\n",
    "# plt.savefig('images/concept_prior.png')"
   ]
  },
  {
   "cell_type": "code",
   "execution_count": null,
   "metadata": {},
   "outputs": [],
   "source": []
  }
 ],
 "metadata": {
  "kernelspec": {
   "display_name": "Python 3",
   "language": "python",
   "name": "python3"
  },
  "language_info": {
   "codemirror_mode": {
    "name": "ipython",
    "version": 3
   },
   "file_extension": ".py",
   "mimetype": "text/x-python",
   "name": "python",
   "nbconvert_exporter": "python",
   "pygments_lexer": "ipython3",
   "version": "3.7.4"
  }
 },
 "nbformat": 4,
 "nbformat_minor": 2
}
