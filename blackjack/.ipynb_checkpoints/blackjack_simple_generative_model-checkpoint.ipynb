{
 "cells": [
  {
   "cell_type": "code",
   "execution_count": 1,
   "metadata": {},
   "outputs": [],
   "source": [
    "import pyprob\n",
    "from pyprob import Model\n",
    "from pyprob.distributions import Normal, Uniform, Categorical, Beta\n",
    "\n",
    "import torch\n",
    "import numpy as np\n",
    "import pandas as pd\n",
    "import math\n",
    "import random\n",
    "import matplotlib.pyplot as plt;\n",
    "import seaborn as sns; sns.set()\n",
    "%matplotlib inline"
   ]
  },
  {
   "cell_type": "code",
   "execution_count": 44,
   "metadata": {},
   "outputs": [],
   "source": [
    "faces_to_values = {str(i): i for i in range(2,11)}\n",
    "faces_to_values['A'] = 1\n",
    "for f in ['K', 'Q', 'J']:\n",
    "    faces_to_values[f] = 10"
   ]
  },
  {
   "cell_type": "code",
   "execution_count": 48,
   "metadata": {},
   "outputs": [],
   "source": [
    "class Card:\n",
    "    def __init__(self, face):\n",
    "        \"\"\"\n",
    "        Value: {1, ..., 10, 11, 12, 13} - 11 is J, 12 is Q, 13 is K\n",
    "        \"\"\"\n",
    "        self.face = face\n",
    "        self.value = faces_to_values[face]\n",
    "    \n",
    "    def __repr__(self):\n",
    "        return self.face"
   ]
  },
  {
   "cell_type": "code",
   "execution_count": 50,
   "metadata": {},
   "outputs": [
    {
     "data": {
      "text/plain": [
       "10"
      ]
     },
     "execution_count": 50,
     "metadata": {},
     "output_type": "execute_result"
    }
   ],
   "source": [
    "Card('K').value"
   ]
  },
  {
   "cell_type": "code",
   "execution_count": 53,
   "metadata": {},
   "outputs": [],
   "source": [
    "def create_deck(num_decks):\n",
    "    deck = []\n",
    "    for _ in range(num_decks):\n",
    "        for face in faces_to_values.keys():\n",
    "            new_card = Card(face)\n",
    "            deck.append(new_card)\n",
    "    \n",
    "    return deck"
   ]
  },
  {
   "cell_type": "code",
   "execution_count": 57,
   "metadata": {},
   "outputs": [],
   "source": [
    "deck = create_deck(2)"
   ]
  },
  {
   "cell_type": "code",
   "execution_count": 55,
   "metadata": {},
   "outputs": [
    {
     "data": {
      "text/plain": [
       "13"
      ]
     },
     "execution_count": 55,
     "metadata": {},
     "output_type": "execute_result"
    }
   ],
   "source": [
    "len(deck)"
   ]
  },
  {
   "cell_type": "code",
   "execution_count": 38,
   "metadata": {},
   "outputs": [],
   "source": [
    "class Blackjack(Model):\n",
    "    \n",
    "    def __init__(self, num_decks):\n",
    "        super().__init__(name='Number game')\n",
    "        self.num_decks = num_decks\n",
    "        self.deck = self._create_decks()\n",
    "        self.cards = {}\n",
    "    \n",
    "    def _create_decks(self):\n",
    "        deck = []\n",
    "        for _ in range(self.num_decks):\n",
    "            for face in faces_to_values.keys():\n",
    "                new_card = Card(face)\n",
    "                deck.append(new_card)\n",
    "\n",
    "        return deck\n",
    "    \n",
    "    \n",
    "    def _deal(self):\n",
    "        np.random.shuffle(self.deck)\n",
    "        \n",
    "        # Dealer\n",
    "        dealer_card1 = self.deck.pop()\n",
    "        dealer_card2 = self.deck.pop()\n",
    "        self.cards['dealer'] = [dealer_card1, dealer_card2]\n",
    "        \n",
    "        # Player\n",
    "        player_card1 = self.deck.pop()\n",
    "        player_card2 = self.deck.pop()\n",
    "        self.cards['player'] = [player_card1, player_card2]\n",
    "            \n",
    "    \n",
    "    def _hit_or_stay(curr_score):\n",
    "        if curr_score < 16:\n",
    "            return 1\n",
    "        else:\n",
    "            return 0\n",
    "    \n",
    "    \n",
    "    def forward(self):\n",
    "        \"\"\"\n",
    "        Generative sampling process\n",
    "        \"\"\"\n",
    "        score = 0  # latent variable to infer\n",
    "        self._deal()\n",
    "        \n",
    "        hidden_cards = self.cards['dealer']\n",
    "        \n",
    "        score += hidden_cards[0] + hidden_cards[1]\n",
    "        \n",
    "        while score < 16:\n",
    "            new_card = self.deck.pop()\n",
    "            score += new_card.value\n",
    "        \n",
    "        \n",
    "        \n",
    "        \n",
    "        shown_cards = [dealer_shown_card]\n",
    "        for i in range(1, self.num_players+1):\n",
    "            shown_cards.extend(self.cards[i])\n",
    "        print(shown_cards)\n",
    "        \n",
    "        return latent_card\n",
    "        \n",
    "        # define the likelihood\n",
    "#         likelihood = Categorical(concept.probs)\n",
    "#         print(likelihood)\n",
    "\n",
    "#         # Lets add two observed variables\n",
    "#         # -> the 'name' argument is used later to assignment values:\n",
    "#         pyprob.observe(likelihood, name='obs1') # NOTE: observe -> denotes observable variables\n",
    "#         pyprob.observe(likelihood, name='obs2')\n",
    "#         pyprob.observe(likelihood, name='obs3')\n",
    "\n",
    "#         # return the latent quantity of interest\n",
    "#         print(concept)\n",
    "#         return int(concept_index)\n",
    "    \n",
    "model = Blackjack(num_decks=1, num_players=2)\n",
    "# model_nn = NumberGame(max_num=100, mult_range_start=2, mult_range_end=10, interval_range_length=10, mult_weight=20)"
   ]
  },
  {
   "cell_type": "code",
   "execution_count": 41,
   "metadata": {},
   "outputs": [
    {
     "name": "stdout",
     "output_type": "stream",
     "text": [
      "[2 of spades, 6 of diamonds, A of hearts, 5 of clubs, Q of hearts]\n"
     ]
    },
    {
     "data": {
      "text/plain": [
       "2 of hearts"
      ]
     },
     "execution_count": 41,
     "metadata": {},
     "output_type": "execute_result"
    }
   ],
   "source": [
    "model.forward()"
   ]
  },
  {
   "cell_type": "code",
   "execution_count": null,
   "metadata": {},
   "outputs": [],
   "source": []
  },
  {
   "cell_type": "code",
   "execution_count": null,
   "metadata": {},
   "outputs": [],
   "source": []
  }
 ],
 "metadata": {
  "kernelspec": {
   "display_name": "Python 3",
   "language": "python",
   "name": "python3"
  },
  "language_info": {
   "codemirror_mode": {
    "name": "ipython",
    "version": 3
   },
   "file_extension": ".py",
   "mimetype": "text/x-python",
   "name": "python",
   "nbconvert_exporter": "python",
   "pygments_lexer": "ipython3",
   "version": "3.7.4"
  }
 },
 "nbformat": 4,
 "nbformat_minor": 2
}
